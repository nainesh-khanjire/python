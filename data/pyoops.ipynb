{
 "cells": [
  {
   "cell_type": "markdown",
   "id": "99701607-def4-4adf-a85c-4dcc3f2fde2a",
   "metadata": {},
   "source": [
    "# **OOP PART-I**"
   ]
  },
  {
   "cell_type": "code",
   "execution_count": 2,
   "id": "70683d1a-590d-4663-88d0-8dcac1ec8bba",
   "metadata": {},
   "outputs": [],
   "source": [
    "#class\n",
    "class Employee:\n",
    "    '''this  is employee class'''\n",
    "    employee_id = 101325"
   ]
  },
  {
   "cell_type": "code",
   "execution_count": 3,
   "id": "1db486b4-e5d5-4955-a171-eb60ebffe178",
   "metadata": {},
   "outputs": [],
   "source": [
    "emp1 = Employee()"
   ]
  },
  {
   "cell_type": "code",
   "execution_count": 4,
   "id": "1ae642f4-6071-4e3a-93b1-ee68f00e3313",
   "metadata": {},
   "outputs": [
    {
     "data": {
      "text/plain": [
       "101325"
      ]
     },
     "execution_count": 4,
     "metadata": {},
     "output_type": "execute_result"
    }
   ],
   "source": [
    "emp1.employee_id\n"
   ]
  },
  {
   "cell_type": "code",
   "execution_count": 8,
   "id": "b7e49363-3a0c-4a1a-9cdc-99f2a8f6401d",
   "metadata": {},
   "outputs": [],
   "source": [
    "#CONSTRUCTOR\n",
    "#constructor is a special method to initialze objects\n",
    "#__init__() used to define constructor"
   ]
  },
  {
   "cell_type": "code",
   "execution_count": 26,
   "id": "190ead59-8b30-4336-a565-9348cde5cc2b",
   "metadata": {},
   "outputs": [],
   "source": [
    "class Employees:\n",
    "    '''employee class'''\n",
    "    def __init__(s):\n",
    "        s.name = 'nainesh'\n",
    "        s.age = 23\n",
    "        s.id = 101325"
   ]
  },
  {
   "cell_type": "code",
   "execution_count": 32,
   "id": "fe0fb4e7-fdb1-4b1d-a251-2a93e9450076",
   "metadata": {},
   "outputs": [],
   "source": [
    "e = Employees()\n",
    "#reference variable"
   ]
  },
  {
   "cell_type": "code",
   "execution_count": 29,
   "id": "a14a1ab9-40fa-45de-aa11-718ddaf016d3",
   "metadata": {},
   "outputs": [
    {
     "data": {
      "text/plain": [
       "'nainesh'"
      ]
     },
     "execution_count": 29,
     "metadata": {},
     "output_type": "execute_result"
    }
   ],
   "source": [
    "e.name"
   ]
  },
  {
   "cell_type": "code",
   "execution_count": 30,
   "id": "8f340a37-df92-4eea-98db-8b3a30c50b60",
   "metadata": {},
   "outputs": [
    {
     "data": {
      "text/plain": [
       "23"
      ]
     },
     "execution_count": 30,
     "metadata": {},
     "output_type": "execute_result"
    }
   ],
   "source": [
    "e.age"
   ]
  },
  {
   "cell_type": "code",
   "execution_count": 31,
   "id": "321c6c0c-d5f2-40e6-b924-55df63e538e6",
   "metadata": {},
   "outputs": [
    {
     "data": {
      "text/plain": [
       "101325"
      ]
     },
     "execution_count": 31,
     "metadata": {},
     "output_type": "execute_result"
    }
   ],
   "source": [
    "e.id"
   ]
  },
  {
   "cell_type": "code",
   "execution_count": null,
   "id": "bf770c8d-1c93-4ebe-8b7d-36c112923dc4",
   "metadata": {},
   "outputs": [],
   "source": []
  }
 ],
 "metadata": {
  "kernelspec": {
   "display_name": "Python 3 (ipykernel)",
   "language": "python",
   "name": "python3"
  },
  "language_info": {
   "codemirror_mode": {
    "name": "ipython",
    "version": 3
   },
   "file_extension": ".py",
   "mimetype": "text/x-python",
   "name": "python",
   "nbconvert_exporter": "python",
   "pygments_lexer": "ipython3",
   "version": "3.9.12"
  }
 },
 "nbformat": 4,
 "nbformat_minor": 5
}
