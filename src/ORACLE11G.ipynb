{
 "cells": [
  {
   "cell_type": "raw",
   "id": "80a50c67",
   "metadata": {},
   "source": [
    "HR SCHEMA >>\n",
    "\n",
    "EMPLOYEES\n",
    "DEPARTMENTS\n",
    "REGIONS\n",
    "COUNTRY\n",
    "JOBS\n",
    "JOB_HISTORY\n",
    "LOCATIONS"
   ]
  },
  {
   "cell_type": "code",
   "execution_count": 22,
   "id": "dd83c3dd",
   "metadata": {},
   "outputs": [
    {
     "ename": "DatabaseError",
     "evalue": "Execution failed on sql '\n    \n    \n    SELECT E.*, ROWNUMBER() OVER() AS rn\n    FROM EMPLOYEES E\n    \n    \n    \n    \n                        ': ORA-00904: \"ROWNUMBER\": invalid identifier",
     "output_type": "error",
     "traceback": [
      "\u001b[1;31m---------------------------------------------------------------------------\u001b[0m",
      "\u001b[1;31mDatabaseError\u001b[0m                             Traceback (most recent call last)",
      "File \u001b[1;32mD:\\jupyterlab\\python\\python\\lib\\site-packages\\pandas\\io\\sql.py:2056\u001b[0m, in \u001b[0;36mSQLiteDatabase.execute\u001b[1;34m(self, *args, **kwargs)\u001b[0m\n\u001b[0;32m   2055\u001b[0m \u001b[38;5;28;01mtry\u001b[39;00m:\n\u001b[1;32m-> 2056\u001b[0m     cur\u001b[38;5;241m.\u001b[39mexecute(\u001b[38;5;241m*\u001b[39margs, \u001b[38;5;241m*\u001b[39m\u001b[38;5;241m*\u001b[39mkwargs)\n\u001b[0;32m   2057\u001b[0m     \u001b[38;5;28;01mreturn\u001b[39;00m cur\n",
      "\u001b[1;31mDatabaseError\u001b[0m: ORA-00904: \"ROWNUMBER\": invalid identifier",
      "\nThe above exception was the direct cause of the following exception:\n",
      "\u001b[1;31mDatabaseError\u001b[0m                             Traceback (most recent call last)",
      "Cell \u001b[1;32mIn [22], line 23\u001b[0m\n\u001b[0;32m     20\u001b[0m     pd\u001b[38;5;241m.\u001b[39mset_option(\u001b[38;5;124m'\u001b[39m\u001b[38;5;124mdisplay.max_columns\u001b[39m\u001b[38;5;124m'\u001b[39m, \u001b[38;5;241m100\u001b[39m)\n\u001b[0;32m     21\u001b[0m     \u001b[38;5;28;01mreturn\u001b[39;00m df\n\u001b[1;32m---> 23\u001b[0m \u001b[43moracle\u001b[49m\u001b[43m(\u001b[49m\u001b[43m)\u001b[49m\n",
      "Cell \u001b[1;32mIn [22], line 8\u001b[0m, in \u001b[0;36moracle\u001b[1;34m()\u001b[0m\n\u001b[0;32m      5\u001b[0m \u001b[38;5;28;01mimport\u001b[39;00m \u001b[38;5;21;01mpandas\u001b[39;00m \u001b[38;5;28;01mas\u001b[39;00m \u001b[38;5;21;01mpd\u001b[39;00m\n\u001b[0;32m      7\u001b[0m conn \u001b[38;5;241m=\u001b[39m cx_Oracle\u001b[38;5;241m.\u001b[39mconnect(\u001b[38;5;124m'\u001b[39m\u001b[38;5;124mHR/PASSWORD@LOCALHOST:1521/XE\u001b[39m\u001b[38;5;124m'\u001b[39m)\n\u001b[1;32m----> 8\u001b[0m df \u001b[38;5;241m=\u001b[39m \u001b[43mpd\u001b[49m\u001b[38;5;241;43m.\u001b[39;49m\u001b[43mread_sql_query\u001b[49m\u001b[43m(\u001b[49m\u001b[38;5;124;43m'''\u001b[39;49m\n\u001b[0;32m      9\u001b[0m \u001b[38;5;124;43m\u001b[39;49m\n\u001b[0;32m     10\u001b[0m \u001b[38;5;124;43m\u001b[39;49m\n\u001b[0;32m     11\u001b[0m \u001b[38;5;124;43mSELECT E.*, ROWNUMBER() OVER() AS rn\u001b[39;49m\n\u001b[0;32m     12\u001b[0m \u001b[38;5;124;43mFROM EMPLOYEES E\u001b[39;49m\n\u001b[0;32m     13\u001b[0m \u001b[38;5;124;43m\u001b[39;49m\n\u001b[0;32m     14\u001b[0m \u001b[38;5;124;43m\u001b[39;49m\n\u001b[0;32m     15\u001b[0m \u001b[38;5;124;43m\u001b[39;49m\n\u001b[0;32m     16\u001b[0m \u001b[38;5;124;43m\u001b[39;49m\n\u001b[0;32m     17\u001b[0m \u001b[38;5;124;43m                    \u001b[39;49m\u001b[38;5;124;43m'''\u001b[39;49m\u001b[43m,\u001b[49m\u001b[43mcon\u001b[49m\u001b[38;5;241;43m=\u001b[39;49m\u001b[43mconn\u001b[49m\u001b[43m)\u001b[49m\n\u001b[0;32m     18\u001b[0m conn\u001b[38;5;241m.\u001b[39mclose()\n\u001b[0;32m     19\u001b[0m pd\u001b[38;5;241m.\u001b[39mset_option(\u001b[38;5;124m'\u001b[39m\u001b[38;5;124mdisplay.max_rows\u001b[39m\u001b[38;5;124m'\u001b[39m, \u001b[38;5;241m20000\u001b[39m)\n",
      "File \u001b[1;32mD:\\jupyterlab\\python\\python\\lib\\site-packages\\pandas\\io\\sql.py:436\u001b[0m, in \u001b[0;36mread_sql_query\u001b[1;34m(sql, con, index_col, coerce_float, params, parse_dates, chunksize, dtype)\u001b[0m\n\u001b[0;32m    378\u001b[0m \u001b[38;5;124;03m\"\"\"\u001b[39;00m\n\u001b[0;32m    379\u001b[0m \u001b[38;5;124;03mRead SQL query into a DataFrame.\u001b[39;00m\n\u001b[0;32m    380\u001b[0m \n\u001b[1;32m   (...)\u001b[0m\n\u001b[0;32m    433\u001b[0m \u001b[38;5;124;03mparameter will be converted to UTC.\u001b[39;00m\n\u001b[0;32m    434\u001b[0m \u001b[38;5;124;03m\"\"\"\u001b[39;00m\n\u001b[0;32m    435\u001b[0m pandas_sql \u001b[38;5;241m=\u001b[39m pandasSQL_builder(con)\n\u001b[1;32m--> 436\u001b[0m \u001b[38;5;28;01mreturn\u001b[39;00m \u001b[43mpandas_sql\u001b[49m\u001b[38;5;241;43m.\u001b[39;49m\u001b[43mread_query\u001b[49m\u001b[43m(\u001b[49m\n\u001b[0;32m    437\u001b[0m \u001b[43m    \u001b[49m\u001b[43msql\u001b[49m\u001b[43m,\u001b[49m\n\u001b[0;32m    438\u001b[0m \u001b[43m    \u001b[49m\u001b[43mindex_col\u001b[49m\u001b[38;5;241;43m=\u001b[39;49m\u001b[43mindex_col\u001b[49m\u001b[43m,\u001b[49m\n\u001b[0;32m    439\u001b[0m \u001b[43m    \u001b[49m\u001b[43mparams\u001b[49m\u001b[38;5;241;43m=\u001b[39;49m\u001b[43mparams\u001b[49m\u001b[43m,\u001b[49m\n\u001b[0;32m    440\u001b[0m \u001b[43m    \u001b[49m\u001b[43mcoerce_float\u001b[49m\u001b[38;5;241;43m=\u001b[39;49m\u001b[43mcoerce_float\u001b[49m\u001b[43m,\u001b[49m\n\u001b[0;32m    441\u001b[0m \u001b[43m    \u001b[49m\u001b[43mparse_dates\u001b[49m\u001b[38;5;241;43m=\u001b[39;49m\u001b[43mparse_dates\u001b[49m\u001b[43m,\u001b[49m\n\u001b[0;32m    442\u001b[0m \u001b[43m    \u001b[49m\u001b[43mchunksize\u001b[49m\u001b[38;5;241;43m=\u001b[39;49m\u001b[43mchunksize\u001b[49m\u001b[43m,\u001b[49m\n\u001b[0;32m    443\u001b[0m \u001b[43m    \u001b[49m\u001b[43mdtype\u001b[49m\u001b[38;5;241;43m=\u001b[39;49m\u001b[43mdtype\u001b[49m\u001b[43m,\u001b[49m\n\u001b[0;32m    444\u001b[0m \u001b[43m\u001b[49m\u001b[43m)\u001b[49m\n",
      "File \u001b[1;32mD:\\jupyterlab\\python\\python\\lib\\site-packages\\pandas\\io\\sql.py:2116\u001b[0m, in \u001b[0;36mSQLiteDatabase.read_query\u001b[1;34m(self, sql, index_col, coerce_float, params, parse_dates, chunksize, dtype)\u001b[0m\n\u001b[0;32m   2104\u001b[0m \u001b[38;5;28;01mdef\u001b[39;00m \u001b[38;5;21mread_query\u001b[39m(\n\u001b[0;32m   2105\u001b[0m     \u001b[38;5;28mself\u001b[39m,\n\u001b[0;32m   2106\u001b[0m     sql,\n\u001b[1;32m   (...)\u001b[0m\n\u001b[0;32m   2112\u001b[0m     dtype: DtypeArg \u001b[38;5;241m|\u001b[39m \u001b[38;5;28;01mNone\u001b[39;00m \u001b[38;5;241m=\u001b[39m \u001b[38;5;28;01mNone\u001b[39;00m,\n\u001b[0;32m   2113\u001b[0m ):\n\u001b[0;32m   2115\u001b[0m     args \u001b[38;5;241m=\u001b[39m _convert_params(sql, params)\n\u001b[1;32m-> 2116\u001b[0m     cursor \u001b[38;5;241m=\u001b[39m \u001b[38;5;28;43mself\u001b[39;49m\u001b[38;5;241;43m.\u001b[39;49m\u001b[43mexecute\u001b[49m\u001b[43m(\u001b[49m\u001b[38;5;241;43m*\u001b[39;49m\u001b[43margs\u001b[49m\u001b[43m)\u001b[49m\n\u001b[0;32m   2117\u001b[0m     columns \u001b[38;5;241m=\u001b[39m [col_desc[\u001b[38;5;241m0\u001b[39m] \u001b[38;5;28;01mfor\u001b[39;00m col_desc \u001b[38;5;129;01min\u001b[39;00m cursor\u001b[38;5;241m.\u001b[39mdescription]\n\u001b[0;32m   2119\u001b[0m     \u001b[38;5;28;01mif\u001b[39;00m chunksize \u001b[38;5;129;01mis\u001b[39;00m \u001b[38;5;129;01mnot\u001b[39;00m \u001b[38;5;28;01mNone\u001b[39;00m:\n",
      "File \u001b[1;32mD:\\jupyterlab\\python\\python\\lib\\site-packages\\pandas\\io\\sql.py:2068\u001b[0m, in \u001b[0;36mSQLiteDatabase.execute\u001b[1;34m(self, *args, **kwargs)\u001b[0m\n\u001b[0;32m   2065\u001b[0m     \u001b[38;5;28;01mraise\u001b[39;00m ex \u001b[38;5;28;01mfrom\u001b[39;00m \u001b[38;5;21;01minner_exc\u001b[39;00m\n\u001b[0;32m   2067\u001b[0m ex \u001b[38;5;241m=\u001b[39m DatabaseError(\u001b[38;5;124mf\u001b[39m\u001b[38;5;124m\"\u001b[39m\u001b[38;5;124mExecution failed on sql \u001b[39m\u001b[38;5;124m'\u001b[39m\u001b[38;5;132;01m{\u001b[39;00margs[\u001b[38;5;241m0\u001b[39m]\u001b[38;5;132;01m}\u001b[39;00m\u001b[38;5;124m'\u001b[39m\u001b[38;5;124m: \u001b[39m\u001b[38;5;132;01m{\u001b[39;00mexc\u001b[38;5;132;01m}\u001b[39;00m\u001b[38;5;124m\"\u001b[39m)\n\u001b[1;32m-> 2068\u001b[0m \u001b[38;5;28;01mraise\u001b[39;00m ex \u001b[38;5;28;01mfrom\u001b[39;00m \u001b[38;5;21;01mexc\u001b[39;00m\n",
      "\u001b[1;31mDatabaseError\u001b[0m: Execution failed on sql '\n    \n    \n    SELECT E.*, ROWNUMBER() OVER() AS rn\n    FROM EMPLOYEES E\n    \n    \n    \n    \n                        ': ORA-00904: \"ROWNUMBER\": invalid identifier"
     ]
    }
   ],
   "source": [
    "def oracle():\n",
    "    import cx_Oracle\n",
    "    import warnings\n",
    "    warnings.filterwarnings('ignore')\n",
    "    import pandas as pd\n",
    "    \n",
    "    conn = cx_Oracle.connect('HR/PASSWORD@LOCALHOST:1521/XE')\n",
    "    df = pd.read_sql_query('''\n",
    "    \n",
    "    \n",
    "    SELECT E.*, ROWNUMBER() OVER() AS rn\n",
    "    FROM EMPLOYEES E\n",
    "    \n",
    "    \n",
    "    \n",
    "    \n",
    "                        ''',con=conn)\n",
    "    conn.close()\n",
    "    pd.set_option('display.max_rows', 20000)\n",
    "    pd.set_option('display.max_columns', 100)\n",
    "    return df\n",
    "\n",
    "oracle()"
   ]
  },
  {
   "cell_type": "raw",
   "id": "a0eeba8e",
   "metadata": {},
   "source": [
    "#cte\n",
    "\n",
    "WITH CTE AS ( SELECT DEPARTMENT_ID, AVG(SALARY) AS AVG_SAL\n",
    "    FROM EMPLOYEES GROUP BY DEPARTMENT_ID)\n",
    "    SELECT MAX(AVG_SAL) FROM CTE"
   ]
  },
  {
   "cell_type": "raw",
   "id": "0be4ae83",
   "metadata": {},
   "source": []
  },
  {
   "cell_type": "code",
   "execution_count": 3,
   "id": "1f8b28a5",
   "metadata": {},
   "outputs": [
    {
     "ename": "SyntaxError",
     "evalue": "invalid syntax (702151208.py, line 1)",
     "output_type": "error",
     "traceback": [
      "\u001b[1;36m  Cell \u001b[1;32mIn [3], line 1\u001b[1;36m\u001b[0m\n\u001b[1;33m    > SCALAR SUBQUERY :  RETURNS ONE ROW AND ONE COLUMN ONLY\u001b[0m\n\u001b[1;37m    ^\u001b[0m\n\u001b[1;31mSyntaxError\u001b[0m\u001b[1;31m:\u001b[0m invalid syntax\n"
     ]
    }
   ],
   "source": [
    "> SCALAR SUBQUERY :  RETURNS ONE ROW AND ONE COLUMN ONLY\n",
    "> MULTIPLE ROW SUBQUERY: 1. MUL COLUM"
   ]
  },
  {
   "cell_type": "raw",
   "id": "58ff2a2f",
   "metadata": {},
   "source": [
    "> last record\n",
    "select * from employees where ROWID = (select max(ROWID) from employees)\n",
    "SELECT * FROM (select * from employees order by ROWID DESC) WHERE ROWNUM=1\n",
    "\n",
    "> FIRST N\n",
    "SELECT * FROM EMPLOYEES WHERE ROWNUM<=N\n",
    "\n",
    "> LAST N\n",
    "SELECT * FROM (SELECT * FROM EMPLOYEES ORDER BY ROWID DESC) WHERE ROWNUM <= N\n",
    "\n",
    "> NTH RECORD\n",
    "select * from ( select a.*, rownum rnum from (SELECT * FROM EMPLOYEES order by ROWID ASC ) a where rownum <= 1) where rnum >= 1\n",
    "\n",
    "\n",
    ">3 HIGHEST SALARIES\n",
    "select distinct salary from employees a where 3 >= (select count(distinct salary) from employees b where a.salary <= b.salary) order by a.salary desc \n",
    "\n",
    "> inner join\n",
    "select e.employee_id, d.department_name from employees  e inner join departments d on e.department_id=d.department_id\n",
    "\n",
    "> fetch all the employee name with department ids\n",
    "select e.first_name, d.department_id from\n",
    "employees e left join departments d\n",
    "on e.department_id = d.department_id\n",
    "\n",
    "> RETURN SCHEMA\n",
    "SELECT OWNER, TABLE_NAME, COLUMN_NAME, DATA_TYPE, DATA_LENGTH, NULLABLE FROM ALL_TAB_COLUMNS ORDER BY OWNER, TABLE_NAME, COLUMN_ID\n",
    "\n",
    "> FULL JOIN\n",
    "SELECT E.FIRST_NAME, D.DEPARTMENT_NAME FROM EMPLOYEES E FULL JOIN DEPARTMENTS D ON D.DEPARTMENT_ID = E.DEPARTMENT_ID\n",
    "\n",
    "> LEFT (OUTER) JOIN\n",
    "SELECT E.FIRST_NAME, D.DEPARTMENT_NAME FROM EMPLOYEES E LEFT JOIN DEPARTMENTS D ON D.DEPARTMENT_ID = E.DEPARTMENT_ID\n",
    "\n",
    "> RIGHT (OUTER) JOIN\n",
    "SELECT E.FIRST_NAME, D.DEPARTMENT_NAME FROM EMPLOYEES E RIGHT JOIN DEPARTMENTS D ON D.DEPARTMENT_ID = E.DEPARTMENT_ID\n",
    "\n",
    "> CROSS JOIN  DOES NOT REQUIRE JOIN CONDITION, THIS RETURNS CARTESIAN PRODUCT\n",
    "SELECT E.FIRST_NAME, D.DEPARTMENT_NAME FROM EMPLOYEES E CROSS JOIN DEPARTMENTS D\n",
    "\n",
    "> NATURAL JOIN\n",
    "SQL will decide on which column the table will join\n",
    "if we use join condition it will give error\n",
    "SELECT E.FIRST_NAME, D.DEPARTMENT_NAME FROM EMPLOYEES E NATURAL JOIN DEPARTMENTS D\n",
    "\n",
    "> SALARY gt AVG SALARY \n",
    "SELECT E.FIRST_NAME FROM EMPLOYEES E\n",
    "WHERE SALARY > (SELECT AVG(E.SALARY) FROM EMPLOYEES E) \n"
   ]
  },
  {
   "cell_type": "code",
   "execution_count": null,
   "id": "3a919b98",
   "metadata": {},
   "outputs": [],
   "source": []
  },
  {
   "cell_type": "code",
   "execution_count": null,
   "id": "05af0286",
   "metadata": {},
   "outputs": [],
   "source": []
  },
  {
   "cell_type": "code",
   "execution_count": 12,
   "id": "f7b58477",
   "metadata": {},
   "outputs": [
    {
     "name": "stdout",
     "output_type": "stream",
     "text": [
      "(2, 3)\n"
     ]
    }
   ],
   "source": [
    "x = [1,2,3]\n",
    "y  = []\n",
    "for i in enumerate(x):\n",
    "    y.append(i)\n",
    "print(i)"
   ]
  },
  {
   "cell_type": "code",
   "execution_count": null,
   "id": "0b7cd8ec",
   "metadata": {},
   "outputs": [],
   "source": []
  },
  {
   "cell_type": "code",
   "execution_count": null,
   "id": "a15a70fd",
   "metadata": {},
   "outputs": [],
   "source": []
  },
  {
   "cell_type": "code",
   "execution_count": null,
   "id": "ec9ac4fe",
   "metadata": {},
   "outputs": [],
   "source": []
  },
  {
   "cell_type": "code",
   "execution_count": null,
   "id": "b30ec780",
   "metadata": {},
   "outputs": [],
   "source": []
  },
  {
   "cell_type": "code",
   "execution_count": null,
   "id": "62f2db4d",
   "metadata": {},
   "outputs": [],
   "source": []
  },
  {
   "cell_type": "code",
   "execution_count": null,
   "id": "c9f7bbbd",
   "metadata": {},
   "outputs": [],
   "source": []
  },
  {
   "cell_type": "code",
   "execution_count": null,
   "id": "5a9b1fa5",
   "metadata": {},
   "outputs": [],
   "source": []
  },
  {
   "cell_type": "code",
   "execution_count": null,
   "id": "5cb2438c",
   "metadata": {},
   "outputs": [],
   "source": []
  },
  {
   "cell_type": "code",
   "execution_count": null,
   "id": "2914f427",
   "metadata": {},
   "outputs": [],
   "source": []
  },
  {
   "cell_type": "code",
   "execution_count": null,
   "id": "1b024dc1",
   "metadata": {},
   "outputs": [],
   "source": []
  },
  {
   "cell_type": "code",
   "execution_count": null,
   "id": "769c8441",
   "metadata": {},
   "outputs": [],
   "source": []
  },
  {
   "cell_type": "code",
   "execution_count": null,
   "id": "2e04bee8",
   "metadata": {},
   "outputs": [],
   "source": []
  },
  {
   "cell_type": "code",
   "execution_count": null,
   "id": "ff2c126b",
   "metadata": {},
   "outputs": [],
   "source": []
  }
 ],
 "metadata": {
  "kernelspec": {
   "display_name": "Python 3 (ipykernel)",
   "language": "python",
   "name": "python3"
  },
  "language_info": {
   "codemirror_mode": {
    "name": "ipython",
    "version": 3
   },
   "file_extension": ".py",
   "mimetype": "text/x-python",
   "name": "python",
   "nbconvert_exporter": "python",
   "pygments_lexer": "ipython3",
   "version": "3.9.12"
  }
 },
 "nbformat": 4,
 "nbformat_minor": 5
}
