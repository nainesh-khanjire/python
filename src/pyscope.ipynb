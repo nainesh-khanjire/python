{
 "cells": [
  {
   "cell_type": "markdown",
   "id": "fd93170d-eadd-4168-9332-4cb8086806e3",
   "metadata": {},
   "source": [
    "**Global Variable**\n"
   ]
  },
  {
   "cell_type": "markdown",
   "id": "e6f2b119-016b-4b13-91f2-59ed981b81f3",
   "metadata": {},
   "source": [
    "- scope of the variable"
   ]
  },
  {
   "cell_type": "code",
   "execution_count": 2,
   "id": "f217c214-9d84-4b1b-8cfe-5a71bf8c14c6",
   "metadata": {},
   "outputs": [],
   "source": [
    "x=10\n"
   ]
  },
  {
   "cell_type": "code",
   "execution_count": 3,
   "id": "4e9a5afe-fb29-4722-bdbe-90bea58bdb99",
   "metadata": {},
   "outputs": [],
   "source": [
    "\n",
    "def f():\n",
    "    print('x inside function: ',x)"
   ]
  },
  {
   "cell_type": "code",
   "execution_count": 4,
   "id": "c14aa224-6881-4b13-b96f-604ebc371034",
   "metadata": {},
   "outputs": [
    {
     "name": "stdout",
     "output_type": "stream",
     "text": [
      "x inside function:  10\n"
     ]
    }
   ],
   "source": [
    "f()"
   ]
  },
  {
   "cell_type": "code",
   "execution_count": 6,
   "id": "38781b15-9cb2-44d1-a07b-d72b9ef93d77",
   "metadata": {},
   "outputs": [
    {
     "name": "stdout",
     "output_type": "stream",
     "text": [
      "x outside function:  10\n"
     ]
    }
   ],
   "source": [
    "print('x outside function: ',x)"
   ]
  },
  {
   "cell_type": "code",
   "execution_count": 7,
   "id": "4e2a50f0-694d-40b0-82a0-b4a842b7752b",
   "metadata": {},
   "outputs": [
    {
     "name": "stdout",
     "output_type": "stream",
     "text": [
      "x inside function:  10\n",
      "x outside function:  10\n"
     ]
    }
   ],
   "source": [
    "f()\n",
    "print('x outside function: ',x)"
   ]
  },
  {
   "cell_type": "code",
   "execution_count": 4,
   "id": "44cfb3eb-d0d5-4d58-b58a-a1b351e53863",
   "metadata": {},
   "outputs": [],
   "source": [
    "x = 'global'\n",
    "def foo():\n",
    "    global x\n",
    "    x = x*2\n",
    "    print(x)"
   ]
  },
  {
   "cell_type": "code",
   "execution_count": 5,
   "id": "2c220d2d-18cf-4251-8ba5-b2f8c0910a65",
   "metadata": {},
   "outputs": [
    {
     "name": "stdout",
     "output_type": "stream",
     "text": [
      "globalglobal\n"
     ]
    }
   ],
   "source": [
    "foo()"
   ]
  },
  {
   "cell_type": "code",
   "execution_count": 9,
   "id": "0f25173b-2bb0-4b34-8405-94de518aae70",
   "metadata": {},
   "outputs": [],
   "source": [
    "c= 0\n",
    "def add():\n",
    "    global c\n",
    "    c= c+2 # increment of c by 2\n",
    "    print('inside add()', c)\n",
    "    "
   ]
  },
  {
   "cell_type": "code",
   "execution_count": 10,
   "id": "d72567ef-d3e5-4d2f-923f-0cd55cc41788",
   "metadata": {},
   "outputs": [
    {
     "name": "stdout",
     "output_type": "stream",
     "text": [
      "inside add() 2\n"
     ]
    }
   ],
   "source": [
    "add()"
   ]
  },
  {
   "cell_type": "code",
   "execution_count": 11,
   "id": "4bc289f0-b489-41e9-8847-eaa12814f2cb",
   "metadata": {},
   "outputs": [
    {
     "name": "stdout",
     "output_type": "stream",
     "text": [
      "inside add() 4\n",
      "in main 4\n"
     ]
    }
   ],
   "source": [
    "\n",
    "add()\n",
    "print('in main',c)"
   ]
  },
  {
   "cell_type": "markdown",
   "id": "2508778b-ad6e-42f8-ad6e-93a74b45ee92",
   "metadata": {},
   "source": [
    "we defined c as global variable inside add() function and incremented the c variable by 2 and than we called the function, to print the global variable c"
   ]
  },
  {
   "cell_type": "markdown",
   "id": "e7cacf16-2dd6-4591-a62b-dbb8748cd346",
   "metadata": {},
   "source": [
    "# **Rules of Global Keyword**\n",
    "- variable inside in a function is local  by default\n",
    "- variable defined outside a function isi global by default\n",
    "- global keyword is used to read and write global variable inside a function\n",
    "- use of global keyword outside fn has no effect\n"
   ]
  },
  {
   "cell_type": "code",
   "execution_count": 12,
   "id": "2196860f-c124-4eae-a695-3fb797a950fb",
   "metadata": {},
   "outputs": [],
   "source": [
    "# local variables\n",
    "def example():\n",
    "    y = 'local'\n",
    "    print(y)"
   ]
  },
  {
   "cell_type": "code",
   "execution_count": 14,
   "id": "f77c5eb9-ea5c-4b4e-8a32-154e20d2ddcc",
   "metadata": {},
   "outputs": [
    {
     "name": "stdout",
     "output_type": "stream",
     "text": [
      "local\n"
     ]
    }
   ],
   "source": [
    "example()"
   ]
  },
  {
   "cell_type": "code",
   "execution_count": 15,
   "id": "7fa16483-2937-4d2a-8092-29da70669be7",
   "metadata": {},
   "outputs": [
    {
     "ename": "NameError",
     "evalue": "name 'y' is not defined",
     "output_type": "error",
     "traceback": [
      "\u001b[1;31m---------------------------------------------------------------------------\u001b[0m",
      "\u001b[1;31mNameError\u001b[0m                                 Traceback (most recent call last)",
      "Cell \u001b[1;32mIn [15], line 1\u001b[0m\n\u001b[1;32m----> 1\u001b[0m \u001b[38;5;28mprint\u001b[39m(\u001b[43my\u001b[49m)\n",
      "\u001b[1;31mNameError\u001b[0m: name 'y' is not defined"
     ]
    }
   ],
   "source": [
    "print(y)"
   ]
  },
  {
   "cell_type": "code",
   "execution_count": 16,
   "id": "9bc4d704-859e-4744-bdf0-2a7f0bab6281",
   "metadata": {},
   "outputs": [],
   "source": [
    "x = 'global'\n",
    "def f():\n",
    "    global x\n",
    "    y = 'local'\n",
    "    x =x*2\n",
    "    print(x)\n",
    "    print(y)"
   ]
  },
  {
   "cell_type": "code",
   "execution_count": 17,
   "id": "21ab6369-654f-408c-844a-6c40f8e5bd84",
   "metadata": {},
   "outputs": [
    {
     "name": "stdout",
     "output_type": "stream",
     "text": [
      "globalglobal\n",
      "local\n"
     ]
    }
   ],
   "source": [
    "f()"
   ]
  },
  {
   "cell_type": "code",
   "execution_count": 18,
   "id": "3dba976f-0bd4-4913-91ab-b67add54adf8",
   "metadata": {},
   "outputs": [],
   "source": [
    "x = 5 \n",
    "def square():\n",
    "    x = 2\n",
    "    print('square of x: ',x**2)"
   ]
  },
  {
   "cell_type": "code",
   "execution_count": 19,
   "id": "d8bc4c02-adc2-44e4-8408-e565045c7549",
   "metadata": {},
   "outputs": [
    {
     "name": "stdout",
     "output_type": "stream",
     "text": [
      "square of x:  4\n"
     ]
    }
   ],
   "source": [
    "square()"
   ]
  },
  {
   "cell_type": "code",
   "execution_count": 24,
   "id": "0dd02ca1-0afd-41cf-a731-eddcaa9c357c",
   "metadata": {},
   "outputs": [
    {
     "name": "stdout",
     "output_type": "stream",
     "text": [
      "square of x:  4\n",
      "global x: 5\n"
     ]
    }
   ],
   "source": [
    "\n",
    "square()\n",
    "print('global x:',x)"
   ]
  },
  {
   "cell_type": "markdown",
   "id": "91d1a63b-7138-4990-b85b-b6065f878d19",
   "metadata": {},
   "source": [
    "non local varibles"
   ]
  },
  {
   "cell_type": "code",
   "execution_count": 37,
   "id": "bf60c391-642f-4f74-add9-409620e15430",
   "metadata": {},
   "outputs": [],
   "source": [
    "def outer():\n",
    "    x = 'local'\n",
    "    print('outer: ',x)\n",
    "    \n",
    "    #nested functions\n",
    "    def inner():\n",
    "        x = 'non-local'\n",
    "        print('non local variable: ', x)\n",
    "        \n",
    "    inner()"
   ]
  },
  {
   "cell_type": "code",
   "execution_count": 38,
   "id": "25c49f17-e5c2-4080-963a-6147e89a77f7",
   "metadata": {},
   "outputs": [
    {
     "name": "stdout",
     "output_type": "stream",
     "text": [
      "outer:  local\n",
      "non local variable:  non-local\n"
     ]
    }
   ],
   "source": [
    "outer()"
   ]
  },
  {
   "cell_type": "code",
   "execution_count": 41,
   "id": "2b4fe35c-e107-4732-b714-aefd0d67d24a",
   "metadata": {},
   "outputs": [],
   "source": [
    "#create a nonlocal variable\n",
    "def outer():\n",
    "    x= 'local'\n",
    "    print('outer variable x: ',x)\n",
    "    \n",
    "    #nested function\n",
    "    def inner():\n",
    "        x = 'nonlocal'\n",
    "        print('inner variable x :',x)\n",
    "\n",
    "        \n",
    "    inner()\n",
    "    print('outer: ',x)\n"
   ]
  },
  {
   "cell_type": "code",
   "execution_count": 42,
   "id": "85dbf8b6-57e1-4bdd-bf2a-786d1bbdbd3b",
   "metadata": {},
   "outputs": [
    {
     "name": "stdout",
     "output_type": "stream",
     "text": [
      "outer variable x:  local\n",
      "inner variable x : nonlocal\n",
      "outer:  local\n"
     ]
    }
   ],
   "source": [
    "outer()"
   ]
  },
  {
   "cell_type": "code",
   "execution_count": 47,
   "id": "97d999c2-eae0-4c54-8f76-9cc0c08f38e8",
   "metadata": {},
   "outputs": [],
   "source": [
    "#create a nonlocal variable\n",
    "def outer():\n",
    "    x = 'local'\n",
    "    print('outer: ',x)\n",
    "    \n",
    "    def inner():\n",
    "        #nonlocal x\n",
    "        x = 'non-local'\n",
    "        print('inner: ',x)\n",
    "    inner()"
   ]
  },
  {
   "cell_type": "code",
   "execution_count": 49,
   "id": "0a53a137-0c8c-4834-b59a-c7989d0e3d6c",
   "metadata": {},
   "outputs": [
    {
     "name": "stdout",
     "output_type": "stream",
     "text": [
      "outer:  local\n",
      "inner:  non-local\n"
     ]
    }
   ],
   "source": [
    "outer()"
   ]
  },
  {
   "cell_type": "code",
   "execution_count": 53,
   "id": "09939265-929d-4111-82c4-007abe881864",
   "metadata": {},
   "outputs": [],
   "source": [
    "#create a nonlocal variable\n",
    "def outer():\n",
    "    x = 'local'\n",
    "    #print('outer',x)\n",
    "    \n",
    "    #nested fucntion\n",
    "    def inner():\n",
    "        nonlocal  x\n",
    "        x= 'nonlocal'\n",
    "        print('inner: ',x)\n",
    "        \n",
    "    inner()\n",
    "    print('outer: ',x)"
   ]
  },
  {
   "cell_type": "code",
   "execution_count": 54,
   "id": "67edd0f1-d74f-4de6-b950-f58303ec790b",
   "metadata": {},
   "outputs": [
    {
     "name": "stdout",
     "output_type": "stream",
     "text": [
      "inner:  nonlocal\n",
      "outer:  nonlocal\n"
     ]
    }
   ],
   "source": [
    "outer()"
   ]
  },
  {
   "cell_type": "code",
   "execution_count": null,
   "id": "7ba29ed5-bb08-41bc-883a-d4d4262c62e2",
   "metadata": {},
   "outputs": [],
   "source": [
    "\n"
   ]
  }
 ],
 "metadata": {
  "kernelspec": {
   "display_name": "Python 3 (ipykernel)",
   "language": "python",
   "name": "python3"
  },
  "language_info": {
   "codemirror_mode": {
    "name": "ipython",
    "version": 3
   },
   "file_extension": ".py",
   "mimetype": "text/x-python",
   "name": "python",
   "nbconvert_exporter": "python",
   "pygments_lexer": "ipython3",
   "version": "3.9.12"
  }
 },
 "nbformat": 4,
 "nbformat_minor": 5
}
