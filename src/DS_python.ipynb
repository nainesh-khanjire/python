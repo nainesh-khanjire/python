{
 "cells": [
  {
   "cell_type": "code",
   "execution_count": 13,
   "id": "17784ecd",
   "metadata": {},
   "outputs": [
    {
     "name": "stdout",
     "output_type": "stream",
     "text": [
      "1 is a duplicate number\n",
      "2 is a duplicate number\n",
      "3 is a duplicate number\n",
      "4 is a duplicate number\n"
     ]
    }
   ],
   "source": [
    " # duplicate number in python\n",
    "n = [1,2,3,4,5,6,2,3,1,4,67]\n",
    "\n",
    "for i in range(len(n)):\n",
    "    for j in range(i+1, len(n)):\n",
    "        if n[i] == n[j]:\n",
    "            print(f'{n[i]} is a duplicate number')\n",
    "            break"
   ]
  },
  {
   "cell_type": "code",
   "execution_count": null,
   "id": "4ce2b001",
   "metadata": {},
   "outputs": [],
   "source": []
  }
 ],
 "metadata": {
  "kernelspec": {
   "display_name": "Python 3 (ipykernel)",
   "language": "python",
   "name": "python3"
  },
  "language_info": {
   "codemirror_mode": {
    "name": "ipython",
    "version": 3
   },
   "file_extension": ".py",
   "mimetype": "text/x-python",
   "name": "python",
   "nbconvert_exporter": "python",
   "pygments_lexer": "ipython3",
   "version": "3.9.12"
  }
 },
 "nbformat": 4,
 "nbformat_minor": 5
}
