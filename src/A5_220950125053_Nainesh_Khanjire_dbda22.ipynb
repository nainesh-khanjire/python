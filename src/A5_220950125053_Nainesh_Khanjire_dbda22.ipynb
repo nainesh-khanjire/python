{
 "cells": [
  {
   "cell_type": "markdown",
   "metadata": {},
   "source": [
    "**1. Create a Vehicle class with attributes number of wheels, number of airbags,\n",
    "engine horsepower, max speed, mileage, etc. Create a constructor and a method\n",
    "that displays vehicle info.**"
   ]
  },
  {
   "cell_type": "code",
   "execution_count": 31,
   "metadata": {},
   "outputs": [
    {
     "name": "stdout",
     "output_type": "stream",
     "text": [
      "Number of wheels:  4 \n",
      "Number of airbags:  2 \n",
      "Horsepower of Engine is:  10 Hp \n",
      "Maximum speed is:  300 KmpH \n",
      "Total mileage is:  20 KmpL\n"
     ]
    }
   ],
   "source": [
    "class Vehicle(): #created vehicle class with respective attributes\n",
    "  def __init__(self,wheels,airbags,horsepower,maxspeed,mileage):\n",
    "     self.number_of_wheels = wheels\n",
    "     self.number_of_airbags = airbags\n",
    "     self.engine_horsepower = horsepower\n",
    "     self.max_speed = maxspeed\n",
    "     self.mileage = mileage\n",
    "  def display(self):\n",
    "     print(\"Number of wheels: \",self.number_of_wheels,\"\\nNumber of airbags: \",self.number_of_airbags,\"\\nHorsepower of Engine is: \",self.engine_horsepower,\"Hp\",\"\\nMaximum speed is: \",self.max_speed,\"KmpH\",\"\\nTotal mileage is: \",self.mileage,\"KmpL\")\n",
    " \n",
    "vehicle = Vehicle(4,2,10,300,20)\n",
    "vehicle.display() "
   ]
  },
  {
   "cell_type": "markdown",
   "metadata": {},
   "source": [
    "**2. Create a child class Bus, from Vehicle class, that will inherit all of the variables\n",
    "and methods of the Vehicle class. This Bus class will have its own attributes –\n",
    "number of doors, number of seats, fare per km, etc, along with inherited\n",
    "attributes. Write a method to calculate bus fare by accepting distance in km as\n",
    "parameter.**\n"
   ]
  },
  {
   "cell_type": "code",
   "execution_count": 81,
   "metadata": {},
   "outputs": [
    {
     "name": "stdout",
     "output_type": "stream",
     "text": [
      "Number of doors:  2 \n",
      "Number of seats:  40 \n",
      "Fare per km:  10\n",
      "your total fare is:  100 ₹\n"
     ]
    }
   ],
   "source": [
    "class Bus(Vehicle): # child class Bus\n",
    "            def __init__(self,doors,seats,fare):\n",
    "             self.doors = doors\n",
    "             self.seats = seats\n",
    "             self.fare = fare \n",
    "             \n",
    "            def displayBus(self):\n",
    "              print(\"Number of doors: \",self.doors,\"\\nNumber of seats: \",self.seats,\"\\nFare per km: \",self.fare)\n",
    "        \n",
    "            def computeFare(self):\n",
    "             dst = int(input(\"Enter total distance travelled: \"))\n",
    "             totalfare = int(self.fare*dst) # calculating fare amount\n",
    "             print(\"your total fare is: \",totalfare,\"\\u20B9\") # symbol for \"rupees\" \n",
    "\n",
    "b = Bus(2,40,10) #passing values\n",
    "b.displayBus() #displayed details of the bus\n",
    "b.computeFare() #displaying total fare amount"
   ]
  },
  {
   "cell_type": "markdown",
   "metadata": {},
   "source": [
    "**3. Create class BankAccount with attributes cutomer_id, customer_name,\n",
    "account_balance. Write methods to withdraw and deposit amounts. If during\n",
    "withdrawing money from the account, the account balance is not sufficient,\n",
    "display appropriate messages. Create objects of this class and test methods to\n",
    "withdraw and deposit.**"
   ]
  },
  {
   "cell_type": "code",
   "execution_count": 7,
   "metadata": {},
   "outputs": [
    {
     "name": "stdout",
     "output_type": "stream",
     "text": [
      "DEPOSIT\n",
      "Your total balance after DEPOSIT has been updated >\n",
      "your current balance after deposit:  3200 ₹\n",
      "WITHDRAW\n",
      "Your total balance after WITHDRAWL has been updated >\n",
      "your current balance after withdrawl:  3180 ₹\n",
      "your ID is:  101\n",
      "your name is:  Bruce Wayne\n",
      "Account balance too low !!!\n"
     ]
    }
   ],
   "source": [
    "class BankAccount():\n",
    "    def __init__(self,customer_id,customer_name,account_balance):\n",
    "        self.id = customer_id\n",
    "        self.name = customer_name\n",
    "        self.balance = account_balance\n",
    "    \n",
    "    def deposit(self):\n",
    "        print(\"DEPOSIT\")\n",
    "         # acc empty by default\n",
    "        deposit = int(input(\"Enter amount to deposit: \"))\n",
    "        self.balance = self.balance + deposit\n",
    "        if deposit>=1000: #deposit should be greater than 1000rs\n",
    "         print(\"Your total balance after DEPOSIT has been updated >\")\n",
    "         print(\"your current balance after deposit: \",self.balance,\"\\u20B9\")\n",
    "        else:\n",
    "         print(\"Your account has low balance !!!\")\n",
    "         \n",
    "    display()\n",
    "        \n",
    "    def withdraw(self):\n",
    "        print(\"WITHDRAW\")\n",
    "        withdraw = int(input(\"Enter amount to withdraw:\"))\n",
    "        self.balance = self.balance - withdraw\n",
    "        if self.balance >=1000:\n",
    "            print(\"Your total balance after WITHDRAWL has been updated >\")\n",
    "            print(\"your current balance after withdrawl: \",self.balance,\"\\u20B9\")\n",
    "        else:\n",
    "            print(\"Account balance too low !!!\")\n",
    "    \n",
    "    display() #fn call to display id,name and balance\n",
    "        \n",
    "    def display(self):\n",
    "        \n",
    "        print(\"your ID is: \",self.id)\n",
    "        print(\"your name is: \",self.name)\n",
    "        if self.balance <= 1000:\n",
    "            print(\"your total balance:\",self.balance,\"\\u20B9\") #code for rupee symbol\n",
    "        else:\n",
    "            print(\"Account balance too low !!!\")\n",
    "        \n",
    "b = BankAccount(101,\"Bruce Wayne\",0) \n",
    "b.deposit()\n",
    "b.withdraw()\n",
    "b.display()\n",
    "'''parent class  with different attributes and behaviour (methods) '''\n",
    "help(BankAccount) #docstring for parent class"
   ]
  },
  {
   "cell_type": "markdown",
   "metadata": {},
   "source": [
    "**4. Create class RegularAccount derived from base class BankAccount. There is a\n",
    "penalty of Rs. 10.00 if the balance falls below a minimum of Rs.3000. If customer\n",
    "tries to withdraw amount and balance goes below Rs. 3000, deduct penalty\n",
    "amount from the balance and notify customer about it, and if after deducting\n",
    "penalty amount if balance goes in below zero notify customer about insufficient\n",
    "balance**"
   ]
  },
  {
   "cell_type": "code",
   "execution_count": 21,
   "metadata": {},
   "outputs": [
    {
     "name": "stdout",
     "output_type": "stream",
     "text": [
      "DEPOSIT\n",
      "Your current after deposit balance is:  3500\n",
      "WITHDRAW\n",
      "Your current balance after withdrawl is:  3400\n"
     ]
    }
   ],
   "source": [
    "''' derived from base class BankAccount '''\n",
    "class RegularAccount(BankAccount):\n",
    "    def __init__(self,customer_id,customer_name,account_balance):\n",
    "        self.id = customer_id\n",
    "        self.name = customer_name\n",
    "        self.balance = 0\n",
    "    \n",
    "    def deposit1(self):\n",
    "        print(\"DEPOSIT\")\n",
    "        amount = int(input(\"Enter deposit amount: \"))\n",
    "        self.balance = self.balance + amount\n",
    "        print(\"Your current after deposit balance is: \",self.balance)\n",
    "      \n",
    "    def withdraw(self):\n",
    "        print(\"WITHDRAW\")\n",
    "        withdraw = int(input(\"Enter amount to withdraw:\"))\n",
    "        if self.balance <= (3000+withdraw): #if balance is less than orr eq to 3000, penalties will be applicable\n",
    "            withdraw+=10 \n",
    "            self.balance = self.balance-withdraw # 10rs deudcted as penlty \n",
    "            print(\"NOTE: There is a penalty of 10rs if you withdraw amount from account over 200rs\")\n",
    "            print(\"Your total balance after WITHDRAWL has been updated >\")\n",
    "            print(\"Your current balance after withdrawl is: \",self.balance,\"\\u20B9\",\"(inclusive of penalty)\")\n",
    "            print(\"Account balance is low !!!\")        \n",
    "        if self.balance>3000:\n",
    "            self.balance = self.balance-withdraw\n",
    "            print(\"Your current balance after withdrawl is: \",self.balance)\n",
    "            \n",
    "\n",
    "'''this stmt works when amount deposited is not less than or eq to 3000, no penalties whatsoever'''\n",
    "r = RegularAccount(102,\"walter white\",0) #passing 3200 as balance, where after withdrawl over there will be additional 10rs penalty(deduction) \n",
    "r.deposit1()\n",
    "r.withdraw()"
   ]
  }
 ],
 "metadata": {
  "kernelspec": {
   "display_name": "Python 3.9.12 64-bit ('pythonworkspace')",
   "language": "python",
   "name": "python3"
  },
  "language_info": {
   "codemirror_mode": {
    "name": "ipython",
    "version": 3
   },
   "file_extension": ".py",
   "mimetype": "text/x-python",
   "name": "python",
   "nbconvert_exporter": "python",
   "pygments_lexer": "ipython3",
   "version": "3.9.12 (main, Apr  4 2022, 05:22:27) [MSC v.1916 64 bit (AMD64)]"
  },
  "orig_nbformat": 4,
  "vscode": {
   "interpreter": {
    "hash": "e362d06cc908f32e8db6920f0b7bc6754cc7557171ff01d64b5f38263a887f00"
   }
  }
 },
 "nbformat": 4,
 "nbformat_minor": 2
}
