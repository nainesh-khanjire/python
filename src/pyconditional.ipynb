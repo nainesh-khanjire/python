{
 "cells": [
  {
   "cell_type": "code",
   "execution_count": 3,
   "metadata": {},
   "outputs": [
    {
     "name": "stdout",
     "output_type": "stream",
     "text": [
      "I will study\n",
      ":P\n"
     ]
    }
   ],
   "source": [
    "exam = True\n",
    "if exam == True:\n",
    "    print(\"I will study\")\n",
    "    print(\":P\")"
   ]
  },
  {
   "cell_type": "code",
   "execution_count": 8,
   "metadata": {},
   "outputs": [
    {
     "name": "stdout",
     "output_type": "stream",
     "text": [
      "i will not study\n",
      "netflix :'\n"
     ]
    }
   ],
   "source": [
    "exam = False\n",
    "if exam == False:\n",
    "    print(\"i will not study\")\n",
    "    print(\"netflix :'\")"
   ]
  },
  {
   "cell_type": "code",
   "execution_count": 10,
   "metadata": {},
   "outputs": [
    {
     "name": "stdout",
     "output_type": "stream",
     "text": [
      "I will study at home\n",
      ":/\n"
     ]
    }
   ],
   "source": [
    "exam = True\n",
    "if exam == True:\n",
    "    print(\"I will study at home\")\n",
    "    print(\":/\")\n",
    "else:\n",
    "    print(\"I will watch TV\")\n",
    "    "
   ]
  },
  {
   "cell_type": "code",
   "execution_count": 14,
   "metadata": {},
   "outputs": [
    {
     "name": "stdout",
     "output_type": "stream",
     "text": [
      "0 is an even number\n"
     ]
    }
   ],
   "source": [
    "x = int(input(\"Enter a number: \"))\n",
    "if x % 2 == 0:\n",
    "    print(x,\"is an even number\")\n",
    "else:\n",
    "    print(x,\"is odd number\")"
   ]
  },
  {
   "cell_type": "code",
   "execution_count": 2,
   "metadata": {},
   "outputs": [
    {
     "name": "stdout",
     "output_type": "stream",
     "text": [
      "This is a must watch movie !\n"
     ]
    }
   ],
   "source": [
    "rating = float(input(\"Enter rating for the movie(between 0 to 5): \"))\n",
    "\n",
    "if rating >= 4:\n",
    " print(\"This is a must watch movie !\")\n",
    "elif rating >=2 and rating <=4 :\n",
    "    print(\"This is an 'OK' movie to watch\")\n",
    "elif rating <=2:\n",
    "    print(\"This is an Average movie\")\n",
    "elif rating <=1:\n",
    "    print(\"you can skip this one :| \")"
   ]
  },
  {
   "cell_type": "code",
   "execution_count": 4,
   "metadata": {},
   "outputs": [
    {
     "name": "stdout",
     "output_type": "stream",
     "text": [
      "Adult\n"
     ]
    }
   ],
   "source": [
    "age = int(input(\"Enter your age: \"))\n",
    "print(\"Kid\" if age < 12 else \"Adult\")"
   ]
  },
  {
   "cell_type": "code",
   "execution_count": 10,
   "metadata": {},
   "outputs": [
    {
     "name": "stdout",
     "output_type": "stream",
     "text": [
      "9\n"
     ]
    }
   ],
   "source": [
    "c = int(input(\"enter the value: \"))\n",
    "\n",
    "while c < 10:\n",
    "    print(c)\n",
    "    c+=1"
   ]
  },
  {
   "cell_type": "code",
   "execution_count": 16,
   "metadata": {},
   "outputs": [
    {
     "name": "stdout",
     "output_type": "stream",
     "text": [
      "370 is an armstrong number\n"
     ]
    }
   ],
   "source": [
    "num = int(input(\"Enter the value: \"))\n",
    "value  = 0\n",
    "#find sum of cube of each digit\n",
    "temp = num\n",
    "while temp > 0:\n",
    "    digit = temp % 10\n",
    "    value+= digit**3\n",
    "    temp = temp//10\n",
    "    \n",
    "if num == value:\n",
    "    print(num,\"is an armstrong number\")\n",
    "else:\n",
    "    print(num,\"is not an armstrong number\")"
   ]
  },
  {
   "cell_type": "code",
   "execution_count": null,
   "metadata": {},
   "outputs": [],
   "source": [
    "# range(0,10) this will generate numbers from 0 to 9 \n",
    "# can be defined as "
   ]
  },
  {
   "cell_type": "code",
   "execution_count": 10,
   "metadata": {},
   "outputs": [
    {
     "data": {
      "text/plain": [
       "[10, 12, 14, 16, 18, 20]"
      ]
     },
     "execution_count": 10,
     "metadata": {},
     "output_type": "execute_result"
    }
   ],
   "source": [
    "range(10,20)\n",
    "range(10,20,2)\n",
    "list(range(10,21,2))"
   ]
  },
  {
   "cell_type": "code",
   "execution_count": 17,
   "metadata": {},
   "outputs": [
    {
     "name": "stdout",
     "output_type": "stream",
     "text": [
      "10\n",
      "30\n",
      "50\n",
      "70\n",
      "90\n"
     ]
    }
   ],
   "source": [
    "range(10,100)\n",
    "\n",
    "\n",
    "for i in range(10,100,20):\n",
    "    print(i)"
   ]
  },
  {
   "cell_type": "code",
   "execution_count": null,
   "metadata": {},
   "outputs": [
    {
     "name": "stdout",
     "output_type": "stream",
     "text": [
      "Nainesh\n",
      "Nainesh\n",
      "Hello\n",
      "This is the way\n"
     ]
    }
   ],
   "source": [
    "#break\n",
    "while True:\n",
    "    word = input(\"String to cpitalize [type q to quit]: \")\n",
    "    if word == 'q':\n",
    "        break\n",
    "    print(word.capitalize())"
   ]
  },
  {
   "cell_type": "code",
   "execution_count": 20,
   "metadata": {},
   "outputs": [
    {
     "name": "stdout",
     "output_type": "stream",
     "text": [
      "This is the way\n"
     ]
    }
   ],
   "source": [
    "string  = \"this is the way\"\n",
    "\n",
    "print(string.capitalize())"
   ]
  },
  {
   "cell_type": "code",
   "execution_count": 25,
   "metadata": {},
   "outputs": [
    {
     "name": "stdout",
     "output_type": "stream",
     "text": [
      "Square of  1 is  1\n",
      "Square of  3 is  9\n",
      "Square of  5 is  25\n",
      "Square of  7 is  49\n"
     ]
    }
   ],
   "source": [
    "#make square of odd numbers only\n",
    "while True:\n",
    "    value  = input(\"Integer [press q to quit]: \")\n",
    "    if value =='q': # to quit out of the loop\n",
    "        break\n",
    "    number = int(value)\n",
    "   \n",
    "    if number % 2 == 0: #even number\n",
    "        continue\n",
    "    print(\"Square of \",number,\"is \",number**2) # squaare of the given number"
   ]
  },
  {
   "cell_type": "code",
   "execution_count": null,
   "metadata": {},
   "outputs": [],
   "source": [
    "#if while loop ended normally(no break call), control passes to an optional else\n",
    "i = 1\n",
    "while i < 4 :\n",
    "    print(i)\n",
    "    i+=1\n",
    "    if i==5:\n",
    "        break\n",
    "else:\n",
    "    print(\"i is no longer less than 6\")     "
   ]
  },
  {
   "cell_type": "code",
   "execution_count": 48,
   "metadata": {},
   "outputs": [
    {
     "name": "stdout",
     "output_type": "stream",
     "text": [
      "Even number found:  2\n"
     ]
    }
   ],
   "source": [
    "for i in range(1,20):\n",
    "    if i % 2 == 0:\n",
    "        print(\"Even number found: \",i)\n",
    "        break\n",
    "else:\n",
    "    print(\"even number not found\")"
   ]
  },
  {
   "cell_type": "code",
   "execution_count": 58,
   "metadata": {},
   "outputs": [
    {
     "name": "stdout",
     "output_type": "stream",
     "text": [
      "factors of the  20 are: \n",
      "1\n",
      "2\n",
      "4\n",
      "5\n",
      "10\n",
      "20\n"
     ]
    }
   ],
   "source": [
    "#find factors of the number\n",
    "x = int(input(\"Enter the number: \"))\n",
    "print(\"factors of the \",x,\"are: \")\n",
    "for i in range(1,x+1):\n",
    "    if x % i == 0:\n",
    "        print(i)"
   ]
  }
 ],
 "metadata": {
  "kernelspec": {
   "display_name": "Python 3.9.12 64-bit ('pythonworkspace')",
   "language": "python",
   "name": "python3"
  },
  "language_info": {
   "codemirror_mode": {
    "name": "ipython",
    "version": 3
   },
   "file_extension": ".py",
   "mimetype": "text/x-python",
   "name": "python",
   "nbconvert_exporter": "python",
   "pygments_lexer": "ipython3",
   "version": "3.9.12"
  },
  "orig_nbformat": 4,
  "vscode": {
   "interpreter": {
    "hash": "e362d06cc908f32e8db6920f0b7bc6754cc7557171ff01d64b5f38263a887f00"
   }
  }
 },
 "nbformat": 4,
 "nbformat_minor": 2
}
