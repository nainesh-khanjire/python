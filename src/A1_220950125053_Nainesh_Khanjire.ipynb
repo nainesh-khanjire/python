{
 "cells": [
  {
   "cell_type": "markdown",
   "id": "c0eb6638-258d-4e45-a8d6-38c52ffdcba7",
   "metadata": {},
   "source": [
    "1. Give a call to print that is provided one string that displays the following\n",
    "#address on three separate lines.\n"
   ]
  },
  {
   "cell_type": "code",
   "execution_count": 6,
   "id": "b3ff82b7-c2c9-480d-be19-545876fc2060",
   "metadata": {},
   "outputs": [],
   "source": [
    "str  = \"\"\"C-DAC Knowledge Park,\n",
    "Old Madras Road,\n",
    "Bengaluru - 560038\"\"\" # adding multiple inverted commas sets the format fixed while printing"
   ]
  },
  {
   "cell_type": "code",
   "execution_count": 3,
   "id": "cf18418d",
   "metadata": {},
   "outputs": [],
   "source": [
    "str2  = \"\"\"C-DAC Knowledge Park,\n",
    "Old Madras Road, this is text\n",
    "Bengaluru - 560038\"\"\""
   ]
  },
  {
   "cell_type": "code",
   "execution_count": 4,
   "id": "77894173",
   "metadata": {},
   "outputs": [
    {
     "name": "stdout",
     "output_type": "stream",
     "text": [
      "C-DAC Knowledge Park,\n",
      "Old Madras Road, this is text\n",
      "Bengaluru - 560038\n"
     ]
    }
   ],
   "source": [
    "print(str2)"
   ]
  },
  {
   "cell_type": "code",
   "execution_count": 7,
   "id": "4e555416-82f2-4cfd-b256-aaf30a57cb27",
   "metadata": {},
   "outputs": [
    {
     "name": "stdout",
     "output_type": "stream",
     "text": [
      "C-DAC Knowledge Park,\n",
      "Old Madras Road,\n",
      "Bengaluru - 560038\n"
     ]
    }
   ],
   "source": [
    "print(str)"
   ]
  },
  {
   "cell_type": "markdown",
   "id": "acd8cc1e-9ffa-4597-9563-1d935e849821",
   "metadata": {},
   "source": [
    "2. Write a program which accepts the radius of a circle from the user and\n",
    "compute its area and circumference and display the output.\n"
   ]
  },
  {
   "cell_type": "code",
   "execution_count": 8,
   "id": "0a5d3658-251d-40b0-aa80-ab812a6a64d6",
   "metadata": {},
   "outputs": [
    {
     "name": "stdout",
     "output_type": "stream",
     "text": [
      "Area of the circle is: 314.2 sq. m\n",
      "Circumference of the circle is: 62.839999999999996 m\n"
     ]
    }
   ],
   "source": [
    "radius  = int(input(\"Enter radius of the circle(in meters): \"))\n",
    "PI = float(3.142) # setting value of pi constant\n",
    "\n",
    "# area of the circle is calculated using this formula >\n",
    "\n",
    "Area = PI * (radius**2)\n",
    "circumference = PI * 2 * radius \n",
    "\n",
    "print(\"Area of the circle is:\",Area,\"sq. m\")\n",
    "print(\"Circumference of the circle is:\",circumference,\"m\")"
   ]
  },
  {
   "cell_type": "code",
   "execution_count": 12,
   "id": "a7e4ecfd",
   "metadata": {},
   "outputs": [
    {
     "name": "stdout",
     "output_type": "stream",
     "text": [
      "this is area of circle : 314.0 sq. m\n",
      "this is circumference of circle : 62.800000000000004 m\n"
     ]
    },
    {
     "data": {
      "text/plain": [
       "(314.0, 62.800000000000004)"
      ]
     },
     "execution_count": 12,
     "metadata": {},
     "output_type": "execute_result"
    }
   ],
   "source": [
    "def area(radius):\n",
    "    pi = float(3.14)\n",
    "    area  = pi * (radius**2)\n",
    "    circumference = 2 * pi * radius\n",
    "    print(f\"this is area of circle : {area} sq. m\")\n",
    "    print(f\"this is circumference of circle : {circumference} m\")\n",
    "    return area, circumference\n",
    "\n",
    "area(10)\n"
   ]
  },
  {
   "cell_type": "markdown",
   "id": "02f723e8-66ca-4907-9aae-5dd6e1ff39e8",
   "metadata": {},
   "source": [
    "3. Write a program to display a string which is n copies of a given string. Where n is a non-negative integer.\n"
   ]
  },
  {
   "cell_type": "code",
   "execution_count": 70,
   "id": "3ad4faed-cc68-4f86-93df-0514181cdebd",
   "metadata": {},
   "outputs": [
    {
     "name": "stdout",
     "output_type": "stream",
     "text": [
      "Enter the word you want to display:  hello\n",
      "Enter the number of copies you want to display:  10\n"
     ]
    },
    {
     "name": "stdout",
     "output_type": "stream",
     "text": [
      "hellohellohellohellohellohellohellohellohellohello\n"
     ]
    }
   ],
   "source": [
    "#printing multiple copies of a string\n",
    "word = input(\"Enter the word you want to display: \")\n",
    "number = int(input(\"Enter the number of copies you want to display: \"))\n",
    "    \n",
    "print(word*number)\n"
   ]
  },
  {
   "cell_type": "code",
   "execution_count": 17,
   "id": "2d236cca",
   "metadata": {},
   "outputs": [
    {
     "name": "stdout",
     "output_type": "stream",
     "text": [
      "aaaaaaaaaa\n"
     ]
    }
   ],
   "source": [
    "word = input(\"enter the word you'd like to get n copies of : \")\n",
    "number = int(input(f\"enter the no of copies you want for {word} : \"))\n",
    "\n",
    "if number > 0:\n",
    "    print(word * number)\n"
   ]
  },
  {
   "cell_type": "markdown",
   "id": "d3214574-7014-41f1-908c-62e58c433c1f",
   "metadata": {},
   "source": [
    "4. Write a program to find whether a given number (accept number from the\n",
    "user) is even or odd, print out an appropriate message to the user. If the\n",
    "number is even, print its square and if the number is odd, print its cube.\n"
   ]
  },
  {
   "cell_type": "code",
   "execution_count": 109,
   "id": "0e7b6fa9-9c61-4d93-ad3a-35e0aad22021",
   "metadata": {},
   "outputs": [
    {
     "name": "stdout",
     "output_type": "stream",
     "text": [
      "find out the number is odd or even >>\n"
     ]
    },
    {
     "name": "stdout",
     "output_type": "stream",
     "text": [
      "Enter the number : 0\n"
     ]
    },
    {
     "name": "stdout",
     "output_type": "stream",
     "text": [
      "invalid input !!!\n",
      "Entered number is neither even nor odd\n"
     ]
    }
   ],
   "source": [
    "print(\"find out the number is odd or even >>\")\n",
    "number = int(input(\"Enter the number :\"))\n",
    "    \n",
    "if number>0 : \n",
    "    if number%2==0 :  \n",
    "        print(\"Given number is even\")\n",
    "        print(\"The square of the given number is: \",number**2)\n",
    "    else:\n",
    "        print(\"Given number is odd\")\n",
    "        print(\"The cube of the given number is: \", number**3) \n",
    "    \n",
    "else: \n",
    "    print(\"invalid input !!!\")\n",
    "    print(\"Entered number is neither even nor odd\")\n",
    "\n",
    "    "
   ]
  },
  {
   "cell_type": "code",
   "execution_count": 24,
   "id": "19642ece",
   "metadata": {},
   "outputs": [
    {
     "name": "stdout",
     "output_type": "stream",
     "text": [
      "find out if given numbebr is odd or even >>>\n",
      "given number 0 is even\n",
      "square of the given number 0 is: 0\n"
     ]
    }
   ],
   "source": [
    "print(\"find out if given numbebr is odd or even >>>\")\n",
    "num = int(input(\"enter the number : \"))\n",
    "if num > 0 or num == 0:\n",
    "    if num%2==0:\n",
    "        print(f\"given number {num} is even\")\n",
    "        print(f\"square of the given number {num} is:\", num**2)\n",
    "    else:\n",
    "        print(f\"given number {num} is odd\")\n",
    "else:\n",
    "    print(f\"given number {num} is invalid, it is neither even nor odd\")"
   ]
  },
  {
   "cell_type": "markdown",
   "id": "af782a73-b631-4826-a01d-8f6abd3cd99e",
   "metadata": {},
   "source": [
    "5. Write a program to test whether a passed letter is a vowel or not. (Accept\n",
    "letter from the user)\n"
   ]
  },
  {
   "cell_type": "code",
   "execution_count": 130,
   "id": "bc276774-4932-4c95-b01f-f53ae69a1ba3",
   "metadata": {},
   "outputs": [
    {
     "name": "stdout",
     "output_type": "stream",
     "text": [
      "Enter letter to check if it's vowel or not >>\n"
     ]
    },
    {
     "name": "stdout",
     "output_type": "stream",
     "text": [
      " a\n"
     ]
    },
    {
     "name": "stdout",
     "output_type": "stream",
     "text": [
      "this is a vowel\n"
     ]
    }
   ],
   "source": [
    "print(\"Enter letter to check if it's vowel or not >>\")\n",
    "letter = input()\n",
    "\n",
    "if letter == 'a' or letter == 'e' or letter == 'i' or letter == 'o' or letter == 'u':  #a, e, i, o, u are vowels\n",
    "    print(\"this is a vowel\")\n",
    "else:\n",
    "    print(\"this is a consonant\")\n",
    "    "
   ]
  },
  {
   "cell_type": "code",
   "execution_count": 3,
   "id": "457dbdf0",
   "metadata": {},
   "outputs": [
    {
     "name": "stdout",
     "output_type": "stream",
     "text": [
      "given letter is r\n",
      "this letter is a consonant\n"
     ]
    }
   ],
   "source": [
    "letter = input(\"enter the letter:\")\n",
    "print(f\"given letter is {letter}\")\n",
    "if letter in ['a','e', 'i','o','u']:\n",
    "    print(\"this letter is a vowel\")\n",
    "else:\n",
    "    print(\"this letter is a consonant\")\n",
    "\n"
   ]
  },
  {
   "cell_type": "markdown",
   "id": "35b63e0c-f4da-41f3-b389-baf4cbba1269",
   "metadata": {},
   "source": [
    "6. Write a program to implement a simple calculator that can add, subtract,\n",
    "multiply and divide two integers. Take the required operation as choice from\n",
    "the user."
   ]
  },
  {
   "cell_type": "code",
   "execution_count": 169,
   "id": "3cf46fa5-b651-4b7a-b9da-7b227ee13899",
   "metadata": {},
   "outputs": [
    {
     "name": "stdout",
     "output_type": "stream",
     "text": [
      "Enter numbers to perform calculator operations >>\n"
     ]
    },
    {
     "name": "stdout",
     "output_type": "stream",
     "text": [
      "Enter the first number:  2\n",
      "Enter the second number:  3\n"
     ]
    },
    {
     "name": "stdout",
     "output_type": "stream",
     "text": [
      "AVAILABLE OPERATIONS >> -\n",
      "1. add\n",
      "2. subtraction\n",
      "3. multplication\n",
      "4. divison\n",
      "\n"
     ]
    },
    {
     "name": "stdout",
     "output_type": "stream",
     "text": [
      "Select the opertion >  1, 2, 3, 4 : 2\n"
     ]
    },
    {
     "name": "stdout",
     "output_type": "stream",
     "text": [
      "subtraction of given numbers is -1.0\n"
     ]
    }
   ],
   "source": [
    "#calculator\n",
    "print(\"Enter numbers to perform calculator operations >>\")\n",
    "a= float(input(\"Enter the first number: \"))\n",
    "b= float(input(\"Enter the second number: \"))\n",
    "\n",
    "print(\"AVAILABLE OPERATIONS >> -\\n\" \\\n",
    "      \"1. add\\n\" \\\n",
    "      \"2. subtraction\\n\" \\\n",
    "      \"3. multplication\\n\" \\\n",
    "      \"4. divison\\n\")\n",
    "\n",
    "option = int(input(\"Select the opertion >  1, 2, 3, 4 :\"))\n",
    "\n",
    "\n",
    "if option == 1:\n",
    "    add = a+b\n",
    "    print(\"addition of given numbers is\",add)\n",
    "    \n",
    "elif option == 2:\n",
    "    subtraction = a-b\n",
    "    print(\"subtraction of given numbers is\",subtraction)\n",
    "        \n",
    "elif option == 3:\n",
    "    multiplication = a*b\n",
    "    print(\"multiplication of given numbers is \",multiplication)\n",
    "        \n",
    "elif option == 4:\n",
    "    division = a/b\n",
    "    print(\"division of given numbers is \",division)\n",
    "else:\n",
    "        print(\"enter valid input numbers\")"
   ]
  },
  {
   "cell_type": "markdown",
   "id": "78e174c3-549f-4719-bb66-afd79e9c4b62",
   "metadata": {},
   "source": [
    "7. Write a program to check whether a number is a prime number or not.\n"
   ]
  },
  {
   "cell_type": "code",
   "execution_count": 7,
   "id": "7d512691-2e20-4c85-a267-44173ebf31eb",
   "metadata": {},
   "outputs": [],
   "source": [
    "number = int(input(\"Enter the number to check its prime or not: \"))\n",
    "\n",
    "if number > 1:  #prime numbers are greater than 1\n",
    "     for i in range(2,int(number/2)+1):\n",
    "        if (number%i)==0:\n",
    "            print(number,\"this is not a prime number\")\n",
    "    \n",
    "            break\n",
    "        else:\n",
    "            print(\"this is a prime number\")\n",
    "            break\n",
    "            \n",
    "else:\n",
    "    print(number,\"this is not a prime number\")\n"
   ]
  },
  {
   "cell_type": "code",
   "execution_count": 10,
   "id": "e821c8a8",
   "metadata": {},
   "outputs": [
    {
     "name": "stdout",
     "output_type": "stream",
     "text": [
      "this 10 is not a prime number\n"
     ]
    }
   ],
   "source": [
    "num = int(input(\"enter the number :\"))\n",
    "\n",
    "if num > 1:\n",
    "    for i in range(2, int(num/2)+1):\n",
    "        if num%2==0:\n",
    "            print(f'this {num} is not a prime number')\n",
    "        break\n",
    "    else:\n",
    "        print(f'this is a prime number')\n",
    "else:\n",
    "    print(f'this number {num} is not a prime number')"
   ]
  },
  {
   "cell_type": "code",
   "execution_count": 22,
   "id": "3258e4cb",
   "metadata": {},
   "outputs": [
    {
     "name": "stdout",
     "output_type": "stream",
     "text": [
      "total prime numbers in this range are:  3\n",
      "time reqiuired to find all prime number in range is : 0.0014717578887939453\n"
     ]
    }
   ],
   "source": [
    "import math\n",
    "import time\n",
    "\n",
    "def is_prime(num):\n",
    "    if n <=1:\n",
    "        return False\n",
    "    if n %2 ==0:\n",
    "        return n == 2\n",
    "    \n",
    "    max_div = math.floor(math.sqrt(n))\n",
    "    for i  in range(3,1+max_div, 2):\n",
    "        if n %i ==0:\n",
    "            return False\n",
    "    return True\n",
    "\n",
    "t0 = time.time()\n",
    "c = 0\n",
    "    \n",
    "for n in range(1,7):\n",
    "    x = is_prime(n)\n",
    "    c+=x\n",
    "print(\"total prime numbers in this range are: \", c)\n",
    "    \n",
    "t1 = time.time()\n",
    "print(\"time reqiuired to find all prime number in range is :\", t1-t0)"
   ]
  },
  {
   "cell_type": "code",
   "execution_count": 26,
   "id": "fe8045db",
   "metadata": {},
   "outputs": [
    {
     "name": "stdout",
     "output_type": "stream",
     "text": [
      "False\n"
     ]
    }
   ],
   "source": [
    "import math\n",
    "import time\n",
    "\n",
    "def is_prime(num):\n",
    "    if n <=1:\n",
    "        return False\n",
    "    if n %2 ==0:\n",
    "        return n == 2\n",
    "    \n",
    "    max_div = math.floor(math.sqrt(n))\n",
    "    for i  in range(3,1+max_div, 2):\n",
    "        if n %i ==0:\n",
    "            return False\n",
    "    return True\n",
    "\n",
    "x = is_prime(7)\n",
    "print(x)"
   ]
  },
  {
   "cell_type": "markdown",
   "id": "be415d26-1803-40f4-9eec-e7510e2e7ee7",
   "metadata": {},
   "source": [
    "8. Write a program to remove all the following punctuation/special characters\n",
    "from the given string.\n",
    "!()-[]{};:'\"\\,<>./?@#$%^&*_~"
   ]
  },
  {
   "cell_type": "code",
   "execution_count": 26,
   "id": "167541c4-24b8-4cf1-8abb-2df2c4776afa",
   "metadata": {},
   "outputs": [
    {
     "name": "stdout",
     "output_type": "stream",
     "text": [
      "enter the text with string: #$#&%&$^&*HELLO!@#$$%^&*(\n"
     ]
    },
    {
     "name": "stdout",
     "output_type": "stream",
     "text": [
      "HELLO\n"
     ]
    }
   ],
   "source": [
    "\n",
    "punctuations = '''!()-[]{};:'\",<>./?@#$%^&*_~'''\n",
    "\n",
    "string = input(\"enter the text with string:\")\n",
    "rm_punc = \"\"\n",
    "for char in string:\n",
    "    if char not in punctuations:\n",
    "        rm_punc = rm_punc + char\n",
    "        \n",
    "print(rm_punc) "
   ]
  }
 ],
 "metadata": {
  "kernelspec": {
   "display_name": "Python 3.9.12 64-bit ('pythonworkspace')",
   "language": "python",
   "name": "python3"
  },
  "language_info": {
   "codemirror_mode": {
    "name": "ipython",
    "version": 3
   },
   "file_extension": ".py",
   "mimetype": "text/x-python",
   "name": "python",
   "nbconvert_exporter": "python",
   "pygments_lexer": "ipython3",
   "version": "3.9.12"
  },
  "vscode": {
   "interpreter": {
    "hash": "e362d06cc908f32e8db6920f0b7bc6754cc7557171ff01d64b5f38263a887f00"
   }
  }
 },
 "nbformat": 4,
 "nbformat_minor": 5
}
