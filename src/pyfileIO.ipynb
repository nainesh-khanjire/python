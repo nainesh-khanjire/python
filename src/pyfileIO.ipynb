{
 "cells": [
  {
   "cell_type": "markdown",
   "id": "92c90d86-f9f4-48f3-beac-06bc0cd9b970",
   "metadata": {},
   "source": [
    "# file IO"
   ]
  },
  {
   "cell_type": "markdown",
   "id": "57bf1f55-11a8-4bd6-81d9-72d7a9d434f6",
   "metadata": {},
   "source": [
    "- open a file\n",
    "- read or write \n",
    "- close the file"
   ]
  },
  {
   "cell_type": "code",
   "execution_count": 2,
   "id": "51733d4c-8f21-49a2-aaa6-112d279184b8",
   "metadata": {},
   "outputs": [],
   "source": [
    "#open a file\n",
    "file = open('../data/address.txt','r')"
   ]
  },
  {
   "cell_type": "code",
   "execution_count": 3,
   "id": "7b760b46-7ae6-4266-9636-be5b47526d8f",
   "metadata": {},
   "outputs": [
    {
     "data": {
      "text/plain": [
       "'Your name '"
      ]
     },
     "execution_count": 3,
     "metadata": {},
     "output_type": "execute_result"
    }
   ],
   "source": [
    "# use read(size) method to read lines of the file data\n",
    "file.read(10)"
   ]
  },
  {
   "cell_type": "code",
   "execution_count": 4,
   "id": "91457150-56ab-434c-b5f7-6ff99751a99b",
   "metadata": {},
   "outputs": [
    {
     "data": {
      "text/plain": [
       "0"
      ]
     },
     "execution_count": 4,
     "metadata": {},
     "output_type": "execute_result"
    }
   ],
   "source": [
    "file.seek(0)"
   ]
  },
  {
   "cell_type": "code",
   "execution_count": 5,
   "id": "0fd79739-29ff-4e8d-83e9-64eccbbb8a3d",
   "metadata": {},
   "outputs": [
    {
     "data": {
      "text/plain": [
       "['Your name is: Nainesh\\n',\n",
       " 'Your last name is: Khanjire\\n',\n",
       " 'Your address line 1 is: Tara niwas\\n',\n",
       " 'Address line 2 is: Main street\\n',\n",
       " 'Your city is: kolhapur\\n',\n",
       " 'Your state is: Maharashtra\\n',\n",
       " 'The pincode is :416101Your name is: \\n',\n",
       " 'Your last name is: \\n',\n",
       " 'Your address line 1 is: \\n',\n",
       " 'Address line 2 is: \\n',\n",
       " 'Your city is: \\n',\n",
       " 'Your state is: \\n',\n",
       " 'The pincode is:Your name is: \\n',\n",
       " 'Your last name is: \\n',\n",
       " 'Your address line 1 is: \\n',\n",
       " 'Address line 2 is: \\n',\n",
       " 'Your city is: \\n',\n",
       " 'Your state is: \\n',\n",
       " 'The pincode is :']"
      ]
     },
     "execution_count": 5,
     "metadata": {},
     "output_type": "execute_result"
    }
   ],
   "source": [
    "file.seek(0)\n",
    "file.readlines()"
   ]
  },
  {
   "cell_type": "code",
   "execution_count": 6,
   "id": "52901d4c-e839-4848-bfb4-b2a2e4899336",
   "metadata": {},
   "outputs": [
    {
     "data": {
      "text/plain": [
       "459"
      ]
     },
     "execution_count": 6,
     "metadata": {},
     "output_type": "execute_result"
    }
   ],
   "source": [
    "file.tell()\n",
    "# this returns the curren position in number of bytes"
   ]
  },
  {
   "cell_type": "code",
   "execution_count": 7,
   "id": "2be7fcf5-3a6d-48cd-bcff-13ddb8475dca",
   "metadata": {},
   "outputs": [
    {
     "data": {
      "text/plain": [
       "'Your name is: Nainesh\\nYour last name is: Khanjire\\nYour address line 1 is: Tara niwas\\nAddress line 2 is: Main street\\nYour city is: kolhapur\\nYour state is: Maharashtra\\nThe pincode is :416101Your name is: \\nYour last name is: \\nYour address line 1 is: \\nAddress line 2 is: \\nYour city is: \\nYour state is: \\nThe pincode is:Your name is: \\nYour last name is: \\nYour address line 1 is: \\nAddress line 2 is: \\nYour city is: \\nYour state is: \\nThe pincode is :'"
      ]
     },
     "execution_count": 7,
     "metadata": {},
     "output_type": "execute_result"
    }
   ],
   "source": [
    "file.seek(0)\n",
    "file.read()"
   ]
  },
  {
   "cell_type": "code",
   "execution_count": 8,
   "id": "94110180-b1d5-434b-becc-8cb5cfd83957",
   "metadata": {},
   "outputs": [],
   "source": [
    "for line in file:\n",
    "    print(line)"
   ]
  },
  {
   "cell_type": "code",
   "execution_count": 9,
   "id": "d7e07bd6-1b6c-473f-93d2-1fb41b871f20",
   "metadata": {},
   "outputs": [],
   "source": [
    "file.close()"
   ]
  },
  {
   "cell_type": "markdown",
   "id": "cddd5b61-6ced-45fb-b071-39358372f3e6",
   "metadata": {},
   "source": [
    "**write() function**"
   ]
  },
  {
   "cell_type": "code",
   "execution_count": 10,
   "id": "b06ec016-7f5c-4519-9083-9c633b747c46",
   "metadata": {},
   "outputs": [],
   "source": [
    "#this line will create new file named test.txt in the given directory"
   ]
  },
  {
   "cell_type": "code",
   "execution_count": 11,
   "id": "6f69e393-636f-4b66-8c30-047bbff2af9c",
   "metadata": {},
   "outputs": [],
   "source": [
    "filew = open('../data/test.txt','w')"
   ]
  },
  {
   "cell_type": "code",
   "execution_count": 12,
   "id": "a5971f44-f25c-42b2-b914-cb9ba47a872a",
   "metadata": {},
   "outputs": [
    {
     "data": {
      "text/plain": [
       "45"
      ]
     },
     "execution_count": 12,
     "metadata": {},
     "output_type": "execute_result"
    }
   ],
   "source": [
    "filew.write(\"this is the first line in the test text file\\n\")"
   ]
  },
  {
   "cell_type": "code",
   "execution_count": 13,
   "id": "95c0e246-9293-42b3-9112-8300b45366e1",
   "metadata": {},
   "outputs": [
    {
     "data": {
      "text/plain": [
       "37"
      ]
     },
     "execution_count": 13,
     "metadata": {},
     "output_type": "execute_result"
    }
   ],
   "source": [
    "filew.write(\"this is second line in the test file\\n\")"
   ]
  },
  {
   "cell_type": "code",
   "execution_count": 14,
   "id": "c145af56-3a3e-4bc3-870d-399707152b63",
   "metadata": {},
   "outputs": [
    {
     "data": {
      "text/plain": [
       "35"
      ]
     },
     "execution_count": 14,
     "metadata": {},
     "output_type": "execute_result"
    }
   ],
   "source": [
    "filew.write(\"this is third line in the test file\")"
   ]
  },
  {
   "cell_type": "code",
   "execution_count": 15,
   "id": "a7ee1231-15ee-4493-bf2e-5d733aa6d589",
   "metadata": {},
   "outputs": [],
   "source": [
    "filew.close()"
   ]
  },
  {
   "cell_type": "code",
   "execution_count": 16,
   "id": "cb99f560-0312-436b-9770-9594f7bad272",
   "metadata": {},
   "outputs": [],
   "source": [
    "filew = open(\"../data/test.txt\",\"r\")\n"
   ]
  },
  {
   "cell_type": "code",
   "execution_count": 17,
   "id": "84c0fdfd-1610-4979-bdd0-2133cc00064a",
   "metadata": {},
   "outputs": [
    {
     "data": {
      "text/plain": [
       "['this is the first line in the test text file\\n',\n",
       " 'this is second line in the test file\\n',\n",
       " 'this is third line in the test file']"
      ]
     },
     "execution_count": 17,
     "metadata": {},
     "output_type": "execute_result"
    }
   ],
   "source": [
    "filew.seek(0)\n",
    "filew.readlines()"
   ]
  },
  {
   "cell_type": "markdown",
   "id": "555a2d72-84e2-45e7-bd74-47bbb54a12a8",
   "metadata": {},
   "source": [
    "**FLUSH OPEARTION**"
   ]
  },
  {
   "cell_type": "code",
   "execution_count": 18,
   "id": "feab01eb-0143-4bd9-bd5c-34388a51e91b",
   "metadata": {},
   "outputs": [],
   "source": [
    "filew.flush()"
   ]
  },
  {
   "cell_type": "code",
   "execution_count": 19,
   "id": "763f964d-cf9d-4a33-b63c-4d3254bf4468",
   "metadata": {},
   "outputs": [
    {
     "data": {
      "text/plain": [
       "False"
      ]
     },
     "execution_count": 19,
     "metadata": {},
     "output_type": "execute_result"
    }
   ],
   "source": [
    "filew.writable()"
   ]
  },
  {
   "cell_type": "code",
   "execution_count": 20,
   "id": "b9ea8b0a-1c6b-4a4c-89e3-b5f9e37fad5c",
   "metadata": {},
   "outputs": [],
   "source": [
    "filew.close()"
   ]
  },
  {
   "cell_type": "code",
   "execution_count": 21,
   "id": "85de7e3f-f400-4fdb-a762-7f84f218e221",
   "metadata": {},
   "outputs": [],
   "source": [
    "with open(\"../data/test.txt\",\"a\") as f:\n",
    "    f.write(\"this is fourth line\\n\")\n",
    "    f.write(\"this is fifth line\\n\")\n",
    "    f.write(\"this is sixth line\\n\")\n",
    "    # opening the file in append mode and adding multiple lines into the text file"
   ]
  },
  {
   "cell_type": "code",
   "execution_count": 22,
   "id": "5086c1a1-67df-49bd-b183-ee530c270db0",
   "metadata": {},
   "outputs": [],
   "source": [
    "f = open(\"../data/test.txt\",\"r\")"
   ]
  },
  {
   "cell_type": "code",
   "execution_count": 23,
   "id": "57821d0f-b982-4bd9-8216-745775f050a4",
   "metadata": {},
   "outputs": [
    {
     "data": {
      "text/plain": [
       "['this is the first line in the test text file\\n',\n",
       " 'this is second line in the test file\\n',\n",
       " 'this is third line in the test filethis is fourth line\\n',\n",
       " 'this is fifth line\\n',\n",
       " 'this is sixth line\\n']"
      ]
     },
     "execution_count": 23,
     "metadata": {},
     "output_type": "execute_result"
    }
   ],
   "source": [
    "f.readlines()"
   ]
  },
  {
   "cell_type": "code",
   "execution_count": 24,
   "id": "baf0cdb0-d0c8-4668-bef5-bc138851cc7f",
   "metadata": {},
   "outputs": [],
   "source": [
    "f.close()"
   ]
  },
  {
   "cell_type": "markdown",
   "id": "e3e9a3ae-b629-4efb-8b4b-802ecb7aa9a6",
   "metadata": {},
   "source": [
    "**writelines(lines)**"
   ]
  },
  {
   "cell_type": "code",
   "execution_count": 25,
   "id": "1d08a78d-6708-4026-917f-8a4f830e53d2",
   "metadata": {},
   "outputs": [],
   "source": [
    "# writing a list of  lines to the file\n",
    "lines = ['this is line 1\\n',\n",
    "        'this is line 2\\n',\n",
    "        'this is line 3\\n',\n",
    "        'this is line 4\\n',\n",
    "        'this is line 5\\n']"
   ]
  },
  {
   "cell_type": "code",
   "execution_count": 26,
   "id": "acc027ce-ab88-40a2-a2f6-c34b30c078b3",
   "metadata": {},
   "outputs": [],
   "source": [
    "l = open('../data/l.txt','a')"
   ]
  },
  {
   "cell_type": "code",
   "execution_count": 27,
   "id": "5061da6f-5e80-4811-b687-65065339906b",
   "metadata": {},
   "outputs": [],
   "source": [
    "l.writelines(lines)"
   ]
  },
  {
   "cell_type": "code",
   "execution_count": 28,
   "id": "cf85a813-13f5-409b-817f-7b7c240f0da7",
   "metadata": {},
   "outputs": [],
   "source": [
    "l.close()"
   ]
  },
  {
   "cell_type": "code",
   "execution_count": 29,
   "id": "9e8cdb00-5459-4ba4-8b30-8c3aee6e7a7e",
   "metadata": {},
   "outputs": [],
   "source": [
    "\n",
    "lines1 = ['this is line 1\\n',\n",
    "        'this is line 2\\n',\n",
    "        'this is line 3\\n',\n",
    "        'this is line 4\\n',\n",
    "        'this is line 5\\n']"
   ]
  },
  {
   "cell_type": "code",
   "execution_count": 30,
   "id": "92f6365d-4536-4fc1-926b-ed904ee82c6e",
   "metadata": {},
   "outputs": [],
   "source": [
    "with open('../data/l.txt','w') as f1:\n",
    "    f1.writelines(lines1)"
   ]
  },
  {
   "cell_type": "code",
   "execution_count": 39,
   "id": "5d9f086f-ba04-4399-860d-a702bccf0f19",
   "metadata": {},
   "outputs": [],
   "source": [
    "l = open('../data/l.txt','w')"
   ]
  },
  {
   "cell_type": "code",
   "execution_count": 32,
   "id": "4f10ad85-e50a-4271-b1a2-7bf74dbd9c83",
   "metadata": {},
   "outputs": [
    {
     "data": {
      "text/plain": [
       "['this is line 1\\n',\n",
       " 'this is line 2\\n',\n",
       " 'this is line 3\\n',\n",
       " 'this is line 4\\n',\n",
       " 'this is line 5\\n']"
      ]
     },
     "execution_count": 32,
     "metadata": {},
     "output_type": "execute_result"
    }
   ],
   "source": [
    "l.seek(0)\n",
    "l.readlines()"
   ]
  },
  {
   "cell_type": "code",
   "execution_count": 34,
   "id": "06cdda7c-53e5-4aee-b58c-87f92df59b7a",
   "metadata": {},
   "outputs": [],
   "source": [
    "l.close()"
   ]
  },
  {
   "cell_type": "code",
   "execution_count": 42,
   "id": "ce15ff40-1c63-4a32-bf2e-bf0db4ec9827",
   "metadata": {},
   "outputs": [],
   "source": [
    "with open('../data/l.txt','a') as f:\n",
    "    l.write('this is line 6\\n')\n",
    "    l.write('this is line 7\\n')\n",
    "    l.write('this is line 8\\n')\n",
    "    # this operation opens file and automatically closes after completion of the operation"
   ]
  },
  {
   "cell_type": "code",
   "execution_count": 43,
   "id": "443044e0-0275-4bd3-9db8-3af5f2cb5802",
   "metadata": {},
   "outputs": [],
   "source": [
    "f = open('../data/l.txt','r')"
   ]
  },
  {
   "cell_type": "code",
   "execution_count": 46,
   "id": "21a7ab81-bdb2-4765-8668-a39f9436a05e",
   "metadata": {},
   "outputs": [
    {
     "data": {
      "text/plain": [
       "['this is line 6\\n',\n",
       " 'this is line 7\\n',\n",
       " 'this is line 8\\n',\n",
       " 'this is line 6\\n',\n",
       " 'this is line 7\\n',\n",
       " 'this is line 8\\n']"
      ]
     },
     "execution_count": 46,
     "metadata": {},
     "output_type": "execute_result"
    }
   ],
   "source": [
    "f.seek(0)\n",
    "f.readlines()"
   ]
  }
 ],
 "metadata": {
  "kernelspec": {
   "display_name": "Python 3 (ipykernel)",
   "language": "python",
   "name": "python3"
  },
  "language_info": {
   "codemirror_mode": {
    "name": "ipython",
    "version": 3
   },
   "file_extension": ".py",
   "mimetype": "text/x-python",
   "name": "python",
   "nbconvert_exporter": "python",
   "pygments_lexer": "ipython3",
   "version": "3.9.12"
  }
 },
 "nbformat": 4,
 "nbformat_minor": 5
}
