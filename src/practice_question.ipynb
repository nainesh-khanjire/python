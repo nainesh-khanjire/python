{
 "cells": [
  {
   "cell_type": "markdown",
   "metadata": {},
   "source": [
    "*solve_expression() with mathematical_expressions.txt* "
   ]
  },
  {
   "cell_type": "code",
   "execution_count": 71,
   "metadata": {},
   "outputs": [
    {
     "name": "stdout",
     "output_type": "stream",
     "text": [
      "['10', '+', '2']\n",
      "['7.8', '-', '3']\n",
      "['35', 'x', '3']\n",
      "['368', '+', '1']\n",
      "['45', '^', '2']\n",
      "['99', '+', '99']\n",
      "['155', '/', '5']\n",
      "['26', 'x', '26']\n",
      "['1586', '/', '4']\n",
      "['45', '-', '4.6']\n",
      "['98', 'x', '1.5']\n",
      "['63', '^', '3']\n",
      "['78', 'x', '1.2']\n",
      "['9.9', '/', '2']\n",
      "['45', '/', '5']\n",
      "['7896', '+', '45']\n",
      "['96', '+', '46']\n",
      "['12', '-', '2']\n",
      "['36', '/', '3']\n",
      "['89', 'x', '1.3']\n"
     ]
    }
   ],
   "source": [
    "import math \n",
    "fil = open('mathematical_expressions.txt','r')\n",
    "expressions = fil.readlines()\n",
    "for line in expressions:\n",
    "    splitted = line.split()\n",
    "    print(splitted)\n",
    " \n",
    "fil.close()"
   ]
  }
 ],
 "metadata": {
  "kernelspec": {
   "display_name": "Python 3.9.12 64-bit ('pythonworkspace')",
   "language": "python",
   "name": "python3"
  },
  "language_info": {
   "codemirror_mode": {
    "name": "ipython",
    "version": 3
   },
   "file_extension": ".py",
   "mimetype": "text/x-python",
   "name": "python",
   "nbconvert_exporter": "python",
   "pygments_lexer": "ipython3",
   "version": "3.9.12"
  },
  "orig_nbformat": 4,
  "vscode": {
   "interpreter": {
    "hash": "e362d06cc908f32e8db6920f0b7bc6754cc7557171ff01d64b5f38263a887f00"
   }
  }
 },
 "nbformat": 4,
 "nbformat_minor": 2
}
