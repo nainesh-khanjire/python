{
 "cells": [
  {
   "cell_type": "markdown",
   "id": "e6d008ff-e054-4395-8778-a25498951407",
   "metadata": {},
   "source": [
    "# **NUMPY**\n",
    "- core of the numpy package is ndarray object\n",
    "- n-dimensional array of homogenos data types\n",
    "- np arrays have fixed size at creation, unlike python lists which grow dynamically\n",
    "- used for large mathematical operations\n"
   ]
  },
  {
   "cell_type": "code",
   "execution_count": 1,
   "id": "77e74b80-e002-4df8-b9c2-549635795fae",
   "metadata": {},
   "outputs": [],
   "source": [
    "import numpy as np\n",
    "\n"
   ]
  },
  {
   "cell_type": "code",
   "execution_count": 2,
   "id": "5b7a1a5c-b871-4723-a579-40858d07f19f",
   "metadata": {},
   "outputs": [
    {
     "name": "stderr",
     "output_type": "stream",
     "text": [
      "C:\\Users\\naine\\AppData\\Local\\Temp\\ipykernel_14676\\2416776178.py:1: VisibleDeprecationWarning: Creating an ndarray from ragged nested sequences (which is a list-or-tuple of lists-or-tuples-or ndarrays with different lengths or shapes) is deprecated. If you meant to do this, you must specify 'dtype=object' when creating the ndarray.\n",
      "  a = np.array([[1,2,3,4],[5,6]])\n"
     ]
    }
   ],
   "source": [
    "a = np.array([[1,2,3,4],[5,6]])"
   ]
  },
  {
   "cell_type": "code",
   "execution_count": 3,
   "id": "f46d108b-4ce8-4c8d-b57a-65d2fc2f3744",
   "metadata": {},
   "outputs": [
    {
     "data": {
      "text/plain": [
       "numpy.ndarray"
      ]
     },
     "execution_count": 3,
     "metadata": {},
     "output_type": "execute_result"
    }
   ],
   "source": [
    "type(a)"
   ]
  },
  {
   "cell_type": "code",
   "execution_count": 4,
   "id": "9c8a5a9d-fdda-4a70-a8ca-6f8214df3105",
   "metadata": {},
   "outputs": [
    {
     "data": {
      "text/plain": [
       "2"
      ]
     },
     "execution_count": 4,
     "metadata": {},
     "output_type": "execute_result"
    }
   ],
   "source": [
    "len(a)"
   ]
  },
  {
   "cell_type": "code",
   "execution_count": 5,
   "id": "90d5be28-7ddd-4ff8-b3f2-eabfec704d34",
   "metadata": {},
   "outputs": [
    {
     "data": {
      "text/plain": [
       "(2,)"
      ]
     },
     "execution_count": 5,
     "metadata": {},
     "output_type": "execute_result"
    }
   ],
   "source": [
    "a.shape"
   ]
  },
  {
   "cell_type": "code",
   "execution_count": 6,
   "id": "b6e12781-5023-4c1e-8547-dd17a444ada4",
   "metadata": {},
   "outputs": [
    {
     "data": {
      "text/plain": [
       "array([list([1, 2, 3, 4]), list([5, 6])], dtype=object)"
      ]
     },
     "execution_count": 6,
     "metadata": {},
     "output_type": "execute_result"
    }
   ],
   "source": [
    "a"
   ]
  },
  {
   "cell_type": "code",
   "execution_count": 7,
   "id": "eb00f3a6-fb9c-4656-a187-b0395c4ae36f",
   "metadata": {},
   "outputs": [
    {
     "data": {
      "text/plain": [
       "1"
      ]
     },
     "execution_count": 7,
     "metadata": {},
     "output_type": "execute_result"
    }
   ],
   "source": [
    "a.ndim\n"
   ]
  },
  {
   "cell_type": "code",
   "execution_count": 8,
   "id": "3e49c2cc-e60c-42be-b6a1-e11ac1174780",
   "metadata": {},
   "outputs": [],
   "source": [
    "a2 = np.array([[1,2,3],[4,5,6]])"
   ]
  },
  {
   "cell_type": "code",
   "execution_count": 9,
   "id": "4771053b-05db-4065-83da-0be8354f4fd6",
   "metadata": {},
   "outputs": [
    {
     "data": {
      "text/plain": [
       "2"
      ]
     },
     "execution_count": 9,
     "metadata": {},
     "output_type": "execute_result"
    }
   ],
   "source": [
    "a2.ndim"
   ]
  },
  {
   "cell_type": "code",
   "execution_count": 10,
   "id": "a7413545-7857-4547-aee3-a269a1b69e40",
   "metadata": {},
   "outputs": [
    {
     "data": {
      "text/plain": [
       "(2, 3)"
      ]
     },
     "execution_count": 10,
     "metadata": {},
     "output_type": "execute_result"
    }
   ],
   "source": [
    "a2.shape"
   ]
  },
  {
   "cell_type": "code",
   "execution_count": 11,
   "id": "fb547673-faa3-455c-b147-e28e79e7f008",
   "metadata": {},
   "outputs": [],
   "source": [
    "ar1 = np.array([1,2,3,4])\n",
    "ar2 = np.array([5,6,7,8])"
   ]
  },
  {
   "cell_type": "code",
   "execution_count": 12,
   "id": "bf1a7dcf-ed83-4c0c-b862-bacb35d4a7ad",
   "metadata": {},
   "outputs": [],
   "source": [
    "arry = np.concatenate((ar1,ar2))"
   ]
  },
  {
   "cell_type": "code",
   "execution_count": 13,
   "id": "b3cc7753-3a12-47d0-b8cf-7da283976b71",
   "metadata": {},
   "outputs": [
    {
     "data": {
      "text/plain": [
       "array([1, 2, 3, 4, 5, 6, 7, 8])"
      ]
     },
     "execution_count": 13,
     "metadata": {},
     "output_type": "execute_result"
    }
   ],
   "source": [
    "arry"
   ]
  },
  {
   "cell_type": "code",
   "execution_count": 14,
   "id": "35735b76-c50d-4112-a6a5-93b6d5792f0e",
   "metadata": {},
   "outputs": [],
   "source": [
    "arry = np.concatenate((ar1,ar2), axis =0)"
   ]
  },
  {
   "cell_type": "code",
   "execution_count": 15,
   "id": "98be5b91-55c0-4eac-94d1-73a04c468ee7",
   "metadata": {},
   "outputs": [
    {
     "data": {
      "text/plain": [
       "array([1, 2, 3, 4, 5, 6, 7, 8])"
      ]
     },
     "execution_count": 15,
     "metadata": {},
     "output_type": "execute_result"
    }
   ],
   "source": [
    "arry"
   ]
  },
  {
   "cell_type": "code",
   "execution_count": 16,
   "id": "bc93d8ed-eb85-4434-a04e-71f2641ba4b3",
   "metadata": {},
   "outputs": [],
   "source": [
    "#join arrray using stack function\n",
    "a1 = np.array([1,2,3])\n",
    "a2 = np.array([4,5,6])\n"
   ]
  },
  {
   "cell_type": "code",
   "execution_count": 17,
   "id": "1528ee7a-f6b9-4a5e-8037-cd46784ad231",
   "metadata": {},
   "outputs": [],
   "source": [
    "ar = np.stack((a1,a2),axis=1)"
   ]
  },
  {
   "cell_type": "code",
   "execution_count": 18,
   "id": "3aa6c61f-e5ab-490b-a7e5-19df3c5a901e",
   "metadata": {},
   "outputs": [
    {
     "data": {
      "text/plain": [
       "array([[1, 4],\n",
       "       [2, 5],\n",
       "       [3, 6]])"
      ]
     },
     "execution_count": 18,
     "metadata": {},
     "output_type": "execute_result"
    }
   ],
   "source": [
    "ar"
   ]
  },
  {
   "cell_type": "code",
   "execution_count": 19,
   "id": "1e87144c-9cad-41d8-9a79-f82b087229c2",
   "metadata": {},
   "outputs": [],
   "source": [
    "a1 = np.array([4,6,9,2,3,7,8,1,3])"
   ]
  },
  {
   "cell_type": "code",
   "execution_count": 20,
   "id": "6f2b18fc-b266-4035-8a94-7eee4a74b490",
   "metadata": {},
   "outputs": [],
   "source": [
    "ar3 = np.arange(10)"
   ]
  },
  {
   "cell_type": "code",
   "execution_count": 21,
   "id": "6b557e26-a4d4-43ee-9c5e-ed42bc855d4f",
   "metadata": {},
   "outputs": [
    {
     "data": {
      "text/plain": [
       "array([ 0,  1,  2,  3,  4,  5,  6,  7,  8,  9, 10, 11, 12, 13, 14, 15, 16,\n",
       "       17, 18, 19, 20, 21, 22, 23, 24, 25, 26, 27, 28, 29, 30, 31, 32, 33,\n",
       "       34, 35, 36, 37, 38, 39])"
      ]
     },
     "execution_count": 21,
     "metadata": {},
     "output_type": "execute_result"
    }
   ],
   "source": [
    "ar4 = np.arange(40)\n",
    "ar4"
   ]
  },
  {
   "cell_type": "markdown",
   "id": "95188f2b-6512-4720-a26c-0f245a0cd71f",
   "metadata": {
    "tags": []
   },
   "source": [
    "# lists are slow and numpy is fast\n",
    "- numpy uses fixed types\n",
    "- bytes is converted into int32/int16 type\n",
    "- lists requires more space than numpy, computer reads numpy faster than lists\n",
    "- no type-checking while typing\n",
    "- numpy has contiguous memory\n",
    "- numpy has SIMD -  single instruction multi data vector processing\n",
    "- effective cache utilization"
   ]
  },
  {
   "cell_type": "code",
   "execution_count": 22,
   "id": "de9747d6-947c-4fee-9c2a-6949816adcea",
   "metadata": {},
   "outputs": [],
   "source": [
    "s1 = np.array([1,2,3,4,5],dtype='int16')\n"
   ]
  },
  {
   "cell_type": "markdown",
   "id": "d4ff7b56-af19-4d08-878a-d48b8aafb11e",
   "metadata": {},
   "source": [
    "# Applications of NUMPY\n",
    "- MATLAB REPLACEMENT\n",
    "- plotting\n",
    "- backend\n",
    "- machine learning\n"
   ]
  },
  {
   "cell_type": "code",
   "execution_count": 23,
   "id": "2047f30e-0eed-4a49-8f25-9ebf76c61ed2",
   "metadata": {},
   "outputs": [
    {
     "data": {
      "text/plain": [
       "1"
      ]
     },
     "execution_count": 23,
     "metadata": {},
     "output_type": "execute_result"
    }
   ],
   "source": [
    "s1.ndim\n"
   ]
  },
  {
   "cell_type": "code",
   "execution_count": 24,
   "id": "6beb3239-4b7f-43a0-a828-369b48e21b30",
   "metadata": {},
   "outputs": [
    {
     "data": {
      "text/plain": [
       "(5,)"
      ]
     },
     "execution_count": 24,
     "metadata": {},
     "output_type": "execute_result"
    }
   ],
   "source": [
    "s1.shape"
   ]
  },
  {
   "cell_type": "code",
   "execution_count": 25,
   "id": "4083e411-bf9c-49b5-9e9f-60f76953c5cf",
   "metadata": {},
   "outputs": [
    {
     "data": {
      "text/plain": [
       "dtype('int16')"
      ]
     },
     "execution_count": 25,
     "metadata": {},
     "output_type": "execute_result"
    }
   ],
   "source": [
    "s1.dtype"
   ]
  },
  {
   "cell_type": "code",
   "execution_count": 26,
   "id": "8a9dddda-cff8-4309-aaab-23a9c374801b",
   "metadata": {},
   "outputs": [
    {
     "data": {
      "text/plain": [
       "2"
      ]
     },
     "execution_count": 26,
     "metadata": {},
     "output_type": "execute_result"
    }
   ],
   "source": [
    " s1.itemsize"
   ]
  },
  {
   "cell_type": "code",
   "execution_count": 29,
   "id": "36a61fda-08cb-4170-a5e9-404a423116cc",
   "metadata": {},
   "outputs": [],
   "source": [
    "s2 = np.array([1,2,3,4,5,6,7,8,9])\n"
   ]
  },
  {
   "cell_type": "code",
   "execution_count": 33,
   "id": "fc265705-42bf-47a1-a96d-c68c43323e68",
   "metadata": {},
   "outputs": [
    {
     "data": {
      "text/plain": [
       "array([1, 2, 3])"
      ]
     },
     "execution_count": 33,
     "metadata": {},
     "output_type": "execute_result"
    }
   ],
   "source": [
    "#get a specific element\n",
    "s2[0:3]\n"
   ]
  },
  {
   "cell_type": "code",
   "execution_count": 34,
   "id": "7d029ab5-5d51-4528-9724-9e7bc1be5201",
   "metadata": {},
   "outputs": [
    {
     "data": {
      "text/plain": [
       "array([5, 6])"
      ]
     },
     "execution_count": 34,
     "metadata": {},
     "output_type": "execute_result"
    }
   ],
   "source": [
    "s2[4:6]"
   ]
  },
  {
   "cell_type": "code",
   "execution_count": null,
   "id": "f0542ff0-ad76-4898-bff2-f4ae987c13a5",
   "metadata": {},
   "outputs": [],
   "source": []
  }
 ],
 "metadata": {
  "kernelspec": {
   "display_name": "Python 3 (ipykernel)",
   "language": "python",
   "name": "python3"
  },
  "language_info": {
   "codemirror_mode": {
    "name": "ipython",
    "version": 3
   },
   "file_extension": ".py",
   "mimetype": "text/x-python",
   "name": "python",
   "nbconvert_exporter": "python",
   "pygments_lexer": "ipython3",
   "version": "3.9.12"
  }
 },
 "nbformat": 4,
 "nbformat_minor": 5
}
