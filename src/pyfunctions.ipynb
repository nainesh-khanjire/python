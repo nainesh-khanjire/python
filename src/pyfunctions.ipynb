{
 "cells": [
  {
   "cell_type": "markdown",
   "id": "11eac174-4b48-4c43-861d-b71714965770",
   "metadata": {},
   "source": [
    "- block of code that runs only when called which carried out some specific well-defined task"
   ]
  },
  {
   "cell_type": "code",
   "execution_count": 2,
   "id": "10b7b913-7f67-4727-bc3a-ca085977c789",
   "metadata": {},
   "outputs": [],
   "source": [
    "def hello():\n",
    "    print(\"Hello World\")"
   ]
  },
  {
   "cell_type": "code",
   "execution_count": 3,
   "id": "402815d6-ab86-48f7-8696-eeb9b9396f9c",
   "metadata": {},
   "outputs": [
    {
     "name": "stdout",
     "output_type": "stream",
     "text": [
      "Hello World\n"
     ]
    }
   ],
   "source": [
    "hello()"
   ]
  },
  {
   "cell_type": "code",
   "execution_count": 4,
   "id": "d3e5ded7-5661-4f59-af42-b39669604cd0",
   "metadata": {},
   "outputs": [],
   "source": [
    "def armstrong_number():\n",
    "    n = int(input(\"Enter a number to check if its armstrong: \"))\n",
    "    value = 0\n",
    "\n",
    "    # find cube of each digit of the number\n",
    "    temp = n\n",
    "    while temp>0:\n",
    "        digit = temp%10\n",
    "        value = value + digit**3\n",
    "        temp = temp//10\n",
    "        \n",
    "    #display the result\n",
    "    if n==value:\n",
    "        print(n,\"is an armstrong number\")\n",
    "    else:\n",
    "        print(n,\"is not an armstrong number\")"
   ]
  },
  {
   "cell_type": "code",
   "execution_count": 5,
   "id": "b64b5f3e-fd05-4fc2-a09a-3ee99898266d",
   "metadata": {},
   "outputs": [
    {
     "name": "stdin",
     "output_type": "stream",
     "text": [
      "Enter a number to check if its armstrong:  370\n"
     ]
    },
    {
     "name": "stdout",
     "output_type": "stream",
     "text": [
      "370 is an armstrong number\n"
     ]
    }
   ],
   "source": [
    "armstrong_number()"
   ]
  },
  {
   "cell_type": "code",
   "execution_count": 13,
   "id": "8d064008-d816-47cc-abd7-a1a4dc8f43cb",
   "metadata": {},
   "outputs": [],
   "source": [
    "#function to  print first and last name together\n",
    "def name(fname, lname):\n",
    "    print(fname+\" \"+lname)"
   ]
  },
  {
   "cell_type": "code",
   "execution_count": 14,
   "id": "77d599b3-54e9-4b1a-9ed8-feb4088b4c8b",
   "metadata": {},
   "outputs": [
    {
     "name": "stdout",
     "output_type": "stream",
     "text": [
      "nainesh khanjire\n"
     ]
    }
   ],
   "source": [
    "name('nainesh', 'khanjire')"
   ]
  },
  {
   "cell_type": "code",
   "execution_count": 15,
   "id": "7323c883-dc76-46f8-a781-862af81b0152",
   "metadata": {},
   "outputs": [],
   "source": [
    "#name('n')\n",
    "#passing less arguments than required"
   ]
  },
  {
   "cell_type": "markdown",
   "id": "4251fa5b-9d41-419f-9010-a35f6c8d600f",
   "metadata": {},
   "source": [
    "- **Arbitrary Argument**"
   ]
  },
  {
   "cell_type": "code",
   "execution_count": 34,
   "id": "07c6a645-6a27-40ae-9820-c690a5d736ab",
   "metadata": {},
   "outputs": [],
   "source": [
    "def books(*books):\n",
    "    print('I have {0} books,'.format(len(books))) # {0} counts the number of arguments and * in the fn takes n number of arguments\n",
    "    print('these are the names: ')\n",
    "    for i in books:\n",
    "        print('\\t',i)\n",
    "    "
   ]
  },
  {
   "cell_type": "code",
   "execution_count": 35,
   "id": "46090e7c-d63c-45c4-bdd9-77824050a6df",
   "metadata": {},
   "outputs": [
    {
     "name": "stdout",
     "output_type": "stream",
     "text": [
      "I have 3 books,\n",
      "these are the names: \n",
      "\t franz kafka\n",
      "\t politics\n",
      "\t 1234\n"
     ]
    }
   ],
   "source": [
    "books('franz kafka','politics',1234)"
   ]
  },
  {
   "cell_type": "code",
   "execution_count": 36,
   "id": "30e26802-dc32-42c5-8e2d-878aafe9b34d",
   "metadata": {},
   "outputs": [
    {
     "name": "stdout",
     "output_type": "stream",
     "text": [
      "I have 4 books,\n",
      "these are the names: \n",
      "\t meditations\n",
      "\t politics\n",
      "\t 12\n",
      "\t 234\n"
     ]
    }
   ],
   "source": [
    "books('meditations', 'politics','12',234)"
   ]
  },
  {
   "cell_type": "code",
   "execution_count": 47,
   "id": "a4ec84b0-85c5-4031-884c-cdb63765cee7",
   "metadata": {},
   "outputs": [],
   "source": [
    "def employees(name, age, gender):\n",
    "    print(\"Name of the employee is: \"+ name)\n",
    "    print(\"Age of the employee is : \"+ age)\n",
    "    print(\"Gender of the employee is: \"+gender) \n",
    "    "
   ]
  },
  {
   "cell_type": "code",
   "execution_count": 48,
   "id": "a4f9dccc-f24a-4643-b9f7-1b045acd4766",
   "metadata": {},
   "outputs": [
    {
     "name": "stdout",
     "output_type": "stream",
     "text": [
      "Name of the employee is: nainesh\n",
      "Age of the employee is : 24\n",
      "Gender of the employee is: M\n"
     ]
    }
   ],
   "source": [
    "employees('nainesh', '24', 'M') # pass the parameters"
   ]
  },
  {
   "cell_type": "code",
   "execution_count": 51,
   "id": "1172238e-d809-456d-a642-e77943b9d89a",
   "metadata": {},
   "outputs": [
    {
     "name": "stdout",
     "output_type": "stream",
     "text": [
      "Name of the employee is: nainesh\n",
      "Age of the employee is : 24\n",
      "Gender of the employee is: M\n"
     ]
    }
   ],
   "source": [
    "employees(name = \"nainesh\", age = \"24\", gender = \"M\")"
   ]
  },
  {
   "cell_type": "code",
   "execution_count": 54,
   "id": "401ed45f-b7e6-4b18-b930-c2fa8e7d7b9b",
   "metadata": {},
   "outputs": [],
   "source": [
    "def city(city = \"Bengaluru\"):\n",
    "    print(\"I am from \"+city)\n",
    "    "
   ]
  },
  {
   "cell_type": "code",
   "execution_count": 58,
   "id": "93e94986-f926-4f27-ab26-e9bc24d789d3",
   "metadata": {},
   "outputs": [
    {
     "name": "stdout",
     "output_type": "stream",
     "text": [
      "I am from mumbai\n"
     ]
    }
   ],
   "source": [
    "city('mumbai') # this overrides the original argument"
   ]
  },
  {
   "cell_type": "code",
   "execution_count": 67,
   "id": "28e66af0-7c88-4027-bae4-a905ef2ed47d",
   "metadata": {},
   "outputs": [],
   "source": [
    "def cube(n):\n",
    "    cube = n**3\n",
    "    print(cube)\n",
    "    "
   ]
  },
  {
   "cell_type": "code",
   "execution_count": 68,
   "id": "88c66d4c-7840-47ff-8a99-8791284d80d2",
   "metadata": {},
   "outputs": [
    {
     "name": "stdout",
     "output_type": "stream",
     "text": [
      "27\n"
     ]
    }
   ],
   "source": [
    "cube(3)"
   ]
  },
  {
   "cell_type": "code",
   "execution_count": 71,
   "id": "5b3621c1-5b4c-4184-a89d-ab763723c3a6",
   "metadata": {},
   "outputs": [
    {
     "name": "stdout",
     "output_type": "stream",
     "text": [
      "729\n"
     ]
    }
   ],
   "source": [
    "ix = cube(9)"
   ]
  },
  {
   "cell_type": "code",
   "execution_count": 7,
   "id": "c4a2d244-30b0-43ec-a2b4-265ffce3f06e",
   "metadata": {},
   "outputs": [],
   "source": [
    "def armstrong(n):\n",
    "    value = 0\n",
    "    # find sum of cube of each digit in given number\n",
    "    temp = n\n",
    "    while temp >0:\n",
    "        digit = temp%10\n",
    "        value = value +digit**3\n",
    "        temp = temp//10\n",
    "        \n",
    "    if n == value:\n",
    "        return True\n",
    "    else:\n",
    "        return False"
   ]
  },
  {
   "cell_type": "code",
   "execution_count": 3,
   "id": "f29d805c-e69f-4eb1-995c-a436d32b537a",
   "metadata": {},
   "outputs": [
    {
     "ename": "NameError",
     "evalue": "name 'armstrong' is not defined",
     "output_type": "error",
     "traceback": [
      "\u001b[1;31m---------------------------------------------------------------------------\u001b[0m",
      "\u001b[1;31mNameError\u001b[0m                                 Traceback (most recent call last)",
      "Cell \u001b[1;32mIn [3], line 1\u001b[0m\n\u001b[1;32m----> 1\u001b[0m \u001b[43marmstrong\u001b[49m(\u001b[38;5;241m370\u001b[39m)\n",
      "\u001b[1;31mNameError\u001b[0m: name 'armstrong' is not defined"
     ]
    }
   ],
   "source": [
    "armstrong(370)\n"
   ]
  },
  {
   "cell_type": "code",
   "execution_count": 17,
   "id": "f9ad6ff9-ee38-4bc7-a2ef-580668d541dc",
   "metadata": {},
   "outputs": [],
   "source": [
    "def factorial(x):\n",
    "    if x==1:\n",
    "        return 1\n",
    "    else:\n",
    "        return (x*factorial(x-1)) # function calling itself here to multiply to the number less than itself"
   ]
  },
  {
   "cell_type": "code",
   "execution_count": 18,
   "id": "7806aa88-2e55-46c9-9dd7-5c3659111b1b",
   "metadata": {},
   "outputs": [
    {
     "data": {
      "text/plain": [
       "6"
      ]
     },
     "execution_count": 18,
     "metadata": {},
     "output_type": "execute_result"
    }
   ],
   "source": [
    "factorial(3)"
   ]
  },
  {
   "cell_type": "code",
   "execution_count": 19,
   "id": "52831352-234a-403e-b4fb-28cfdb74df3e",
   "metadata": {},
   "outputs": [
    {
     "data": {
      "text/plain": [
       "362880"
      ]
     },
     "execution_count": 19,
     "metadata": {},
     "output_type": "execute_result"
    }
   ],
   "source": [
    "factorial(9)"
   ]
  },
  {
   "cell_type": "code",
   "execution_count": 20,
   "id": "b01e1452-02e8-4009-974d-73bda98dd0da",
   "metadata": {},
   "outputs": [],
   "source": [
    "def recursor():\n",
    "    recursor()"
   ]
  },
  {
   "cell_type": "markdown",
   "id": "aa06534e-f05b-4521-beb0-e1c4679ef3cb",
   "metadata": {},
   "source": [
    "**advantages of recursion**\n",
    "- makes code look cleaner\n",
    "- complex task can be broken down onto simpler problems\n",
    "- sequence generation is easier\n"
   ]
  },
  {
   "cell_type": "code",
   "execution_count": 1,
   "id": "8396210e-a8ab-48eb-b8a6-2bef7f31fcee",
   "metadata": {},
   "outputs": [
    {
     "name": "stdout",
     "output_type": "stream",
     "text": [
      "Help on built-in function print in module builtins:\n",
      "\n",
      "print(...)\n",
      "    print(value, ..., sep=' ', end='\\n', file=sys.stdout, flush=False)\n",
      "    \n",
      "    Prints the values to a stream, or to sys.stdout by default.\n",
      "    Optional keyword arguments:\n",
      "    file:  a file-like object (stream); defaults to the current sys.stdout.\n",
      "    sep:   string inserted between values, default a space.\n",
      "    end:   string appended after the last value, default a newline.\n",
      "    flush: whether to forcibly flush the stream.\n",
      "\n"
     ]
    }
   ],
   "source": [
    "help(print)"
   ]
  },
  {
   "cell_type": "code",
   "execution_count": 2,
   "id": "70fa0b22-01d8-48b6-a2b7-fbbc476b4a35",
   "metadata": {},
   "outputs": [],
   "source": [
    "# this is docstring"
   ]
  },
  {
   "cell_type": "code",
   "execution_count": 31,
   "id": "bdf6ae59-11b7-44fd-844f-4e4fdfb7e8ba",
   "metadata": {},
   "outputs": [],
   "source": [
    "def armstrong(n):\n",
    "    '''this is a docstring'''\n",
    "    value = 0\n",
    "    # find sum of cube of each digit in given number\n",
    "    temp = n\n",
    "    while temp >0:\n",
    "        digit = temp%10\n",
    "        value = value +digit**3\n",
    "        temp = temp//10\n",
    "        \n",
    "    if n == value:\n",
    "        return True\n",
    "    else:\n",
    "        return False"
   ]
  },
  {
   "cell_type": "code",
   "execution_count": 32,
   "id": "dc0486af-6134-4e57-85c5-e50e77fca119",
   "metadata": {},
   "outputs": [
    {
     "name": "stdout",
     "output_type": "stream",
     "text": [
      "Help on function armstrong in module __main__:\n",
      "\n",
      "armstrong(n)\n",
      "    this is a docstring\n",
      "\n"
     ]
    }
   ],
   "source": [
    "help(armstrong)"
   ]
  },
  {
   "cell_type": "markdown",
   "id": "8c272b27-8a33-4ffb-98a2-076d4886eb4a",
   "metadata": {},
   "source": [
    "- anonymous function"
   ]
  },
  {
   "cell_type": "code",
   "execution_count": 35,
   "id": "9c0be116-c65c-4b37-ab3d-aac1f221de81",
   "metadata": {},
   "outputs": [],
   "source": [
    "square = lambda x: x**2"
   ]
  },
  {
   "cell_type": "code",
   "execution_count": 37,
   "id": "cf8cc454-66b9-47b6-b44b-671749cab6d4",
   "metadata": {},
   "outputs": [
    {
     "data": {
      "text/plain": [
       "4761"
      ]
     },
     "execution_count": 37,
     "metadata": {},
     "output_type": "execute_result"
    }
   ],
   "source": [
    "square(69)"
   ]
  },
  {
   "cell_type": "code",
   "execution_count": 47,
   "id": "241c651b-62f8-4528-8691-0dcfe4e2cb8f",
   "metadata": {},
   "outputs": [],
   "source": [
    "def fun():\n",
    "    pass\n",
    "def fun1():\n",
    "    pass\n",
    "def fun2():\n",
    "    pass"
   ]
  },
  {
   "cell_type": "code",
   "execution_count": 49,
   "id": "bc01e8ab-9e0c-4552-92ab-b7eff58dbff1",
   "metadata": {},
   "outputs": [],
   "source": [
    "fun()"
   ]
  },
  {
   "cell_type": "code",
   "execution_count": 51,
   "id": "193e575e-659e-4c2b-bdb3-7ee279795ae8",
   "metadata": {},
   "outputs": [
    {
     "name": "stdout",
     "output_type": "stream",
     "text": [
      "9\n"
     ]
    }
   ],
   "source": [
    "a =9\n",
    "if a <10:\n",
    "    print(a)\n",
    "else:\n",
    "    pass"
   ]
  }
 ],
 "metadata": {
  "kernelspec": {
   "display_name": "Python 3 (ipykernel)",
   "language": "python",
   "name": "python3"
  },
  "language_info": {
   "codemirror_mode": {
    "name": "ipython",
    "version": 3
   },
   "file_extension": ".py",
   "mimetype": "text/x-python",
   "name": "python",
   "nbconvert_exporter": "python",
   "pygments_lexer": "ipython3",
   "version": "3.9.12"
  }
 },
 "nbformat": 4,
 "nbformat_minor": 5
}
