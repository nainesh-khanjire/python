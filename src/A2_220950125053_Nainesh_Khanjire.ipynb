{
 "cells": [
  {
   "cell_type": "markdown",
   "id": "7646c12f-b29d-49f3-bba4-eb78b13ecf83",
   "metadata": {},
   "source": [
    "Assignment no. 2"
   ]
  },
  {
   "cell_type": "markdown",
   "id": "c716c42c-9abf-48ae-bece-10e9aa9bee2c",
   "metadata": {},
   "source": [
    "Q1. Write a program to check whether the given number is a perfect number or not.\n",
    "A number is called a perfect number if the sum of the factors of that number is equal to\n",
    "the same number. Example: 6 = 1 + 2 + 3"
   ]
  },
  {
   "cell_type": "code",
   "execution_count": 1,
   "id": "419f3a45-bba7-4952-b560-27fbc7763644",
   "metadata": {},
   "outputs": [
    {
     "name": "stdout",
     "output_type": "stream",
     "text": [
      "find out if the number is perfect or not >>\n"
     ]
    },
    {
     "name": "stdin",
     "output_type": "stream",
     "text": [
      "Enter the number: 6\n"
     ]
    },
    {
     "name": "stdout",
     "output_type": "stream",
     "text": [
      "The factors of given number are:\n",
      "1\n",
      "2\n",
      "3\n",
      "6\n"
     ]
    }
   ],
   "source": [
    "print(\"find out if the number is perfect or not >>\")\n",
    "number = int(input(\"Enter the number:\")) #user input\n",
    "\n",
    "print(\"The factors of given number are:\")\n",
    "for i in range(1, number+1): # keeps adding 1 to the input number everytime\n",
    "    if number % i == 0: # if the iteration is divisiblee then remainder will be zero, hence prints the iteration >  \n",
    "        print(i) # displays the factor based on above control stmts\n",
    "            \n",
    "            "
   ]
  },
  {
   "cell_type": "markdown",
   "id": "eeb7a889-4192-4a29-a65b-208f5194c4c0",
   "metadata": {},
   "source": [
    "Q2. Write a program to check whether a number can be expanded as the sum of two\n",
    "prime numbers.\n",
    "For example, the number 9 can be expanded as two prime numbers 2 and 7\n",
    "9 = 2 + 7.\n"
   ]
  },
  {
   "cell_type": "code",
   "execution_count": null,
   "id": "cbe3d1ec-9a29-4d99-970b-0210c713707e",
   "metadata": {},
   "outputs": [],
   "source": [
    "def prime(num):\n",
    "    e = 0 # to count the division\n",
    "for i in range(1,num+1):      \n",
    "         if (num%i)==0:\n",
    "             e= e+1 # adds count to variable eveytime number gets divided perfectly\n",
    "if e == 2:\n",
    "    return True\n",
    "else:\n",
    "    return False\n",
    "\n",
    "num = int(input(\"Enter the number: \")) # user input \n",
    "a = []             \n",
    "for i in range(num):\n",
    "    if prime(i):\n",
    "        a.append(i)\n",
    "            \n",
    "    print(a)"
   ]
  },
  {
   "cell_type": "markdown",
   "id": "3814b463-2797-4686-b95d-30719090c1b3",
   "metadata": {},
   "source": [
    "Q3. Write a program to read a multi word string and print all the words in alphabetical\n",
    "order"
   ]
  },
  {
   "cell_type": "code",
   "execution_count": 5,
   "id": "61979b49-16fe-42f0-a96a-6d5010c9b330",
   "metadata": {},
   "outputs": [
    {
     "name": "stdout",
     "output_type": "stream",
     "text": [
      "['all', 'alphabetical', 'an', 'in', 'of', 'order', 'print', 'string', 'the', 'this', 'this', 'will', 'words']\n"
     ]
    }
   ],
   "source": [
    "string1 = \" this will print all the words of this string in an alphabetical order \" \n",
    "\n",
    "# capital lettered words will have more preference than alphabetical order\n",
    "\n",
    "split1 = string1.split()  # used split fn to to split the multi word string \n",
    "\n",
    "split1   # displays the string into a list form\n",
    "\n",
    "# type(split1)  #check type > list\n",
    "\n",
    "split1.sort() # list.split() fn sorts elements alphabetically\n",
    "\n",
    "print(split1) "
   ]
  },
  {
   "cell_type": "markdown",
   "id": "d27c9725-406a-45a7-a118-3484cb7c570e",
   "metadata": {},
   "source": [
    "Q4. Write a program to check whether a sentence is a pangram or not. A pangram is a\n",
    "sentence that contains all the letters of the English alphabet at least once. Example:\n",
    "The quick brown fox jumps over the lazy dog."
   ]
  },
  {
   "cell_type": "code",
   "execution_count": 19,
   "id": "de22b07e-06f8-427c-bf28-8619b5c4428e",
   "metadata": {},
   "outputs": [
    {
     "name": "stdout",
     "output_type": "stream",
     "text": [
      "To check if its pangram or not >>\n"
     ]
    },
    {
     "name": "stdin",
     "output_type": "stream",
     "text": [
      "Enter the sentence: this is not a pangram sentence because\n"
     ]
    },
    {
     "name": "stdout",
     "output_type": "stream",
     "text": [
      "This is NOT a pangram sentence\n"
     ]
    }
   ],
   "source": [
    "print(\"To check if its pangram or not >>\")\n",
    "string = input(\"Enter the sentence:\")\n",
    "alphabets =  \"abcdefghijklmnopqrstuvwxyz\" # assignning all 26 alphabets in string\n",
    "flag = 0\n",
    "for char in alphabets:\n",
    "    if char not in string.lower(): #turn input sentence into lowercase\n",
    "        flag = 1\n",
    "\n",
    "if flag == 1 : # updated flag value \n",
    "    print(\"This is NOT a pangram sentence\")\n",
    "else:\n",
    "    print(\"This is a pangram sentence\")"
   ]
  },
  {
   "cell_type": "markdown",
   "id": "82c41ab0-0ce6-4cf2-ab01-271d01e843d3",
   "metadata": {},
   "source": [
    "Q5. Write a program that takes a phrase as a user input and then prints the\n",
    "corresponding acronym."
   ]
  },
  {
   "cell_type": "code",
   "execution_count": 4,
   "id": "a85b3c1c-b1da-4039-830c-97d045b14034",
   "metadata": {},
   "outputs": [
    {
     "name": "stdin",
     "output_type": "stream",
     "text": [
      "Enter the phrase: nainesh khanjire\n"
     ]
    },
    {
     "name": "stdout",
     "output_type": "stream",
     "text": [
      "The acronym of nainesh khanjire is NK\n"
     ]
    }
   ],
   "source": [
    "given = input(\"Enter the phrase:\") #user input \n",
    "\n",
    "phrase = given.split()  #Spiliting input into individual words                    \n",
    "acr = \"\"                  #empty string to append the acronym\n",
    "\n",
    "for word in phrase:             # for loop\n",
    "    acr = acr + word[0].upper()     # to make letters CAPITAL\n",
    "\n",
    "print(f\"The acronym of\",given,\"is\",acr)    "
   ]
  },
  {
   "cell_type": "markdown",
   "id": "dd8ec435-c78d-4f22-88e1-b209f158b492",
   "metadata": {},
   "source": [
    "Q6. Given a dictionary of students and their favorite colors:\n",
    "people= {'Arham':'Blue',\n",
    "'Lisa':'Yellow',\n",
    "'Vinod':'Purple',\n",
    "'Jenny':'Pink'}\n",
    "i. Find out how many students are in the dictionary.\n",
    "ii. Change Lisa’s favorite colour.\n",
    "iii. Remove 'Jenny' and her favourite colour.\n"
   ]
  },
  {
   "cell_type": "code",
   "execution_count": 15,
   "id": "3bc62d8e-d82a-4c3f-9bf8-3a15a2bfdbcf",
   "metadata": {},
   "outputs": [
    {
     "name": "stdout",
     "output_type": "stream",
     "text": [
      "{'Arham': 'Blue', 'Lisa': 'cyan', 'Vinod': 'Purple', 'Jenny': 'Pink'}\n",
      "{'Arham': 'Blue', 'Lisa': 'cyan', 'Vinod': 'Purple'}\n"
     ]
    }
   ],
   "source": [
    "people= {'Arham':'Blue','Lisa':'Yellow','Vinod':'Purple','Jenny':'Pink'} # given dictionary data \n",
    "\n",
    "len(people) # use len() to find out lenth of the dictionary\n",
    "\n",
    "people['Lisa'] = 'cyan' # changing to lisa's not so favourite colour, cyan\n",
    "print(people)\n",
    "\n",
    "del people['Jenny']  # removed key-value pair\n",
    "a\n",
    "print(people)"
   ]
  },
  {
   "cell_type": "markdown",
   "id": "53b1b176-da0e-4101-96b5-567870e1baa0",
   "metadata": {},
   "source": [
    "Q7. A website requires the users to input username and password to register. Write a\n",
    "program to check the validity of password input by users. Following are the criteria for\n",
    "checking the password:\n",
    "i. At least 1 letter between [a-z]\n",
    "ii. At least 1 number between [0-9]\n",
    "iii. At least 1 letter between [A-Z]\n",
    "iv. At least 1 character from [$#@]\n",
    "v. Minimum length of transaction password: 6\n",
    "vi. Maximum length of transaction password: 12\n",
    "vii. No white spaces anywhere in the password.\n",
    "Your program should accept 5 comma separated passwords in one string and will check\n",
    "them according to the above criteria. Passwords that match the criteria are to be printed\n",
    "on screen."
   ]
  },
  {
   "cell_type": "code",
   "execution_count": 16,
   "id": "0f3ece99-eeb5-4b57-968a-f18dfbac7379",
   "metadata": {
    "tags": []
   },
   "outputs": [
    {
     "name": "stdin",
     "output_type": "stream",
     "text": [
      "set username : nainesh\n",
      "type five passwords separated by comma : Abcd123#\n"
     ]
    }
   ],
   "source": [
    "uname = input(\"set username :\")\n",
    "passwd = input(\"type five passwords separated by comma :\").split(\",\") # creates a string and splits from commas\n",
    "lowalphabets = 'qwertyuioplkjhgfdsazxcvbnm'\n",
    "upalphabets = 'QWERTYUIOPLKJHGFDSAZXCVBNM'\n",
    "digits = '1234567890'\n",
    "chars = '$#@'\n",
    "\n",
    "c = []  # list of 5 elements to validate criterias and update from stmnts\n",
    "    \n",
    "if (len(passwd)>=6 or len(passwd)<=12):\n",
    "    \n",
    "    for i in passwd:\n",
    "        c.append(i)\n",
    "    if i in digits:\n",
    "        c.append(i)\n",
    "    if i in lowalphabets:\n",
    "        c.append(i)\n",
    "    if i in upalphabets:\n",
    "        c.append(i)\n",
    "    if i in chars:\n",
    "        c.append(i)  \n",
    "        print(\"valid\")\n",
    "\n",
    "        print(\"The valid password is :\",passwd)                \n",
    "else:\n",
    "    print(\"invalid\")\n",
    "    "
   ]
  },
  {
   "cell_type": "markdown",
   "id": "642a1926-7d84-4546-9496-745c0200e3ad",
   "metadata": {},
   "source": [
    "8. Write a program that takes a string as input and builds a frequency listing of the\n",
    "characters contained in it. Represent the frequency listing as a Python dictionary.\n",
    "Example:\n",
    "Input String: “Leader”\n",
    "Output Dictionary: {‘L’:1, ‘a’:1,‘d’:1, ‘e’:2, ‘r’:1}\n"
   ]
  },
  {
   "cell_type": "code",
   "execution_count": 14,
   "id": "512a8308-e1ed-441a-9fb4-3a1a153f82b2",
   "metadata": {},
   "outputs": [
    {
     "name": "stdout",
     "output_type": "stream",
     "text": [
      "BUILD FREQUENCY LISTING\n"
     ]
    },
    {
     "name": "stdin",
     "output_type": "stream",
     "text": [
      "Enter a word: CDAC BLR\n"
     ]
    },
    {
     "name": "stdout",
     "output_type": "stream",
     "text": [
      "{'c': 2, 'd': 1, 'a': 1, ' ': 1, 'b': 1, 'l': 1, 'r': 1}\n"
     ]
    }
   ],
   "source": [
    "print(\"BUILD FREQUENCY LISTING\")\n",
    "string = input(\"Enter a word:\")\n",
    "spl = string.lower()\n",
    "\n",
    "d = { }  # empty dictionary\n",
    "\n",
    "for i in spl:\n",
    "    if i in  d:\n",
    "         d[i]=d[i]+1\n",
    "    else:\n",
    "        d[i] = 1\n",
    "print(d)"
   ]
  },
  {
   "cell_type": "markdown",
   "id": "a0118a41-c965-485d-90a9-c5aa70a2d241",
   "metadata": {},
   "source": [
    "Q9. Write a program that maps a list of words into a list of integers representing the\n",
    "lengths of the corresponding words"
   ]
  },
  {
   "cell_type": "code",
   "execution_count": 21,
   "id": "c32ea967-9bfd-45b5-9e16-454cd084de6a",
   "metadata": {},
   "outputs": [
    {
     "name": "stdin",
     "output_type": "stream",
     "text": [
      "Enter the words with some length\n"
     ]
    },
    {
     "name": "stdout",
     "output_type": "stream",
     "text": [
      "length is: [4, 4, 6]\n"
     ]
    }
   ],
   "source": [
    "string = input(\"Enter the words\").split() # take input from user, \n",
    "\n",
    "integers= [] #empty list of integers\n",
    "for i in range(len(string)):\n",
    "        integers.append(len(string[i]))\n",
    "        \n",
    "print(\"length is:\",integers)\n",
    "    "
   ]
  },
  {
   "cell_type": "markdown",
   "id": "87b1bbf6-e32e-45ed-bf6e-846c1c0cd7f9",
   "metadata": {},
   "source": [
    "Q10. Write a program to accept a filename from the user and print the extension of that.\n",
    "Sample filename: attendance.xlsx\n",
    "Output: xlsx\n"
   ]
  },
  {
   "cell_type": "code",
   "execution_count": 10,
   "id": "5f99a24a-b783-4e60-8405-644332d51d9a",
   "metadata": {},
   "outputs": [
    {
     "name": "stdin",
     "output_type": "stream",
     "text": [
      "Enter the filename with extension: hello.py\n"
     ]
    },
    {
     "name": "stdout",
     "output_type": "stream",
     "text": [
      "Extension of the given file is: py\n"
     ]
    }
   ],
   "source": [
    "filename = input(\"Enter the filename with extension:\")\n",
    "ext =filename.split(\".\")\n",
    "print(\"Extension of the given file is:\",ext[-1]) # -1 to access 2nd element of the list splitted after \".\"\n"
   ]
  },
  {
   "cell_type": "markdown",
   "id": "24eabe61-f23c-4173-ba16-618157c4f0f6",
   "metadata": {},
   "source": [
    "Q11. Write a program to print all even numbers from the numbers list given below in the\n",
    "same order and stop the printing if any numbers that come after 449 in the sequence.\n",
    "numbers = [1386, 462, 47, 418, 907, 344, 236, 375, 823, 566, 597, 978,\n",
    "328, 615, 953, 345, 1390, 162, 758, 219, 918, 237, 412, 566, 449, 248,\n",
    "866, 950, 626, 949, 687, 217, 815, 67, 104, 58, 512, 24]\n"
   ]
  },
  {
   "cell_type": "code",
   "execution_count": 11,
   "id": "198b5330-1665-4bd0-8597-6496a31efb10",
   "metadata": {},
   "outputs": [
    {
     "name": "stdout",
     "output_type": "stream",
     "text": [
      "1386\n",
      "462\n",
      "418\n",
      "344\n",
      "236\n",
      "566\n",
      "978\n",
      "328\n",
      "1390\n",
      "162\n",
      "758\n",
      "918\n",
      "412\n",
      "566\n",
      "449\n"
     ]
    }
   ],
   "source": [
    "numbers = [1386, 462, 47, 418, 907, 344, 236, 375, 823, 566, 597, \n",
    "           978, 328, 615, 953, 345, 1390, 162, 758, 219, 918, 237, \n",
    "           412, 566, 449, 248, 866, 950, 626, 949, 687, 217, 815, 67, 104, 58, 512, 24] # given numbers\n",
    "for i in numbers:\n",
    "    if i == 449:\n",
    "        print(i)\n",
    "        break\n",
    "    elif i%2==0:\n",
    "        print(i)\n",
    "\n",
    "\n",
    "\n"
   ]
  },
  {
   "cell_type": "markdown",
   "id": "0a7accf4-2d1a-46dd-9849-8e2d63fbe9ba",
   "metadata": {},
   "source": [
    "Q12. Write a program to print all the colors from color_list_1 which are not present in\n",
    "color_list_2.\n",
    "Test Data:\n",
    "color_list_1 = [\"White\", \"Black\", \"Red\"]\n",
    "color_list_2 = [\"Red\", \"Green\"]\n",
    "Expected Output:\n",
    "Black\n",
    "White"
   ]
  },
  {
   "cell_type": "code",
   "execution_count": 35,
   "id": "1045b7fa-fcc1-4d52-8121-48e7bdde4ac1",
   "metadata": {},
   "outputs": [
    {
     "name": "stdout",
     "output_type": "stream",
     "text": [
      "{'White', 'Black'}\n"
     ]
    }
   ],
   "source": [
    "color_list_1 = set( [\"White\", \"Black\", \"Red\"] )#list 1 \n",
    "color_list_2 = set( [\"Red\", \"Green\"]) #list 2\n",
    "    \n",
    "\n",
    "print(color_list_1.difference(color_list_2))\n",
    "\n",
    "# if any(item not in color_list_2 for item in color_list_1):\n",
    "#     print(\"true\")\n"
   ]
  }
 ],
 "metadata": {
  "kernelspec": {
   "display_name": "Python 3 (ipykernel)",
   "language": "python",
   "name": "python3"
  },
  "language_info": {
   "codemirror_mode": {
    "name": "ipython",
    "version": 3
   },
   "file_extension": ".py",
   "mimetype": "text/x-python",
   "name": "python",
   "nbconvert_exporter": "python",
   "pygments_lexer": "ipython3",
   "version": "3.9.12"
  }
 },
 "nbformat": 4,
 "nbformat_minor": 5
}
