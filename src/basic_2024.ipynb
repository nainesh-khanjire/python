{
 "cells": [
  {
   "cell_type": "code",
   "execution_count": 7,
   "id": "4034ea5b-d5aa-4b08-bc6d-7ef27b2deff9",
   "metadata": {},
   "outputs": [
    {
     "name": "stdout",
     "output_type": "stream",
     "text": [
      "600\n",
      "50\n",
      "25.0\n"
     ]
    }
   ],
   "source": [
    "n1 = 20\n",
    "n2 = 30\n",
    "result1 = n1 * n2\n",
    "print(result1)\n",
    "\n",
    "result2 = n1 + n2\n",
    "print(result2)\n",
    "\n",
    "avg = (n1 +n2)/2\n",
    "print(float(avg))"
   ]
  },
  {
   "cell_type": "markdown",
   "id": "b87c845b-2b46-4ead-9447-03bb074208b9",
   "metadata": {},
   "source": [
    "## Exercise 2: Print the Sum of a Current Number and a Previous number"
   ]
  },
  {
   "cell_type": "code",
   "execution_count": 14,
   "id": "4799c4a6-fadb-4be0-ae36-0a56b9cf7807",
   "metadata": {},
   "outputs": [
    {
     "name": "stdout",
     "output_type": "stream",
     "text": [
      "current number is 2 previous number is 1 sum is 2 + 1 = 3\n",
      "current number is 3 previous number is 2 sum is 3 + 2 = 5\n",
      "current number is 4 previous number is 3 sum is 4 + 3 = 7\n",
      "current number is 5 previous number is 4 sum is 5 + 4 = 9\n",
      "current number is 6 previous number is 5 sum is 6 + 5 = 11\n",
      "current number is 7 previous number is 6 sum is 7 + 6 = 13\n",
      "current number is 8 previous number is 7 sum is 8 + 7 = 15\n",
      "current number is 9 previous number is 8 sum is 9 + 8 = 17\n"
     ]
    }
   ],
   "source": [
    "start = 2\n",
    "end = 10\n",
    "for i in range(start,end):\n",
    "    current_number = i\n",
    "    previous_number = i-1\n",
    "    sum = current_number + previous_number\n",
    "    print(f'current number is {current_number} previous number is {previous_number} sum is {current_number} + {previous_number} = {sum}')\n"
   ]
  },
  {
   "cell_type": "markdown",
   "id": "ac7b476c-445d-4bdc-bcc3-6417da461a52",
   "metadata": {},
   "source": [
    "## Exercise 3: Print characters present at an even index number"
   ]
  },
  {
   "cell_type": "code",
   "execution_count": 27,
   "id": "3957c67c-5301-4c61-abed-b903731fdccc",
   "metadata": {},
   "outputs": [
    {
     "name": "stdout",
     "output_type": "stream",
     "text": [
      "0\n",
      "N\n",
      "2\n",
      "i\n",
      "4\n",
      "e\n",
      "6\n",
      "h\n"
     ]
    }
   ],
   "source": [
    "string = 'Nainesh' # n = 0, a  = 1, i = 2\n",
    "\n",
    "for i in range(len(string)):\n",
    "    if i %2 ==0:\n",
    "        print(i)\n",
    "        print(string[i])\n",
    "    "
   ]
  },
  {
   "cell_type": "code",
   "execution_count": 38,
   "id": "ebf6730f-363a-4738-97ba-5f5d66810a04",
   "metadata": {},
   "outputs": [
    {
     "name": "stdout",
     "output_type": "stream",
     "text": [
      "print only even index chars >>\n",
      "N\n",
      "i\n",
      "e\n",
      "h\n",
      "_______________________\n",
      "\n",
      "N\n",
      "i\n",
      "e\n",
      "h\n"
     ]
    }
   ],
   "source": [
    "string = 'Nainesh'\n",
    "size = len(string)\n",
    "\n",
    "print('print only even index chars >>')\n",
    "for i in range(0, size, 2):\n",
    "    print(string[i])\n",
    "print('_______________________\\n')\n",
    "x = list(string)\n",
    "for i in x[0::2]:\n",
    "    print(i)"
   ]
  },
  {
   "cell_type": "markdown",
   "id": "487abbd5-d639-496a-a1a1-c9256205a459",
   "metadata": {},
   "source": [
    "## Exercise 4: Remove first n characters from a string"
   ]
  },
  {
   "cell_type": "code",
   "execution_count": 53,
   "id": "dd5d8725-2988-4953-bc93-cce48e8feec5",
   "metadata": {},
   "outputs": [
    {
     "name": "stdout",
     "output_type": "stream",
     "text": [
      "original word : nainesh\n",
      "esh\n",
      "original word : india\n",
      "ndia\n"
     ]
    }
   ],
   "source": [
    "def remove_chars(word, n):\n",
    "    print(f'original word : {word}')\n",
    "    x = word[n:]\n",
    "    return x\n",
    "print(remove_chars('nainesh', 4))\n",
    "print(remove_chars('india', 1))"
   ]
  },
  {
   "cell_type": "markdown",
   "id": "13a29768-14e9-48cf-b3ee-a59e9862cccb",
   "metadata": {},
   "source": [
    "## Exercise 5: Check if the first and last numbers of a list are the same"
   ]
  },
  {
   "cell_type": "code",
   "execution_count": 65,
   "id": "134ef8c4-fe09-4b3c-b09b-4105fca54acb",
   "metadata": {},
   "outputs": [
    {
     "name": "stdout",
     "output_type": "stream",
     "text": [
      "True\n",
      "False\n"
     ]
    }
   ],
   "source": [
    "def check_element(l):\n",
    "    if l[0] == l[len(l)-1]:\n",
    "        return True\n",
    "    else:\n",
    "        return False\n",
    "\n",
    "print(check_element([10, 20, 30, 40, 10]))\n",
    "print(check_element([75, 65, 35, 75, 30]))\n"
   ]
  },
  {
   "cell_type": "code",
   "execution_count": null,
   "id": "4266e677-b02d-411b-86f7-402630b68a1f",
   "metadata": {},
   "outputs": [],
   "source": []
  },
  {
   "cell_type": "code",
   "execution_count": null,
   "id": "61a75e5a-8ed1-44cd-bb71-2f6e1d4970ba",
   "metadata": {},
   "outputs": [],
   "source": []
  },
  {
   "cell_type": "code",
   "execution_count": null,
   "id": "474fefda-1a76-42d0-ae76-0d4422923180",
   "metadata": {},
   "outputs": [],
   "source": []
  },
  {
   "cell_type": "code",
   "execution_count": null,
   "id": "bc3c4c6b-d01c-40e8-8c0a-d18c247c9eae",
   "metadata": {},
   "outputs": [],
   "source": []
  },
  {
   "cell_type": "code",
   "execution_count": null,
   "id": "57b9b4c6-9b5f-4305-a157-f98521f97495",
   "metadata": {},
   "outputs": [],
   "source": []
  },
  {
   "cell_type": "code",
   "execution_count": null,
   "id": "16219cf5-1453-4fa5-adf9-d31b23f410fd",
   "metadata": {},
   "outputs": [],
   "source": []
  },
  {
   "cell_type": "code",
   "execution_count": null,
   "id": "b7c42cdb-581a-43dd-b0e7-0ee1b4defcf5",
   "metadata": {},
   "outputs": [],
   "source": []
  },
  {
   "cell_type": "code",
   "execution_count": null,
   "id": "86388af7-3903-4d8c-ba0c-69e3d0f2af80",
   "metadata": {},
   "outputs": [],
   "source": []
  },
  {
   "cell_type": "code",
   "execution_count": null,
   "id": "4daabb05-2341-4b9a-9dc9-71d7889800b9",
   "metadata": {},
   "outputs": [],
   "source": []
  },
  {
   "cell_type": "code",
   "execution_count": null,
   "id": "65c81306-107c-4c91-972d-267c887ab2df",
   "metadata": {},
   "outputs": [],
   "source": []
  },
  {
   "cell_type": "code",
   "execution_count": null,
   "id": "4a5ebb2c-8ab5-4c47-84bc-6f7de6888ca2",
   "metadata": {},
   "outputs": [],
   "source": []
  },
  {
   "cell_type": "code",
   "execution_count": null,
   "id": "7b88608c-2870-401e-853a-c019bcedb0d1",
   "metadata": {},
   "outputs": [],
   "source": []
  },
  {
   "cell_type": "code",
   "execution_count": null,
   "id": "e152b94b-b564-49f0-af56-365eaf778b30",
   "metadata": {},
   "outputs": [],
   "source": []
  },
  {
   "cell_type": "code",
   "execution_count": null,
   "id": "6800f4a2-185b-4aab-b624-e8ebef94dca5",
   "metadata": {},
   "outputs": [],
   "source": []
  },
  {
   "cell_type": "code",
   "execution_count": null,
   "id": "f3884f2a-bd9a-4b5d-b922-6f5791041d10",
   "metadata": {},
   "outputs": [],
   "source": []
  },
  {
   "cell_type": "code",
   "execution_count": null,
   "id": "4d0bed64-0b5b-41aa-8244-ffe20f90e7de",
   "metadata": {},
   "outputs": [],
   "source": []
  },
  {
   "cell_type": "code",
   "execution_count": null,
   "id": "45d9be36-d070-4fac-a74e-96ed2b482551",
   "metadata": {},
   "outputs": [],
   "source": []
  },
  {
   "cell_type": "code",
   "execution_count": null,
   "id": "5717687f-946c-40f5-bb43-d0c686263668",
   "metadata": {},
   "outputs": [],
   "source": []
  },
  {
   "cell_type": "code",
   "execution_count": null,
   "id": "da2069df-4adb-46f0-946a-0869619f41dc",
   "metadata": {},
   "outputs": [],
   "source": []
  },
  {
   "cell_type": "code",
   "execution_count": null,
   "id": "fe765950-b6b2-4c9b-9190-efb51fcd53eb",
   "metadata": {},
   "outputs": [],
   "source": []
  },
  {
   "cell_type": "code",
   "execution_count": null,
   "id": "82f99173-2149-47fd-8fea-8fed170ca450",
   "metadata": {},
   "outputs": [],
   "source": []
  },
  {
   "cell_type": "code",
   "execution_count": null,
   "id": "cfc7968f-edde-47ac-8710-bfd0d0456a7d",
   "metadata": {},
   "outputs": [],
   "source": []
  },
  {
   "cell_type": "code",
   "execution_count": null,
   "id": "866626b4-bfde-45ca-8a6a-187212895bc6",
   "metadata": {},
   "outputs": [],
   "source": []
  }
 ],
 "metadata": {
  "kernelspec": {
   "display_name": "Python 3 (ipykernel)",
   "language": "python",
   "name": "python3"
  },
  "language_info": {
   "codemirror_mode": {
    "name": "ipython",
    "version": 3
   },
   "file_extension": ".py",
   "mimetype": "text/x-python",
   "name": "python",
   "nbconvert_exporter": "python",
   "pygments_lexer": "ipython3",
   "version": "3.12.5"
  }
 },
 "nbformat": 4,
 "nbformat_minor": 5
}
