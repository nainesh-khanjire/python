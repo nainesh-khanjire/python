{
 "cells": [
  {
   "cell_type": "markdown",
   "id": "f607b4c7-37ad-405e-acbc-7862492dc9d5",
   "metadata": {},
   "source": [
    "if"
   ]
  },
  {
   "cell_type": "code",
   "execution_count": 17,
   "id": "821f9650-947b-4dfe-93b7-38e8909b25ed",
   "metadata": {},
   "outputs": [
    {
     "name": "stdout",
     "output_type": "stream",
     "text": [
      "I must study\n",
      ":)\n"
     ]
    }
   ],
   "source": [
    "exam  = True\n",
    "if exam == True:\n",
    "    print(\"I must study\")\n",
    "    print(\":)\")"
   ]
  },
  {
   "cell_type": "markdown",
   "id": "a0308df8-af1c-42c4-ba1f-bf53978dab83",
   "metadata": {},
   "source": [
    "syntax for if"
   ]
  },
  {
   "cell_type": "markdown",
   "id": "c79c7359-602a-4262-aa7b-5bba540fa6fe",
   "metadata": {},
   "source": [
    "if else"
   ]
  },
  {
   "cell_type": "code",
   "execution_count": 20,
   "id": "74d7215f-50aa-4f49-b862-c16c15ce234d",
   "metadata": {},
   "outputs": [
    {
     "name": "stdout",
     "output_type": "stream",
     "text": [
      "I will study hard\n",
      "probably unsubscribe to nflix\n"
     ]
    }
   ],
   "source": [
    "exam = True\n",
    "if exam  == False:\n",
    "    print(\"I will not study\")\n",
    "    print(\"will watch FRIENDS ON NETFLIX\")\n",
    "else:\n",
    "    print(\"I will study hard\")\n",
    "    print(\"probably unsubscribe to nflix\")\n",
    "    "
   ]
  },
  {
   "cell_type": "markdown",
   "id": "17e6e686-d95f-4316-bb62-2618e891d949",
   "metadata": {},
   "source": [
    "odd or even"
   ]
  },
  {
   "cell_type": "code",
   "execution_count": 27,
   "id": "9f8ecfe6-3a08-4055-b30d-f04369ff9733",
   "metadata": {},
   "outputs": [
    {
     "name": "stdin",
     "output_type": "stream",
     "text": [
      "Enter the number to find odd/even >> 1\n"
     ]
    },
    {
     "name": "stdout",
     "output_type": "stream",
     "text": [
      "the number is odd\n"
     ]
    }
   ],
   "source": [
    "a = int(input(\"Enter the number to find odd/even >>\"))\n",
    "if a%2 ==0:\n",
    "    print(\"number is even\")\n",
    "else:\n",
    "    print(\"the number is odd\")\n",
    "              "
   ]
  },
  {
   "cell_type": "code",
   "execution_count": null,
   "id": "ec11003a-bf71-43f8-8582-74272367a0ee",
   "metadata": {},
   "outputs": [],
   "source": []
  }
 ],
 "metadata": {
  "kernelspec": {
   "display_name": "Python 3",
   "language": "python",
   "name": "python3"
  },
  "language_info": {
   "codemirror_mode": {
    "name": "ipython",
    "version": 3
   },
   "file_extension": ".py",
   "mimetype": "text/x-python",
   "name": "python",
   "nbconvert_exporter": "python",
   "pygments_lexer": "ipython3",
   "version": "3.6.12"
  }
 },
 "nbformat": 4,
 "nbformat_minor": 5
}
