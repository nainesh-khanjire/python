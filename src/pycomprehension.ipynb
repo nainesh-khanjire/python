{
 "cells": [
  {
   "cell_type": "markdown",
   "id": "414a97aa-3135-42ff-ac51-bf41a4ad4039",
   "metadata": {},
   "source": [
    "# **Comprehension**"
   ]
  },
  {
   "cell_type": "markdown",
   "id": "4cf1568d-8806-4aef-87a9-be933e310131",
   "metadata": {},
   "source": [
    "this is a correct way of creating a python data structure from one or more iterators\n"
   ]
  },
  {
   "cell_type": "code",
   "execution_count": 8,
   "id": "ebec2472-322c-4564-a285-e3cd35c11dbb",
   "metadata": {},
   "outputs": [],
   "source": [
    "# list comprehension\n",
    "# program to generate list of square of first 10 natural numbers\n",
    "squares = []\n",
    "for i in range(1,11):\n",
    "    squares.append(i**2)\n"
   ]
  },
  {
   "cell_type": "code",
   "execution_count": 10,
   "id": "3ecfaa8d-2c85-41ac-9a43-4d03a1886642",
   "metadata": {},
   "outputs": [
    {
     "data": {
      "text/plain": [
       "[1, 4, 9, 16, 25, 36, 49, 64, 81, 100]"
      ]
     },
     "execution_count": 10,
     "metadata": {},
     "output_type": "execute_result"
    }
   ],
   "source": [
    "squares"
   ]
  },
  {
   "cell_type": "code",
   "execution_count": 17,
   "id": "7e6dfd96-114b-4898-bad2-ab19a59b58d9",
   "metadata": {},
   "outputs": [],
   "source": [
    "# program to generate square of first 10 natural numbers\n",
    "# using list comprehension\n",
    "sq = [i**2 for i  in range(1,11)]"
   ]
  },
  {
   "cell_type": "code",
   "execution_count": 18,
   "id": "e45ef29e-a366-4c8c-a7cd-07d7c55d1e15",
   "metadata": {},
   "outputs": [
    {
     "data": {
      "text/plain": [
       "[1, 4, 9, 16, 25, 36, 49, 64, 81, 100]"
      ]
     },
     "execution_count": 18,
     "metadata": {},
     "output_type": "execute_result"
    }
   ],
   "source": [
    "sq"
   ]
  },
  {
   "cell_type": "code",
   "execution_count": 20,
   "id": "86452d51-7531-459a-8d9c-45ab76cafb80",
   "metadata": {},
   "outputs": [],
   "source": [
    "#create list of even number squares ranging from 1 to 10\n",
    "sqeven = []\n",
    "for i in range(1,11):\n",
    "    if i%2==0:\n",
    "        sqeven.append(i**2)"
   ]
  },
  {
   "cell_type": "code",
   "execution_count": 28,
   "id": "8fda2433-5519-4cc9-9134-9b5476b31dc7",
   "metadata": {},
   "outputs": [
    {
     "data": {
      "text/plain": [
       "[4, 16, 36, 64, 100]"
      ]
     },
     "execution_count": 28,
     "metadata": {},
     "output_type": "execute_result"
    }
   ],
   "source": [
    "sqeven"
   ]
  },
  {
   "cell_type": "code",
   "execution_count": 25,
   "id": "96a32435-f57c-4ae4-b101-44b76ec64602",
   "metadata": {},
   "outputs": [],
   "source": [
    "#using comprehension method\n",
    "sqreven = [i**2 for i in range(1,11) if i%2==0]"
   ]
  },
  {
   "cell_type": "code",
   "execution_count": 27,
   "id": "dc708551-6e62-4674-b5a3-c93e5721e52d",
   "metadata": {},
   "outputs": [
    {
     "data": {
      "text/plain": [
       "[4, 16, 36, 64, 100]"
      ]
     },
     "execution_count": 27,
     "metadata": {},
     "output_type": "execute_result"
    }
   ],
   "source": [
    "sqreven"
   ]
  },
  {
   "cell_type": "markdown",
   "id": "45a0540f-0c74-4862-90da-3d1f3458cdd3",
   "metadata": {
    "tags": []
   },
   "source": [
    "# **Tuple comprehension**"
   ]
  },
  {
   "cell_type": "code",
   "execution_count": 37,
   "id": "2c235f98-c30a-4af0-b446-4142146cc578",
   "metadata": {},
   "outputs": [],
   "source": [
    "sqtuple = tuple(i**2 for i in range(1,11)) \n",
    "# making square of each number from 1 to 10 and creating a tuple of it"
   ]
  },
  {
   "cell_type": "code",
   "execution_count": 40,
   "id": "b341b273-06ad-4833-b398-173e0b463f0a",
   "metadata": {},
   "outputs": [
    {
     "data": {
      "text/plain": [
       "(1, 4, 9, 16, 25, 36, 49, 64, 81, 100)"
      ]
     },
     "execution_count": 40,
     "metadata": {},
     "output_type": "execute_result"
    }
   ],
   "source": [
    "sqtuple"
   ]
  },
  {
   "cell_type": "code",
   "execution_count": 43,
   "id": "74d26a01-28e9-48c4-b357-0e1d706a661c",
   "metadata": {},
   "outputs": [
    {
     "data": {
      "text/plain": [
       "{1: 1, 2: 4, 3: 9, 4: 16, 5: 25, 6: 36, 7: 49, 8: 64, 9: 81, 10: 100}"
      ]
     },
     "execution_count": 43,
     "metadata": {},
     "output_type": "execute_result"
    }
   ],
   "source": [
    "#this is dictionary comprehension\n",
    "sqrs = {x: x*x for x in range(1,11)}\n",
    "sqrs"
   ]
  },
  {
   "cell_type": "markdown",
   "id": "7fac9c9c-650a-40d3-a5f2-85cc0315f843",
   "metadata": {},
   "source": [
    "# **set comprehension**"
   ]
  },
  {
   "cell_type": "code",
   "execution_count": 45,
   "id": "e2104ca6-999e-404f-ba1c-79bdf779bde0",
   "metadata": {},
   "outputs": [],
   "source": [
    "inputlist =[1,2,3,4,5,6,7,8,9,10] "
   ]
  },
  {
   "cell_type": "code",
   "execution_count": 49,
   "id": "a21c4314-293c-4db1-903e-a8b3466e4de7",
   "metadata": {},
   "outputs": [
    {
     "data": {
      "text/plain": [
       "{2, 4, 6, 8, 10}"
      ]
     },
     "execution_count": 49,
     "metadata": {},
     "output_type": "execute_result"
    }
   ],
   "source": [
    "#create set of even numbers from given list of numbers\n",
    "comp = {var for var in inputlist if var%2==0}\n",
    "comp"
   ]
  },
  {
   "cell_type": "code",
   "execution_count": 50,
   "id": "9d35e1eb-88de-4fda-bb03-a441eafaf238",
   "metadata": {},
   "outputs": [],
   "source": [
    "# enumerate"
   ]
  },
  {
   "cell_type": "code",
   "execution_count": 51,
   "id": "acfb7a15-cc72-4b2c-8bd6-1eb8380580ac",
   "metadata": {},
   "outputs": [],
   "source": [
    "colors = ['red','green','blue','cyan']"
   ]
  },
  {
   "cell_type": "code",
   "execution_count": 52,
   "id": "5b522b27-8746-41bb-a32a-1d930d4c58a0",
   "metadata": {},
   "outputs": [
    {
     "name": "stdout",
     "output_type": "stream",
     "text": [
      "(0, 'red')\n",
      "----------------------------------------\n",
      "(1, 'green')\n",
      "----------------------------------------\n",
      "(2, 'blue')\n",
      "----------------------------------------\n",
      "(3, 'cyan')\n",
      "----------------------------------------\n"
     ]
    }
   ],
   "source": [
    "for i in enumerate(colors):\n",
    "    print(i)\n",
    "    print('-'*40)"
   ]
  }
 ],
 "metadata": {
  "kernelspec": {
   "display_name": "Python 3 (ipykernel)",
   "language": "python",
   "name": "python3"
  },
  "language_info": {
   "codemirror_mode": {
    "name": "ipython",
    "version": 3
   },
   "file_extension": ".py",
   "mimetype": "text/x-python",
   "name": "python",
   "nbconvert_exporter": "python",
   "pygments_lexer": "ipython3",
   "version": "3.9.12"
  }
 },
 "nbformat": 4,
 "nbformat_minor": 5
}
