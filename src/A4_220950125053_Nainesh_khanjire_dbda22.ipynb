{
  "cells": [
    {
      "cell_type": "markdown",
      "metadata": {
        "id": "xv35hq84Pnkp"
      },
      "source": [
        "**1. Read the given file rhyme.txt and display lines from it in lower case.**\n"
      ]
    },
    {
      "cell_type": "code",
      "execution_count": null,
      "metadata": {
        "id": "KfwLQ3obPFUc"
      },
      "outputs": [],
      "source": [
        "file = (\"rhyme.txt\",\"r\")"
      ]
    },
    {
      "cell_type": "code",
      "execution_count": 1,
      "metadata": {
        "colab": {
          "base_uri": "https://localhost:8080/"
        },
        "id": "e3MrBSE7XSuT",
        "outputId": "a6caa300-df64-4043-91e7-a65881f0885f"
      },
      "outputs": [
        {
          "name": "stdout",
          "output_type": "stream",
          "text": [
            "baa, baa, black sheep,\n",
            "have you any wool?\n",
            "yes, sir, yes, sir,\n",
            "three bags full;\n",
            "one for the master,\n",
            "and one for the dame,\n",
            "and one for the little boy\n",
            "who lives down the lane.\n"
          ]
        }
      ],
      "source": [
        "with open('rhyme.txt') as f:\n",
        "   for line in f:\n",
        "    print(line.strip().lower())"
      ]
    },
    {
      "cell_type": "markdown",
      "metadata": {
        "id": "LaSDI15mZuQj"
      },
      "source": [
        "**2. Write a function to accept Shipping Address from the User with following fields:\n",
        "I. First Name\n",
        "II. Last Name\n",
        "III. Address Line 1\n",
        "IV. Address Line 2\n",
        "V. City\n",
        "VI. State\n",
        "VII. Pin Code\n",
        "Save shipping addresses in a file named address.txt.**"
      ]
    },
    {
      "cell_type": "code",
      "execution_count": 56,
      "metadata": {
        "id": "pR2SE6eCZqFi"
      },
      "outputs": [],
      "source": [
        "def address(): # this is shipping address\n",
        "    file = open(\"address.txt\", \"a\")\n",
        "    fname = str(input(\"Enter your first name: \"))\n",
        "    file.write(f\"Your name is: {fname}\\n\")\n",
        "\n",
        "    lname = str(input(\"Enter your last name: \"))\n",
        "    file.write(f\"Your last name is: {lname}\\n\")\n",
        "\n",
        "    addline1 = str(input(\"Enter Address line 1: \"))\n",
        "    file.write(f\"Your address line 1 is: {addline1}\\n\")\n",
        "    \n",
        "    addline2 = str(input(\"Enter Address line 2: \"))\n",
        "    file.write(f\"Address line 2 is: {addline2}\\n\")\n",
        "\n",
        "    city = str(input(\"Enter city: \"))\n",
        "    file.write(f\"Your city is: {city}\\n\")\n",
        "\n",
        "    state = str(input(\"Enter state: \"))\n",
        "    file.write(f\"Your state is: {state}\\n\")\n",
        "\n",
        "    pin = str(input(\"Enter pincode of the city entered: \"))\n",
        "    file.write(f\"The pincode is:{pin}\")\n",
        "    \n",
        "    file.close()"
      ]
    },
    {
      "cell_type": "code",
      "execution_count": 65,
      "metadata": {},
      "outputs": [],
      "source": [
        "address() # function call to enter the input"
      ]
    },
    {
      "cell_type": "code",
      "execution_count": 68,
      "metadata": {
        "id": "FT5N97aSuAdR"
      },
      "outputs": [
        {
          "data": {
            "text/plain": [
              "['Your name is: Nainesh\\n',\n",
              " 'Your last name is: Khanjire\\n',\n",
              " 'Your address line 1 is: Tara niwas\\n',\n",
              " 'Address line 2 is: Main street\\n',\n",
              " 'Your city is: kolhapur\\n',\n",
              " 'Your state is: Maharashtra\\n',\n",
              " 'The pincode is :416101']"
            ]
          },
          "execution_count": 68,
          "metadata": {},
          "output_type": "execute_result"
        }
      ],
      "source": [
        "file = open(\"address.txt\",\"r\")\n",
        "file.readlines()  # prints the lines into string format"
      ]
    },
    {
      "cell_type": "code",
      "execution_count": 67,
      "metadata": {},
      "outputs": [
        {
          "data": {
            "text/plain": [
              "194"
            ]
          },
          "execution_count": 67,
          "metadata": {},
          "output_type": "execute_result"
        }
      ],
      "source": [
        "file.tell() # displays number of characters in the text file  "
      ]
    },
    {
      "cell_type": "code",
      "execution_count": 70,
      "metadata": {
        "id": "jXjNOfNkus4A"
      },
      "outputs": [],
      "source": [
        "file.close() # closes the file "
      ]
    },
    {
      "cell_type": "markdown",
      "metadata": {},
      "source": [
        "**3. After accepting Shipping address from user (previous question continued) ask\n",
        "user whether the billing address is same as shipping address, if not, accept\n",
        "billing address from the user with the same fields as mentioned above. Now\n",
        "save these both addresses in the same file with appropriate titles. If we run\n",
        "this code multiple times all the addresses must be saved in the same file.**"
      ]
    },
    {
      "cell_type": "code",
      "execution_count": 107,
      "metadata": {},
      "outputs": [
        {
          "name": "stdout",
          "output_type": "stream",
          "text": [
            "Help on function choice in module __main__:\n",
            "\n",
            "choice()\n",
            "\n"
          ]
        }
      ],
      "source": [
        "def billingaddress(): # this is billing address\n",
        "    file = open(\"address.txt\", \"a\")\n",
        "    fname = str(input(\"Enter your first name: \"))\n",
        "    file.write(f\"Your name is: {fname}\\n\")\n",
        "\n",
        "    lname = str(input(\"Enter your last name: \"))\n",
        "    file.write(f\"Your last name is: {lname}\\n\")\n",
        "\n",
        "    addline1 = str(input(\"Enter Address line 1: \"))\n",
        "    file.write(f\"Your address line 1 is: {addline1}\\n\")\n",
        "    \n",
        "    addline2 = str(input(\"Enter Address line 2: \"))\n",
        "    file.write(f\"Address line 2 is: {addline2}\\n\")\n",
        "\n",
        "    city = str(input(\"Enter city: \"))\n",
        "    file.write(f\"Your city is: {city}\\n\")\n",
        "\n",
        "    state = str(input(\"Enter state: \"))\n",
        "    file.write(f\"Your state is: {state}\\n\")\n",
        "\n",
        "    pin = str(input(\"Enter pincode of the city entered: \"))\n",
        "    file.write(f\"The pincode is:{pin}\")\n",
        "    \n",
        "    file.close()\n",
        "    \n",
        "def choice(): \n",
        "    print(\"Is your billing address same as shipping address?\")\n",
        "    print(\"1. Yes\\n2. No\")\n",
        "    choice = int(input(\"Enter your choice: \"))\n",
        "    \n",
        "    if choice == 1:\n",
        "        print(\"Billing address set same as shipping address\")\n",
        "        if choice == 2:\n",
        "         print(\"please Enter billing address!\")\n",
        "         \n",
        "    '''created another function to let user choose if their shipping address is same as billing address or not'''\n",
        "help(choice)"
      ]
    },
    {
      "cell_type": "code",
      "execution_count": 108,
      "metadata": {},
      "outputs": [
        {
          "name": "stdout",
          "output_type": "stream",
          "text": [
            "Is your billing address same as shipping address?\n",
            "1. Yes\n",
            "2. No\n",
            "Billing address set same as shipping address\n"
          ]
        }
      ],
      "source": [
        "choice()"
      ]
    },
    {
      "cell_type": "markdown",
      "metadata": {},
      "source": [
        "**4. Write a function called reduce_whitespace(), in a module named\n",
        "string_operations, that returns the line with all extra whitespace\n",
        "characters between words replaced with single space.\n",
        "Read the given file white_spaces.txt and apply this function,\n",
        "reduce_whitespace(), by importing from module, on all the lines in the file,\n",
        "one by one, and then save these lines in a new file**"
      ]
    },
    {
      "cell_type": "code",
      "execution_count": 41,
      "metadata": {},
      "outputs": [],
      "source": [
        "def reduce_whitespace(lines):\n",
        "    with open(\"D:\\PYTHON lectures\\DAY4\\white_spaces.txt\", \"r\") as f:\n",
        "    # provide path to the stored file and open with read mode\n",
        "     file = f.readlines() # assign to a variable\n",
        "    \n",
        "    #remove spaces  by using this >\n",
        "    lines = [line.replace(' ','') for line in lines]\n",
        "\n",
        "    with open(\"no_spaces.txt\", \"w\") as f:\n",
        "        f.writelines(lines)\n",
        "        \n",
        "        f.close()"
      ]
    },
    {
      "cell_type": "code",
      "execution_count": null,
      "metadata": {},
      "outputs": [],
      "source": [
        "reduce_whitespace()\n"
      ]
    },
    {
      "cell_type": "markdown",
      "metadata": {},
      "source": [
        "**6. File movies_data.txt contains data about movies. Each line of this file\n",
        "contains data for 1 movie. Data is in following format:\n",
        "movie_id::movie_name (release_rear)::genres\n",
        "If movie falls in more than one genre then those are separated by “|”.\n",
        "E.g.: Comedy|Drama|Romance\n",
        "Based on the data in this file answer the following questions:\n",
        "a) Find the number of movies released every year in a dictionary.\n",
        "Sample output: {'1923': 3, '1930': 7, '1957': 20…}\n",
        "b) Find the total number of movie names starting with T or J.\n",
        "c) How many comedy movies were released in 1995?\n",
        "d) How many action movies were released in 1993?\n",
        "e) How many Batman movies are present in the file?**"
      ]
    },
    {
      "cell_type": "code",
      "execution_count": 66,
      "metadata": {},
      "outputs": [],
      "source": [
        "file1 = open(\"movies_data.txt\",\"r\")"
      ]
    },
    {
      "cell_type": "code",
      "execution_count": null,
      "metadata": {},
      "outputs": [],
      "source": [
        "with open(\"movies_data.txt\",\"r\", encoding=\"utf-8\") as f:\n",
        " dict={}\n",
        " fp = []\n",
        " fp = file.readlines()\n",
        "for line in fp:\n",
        "   year= line.rsplit( \")\",1)[0][-4:]\n",
        "   if (year in dict):\n",
        "          dict[year]+=l\n",
        "   else:\n",
        "      dict[year]=l\n",
        "print(dict)"
      ]
    },
    {
      "cell_type": "code",
      "execution_count": null,
      "metadata": {},
      "outputs": [],
      "source": [
        "file2=open(\"movies_data.txt\" ,\"r\")\n",
        "movies = file2.readlines( )\n",
        "total = 0\n",
        "\n",
        "for i in movies:\n",
        "    l = i.split(\"::\")\n",
        "    if l[1][0] == 'T' or l[1][0]==\"j\":\n",
        "        total+=l\n",
        "        print(\"the total no of movies name startig with T or J\")\n",
        "        file2.close()"
      ]
    },
    {
      "cell_type": "code",
      "execution_count": null,
      "metadata": {},
      "outputs": [],
      "source": []
    }
  ],
  "metadata": {
    "colab": {
      "collapsed_sections": [],
      "provenance": []
    },
    "kernelspec": {
      "display_name": "Python 3.9.12 ('base')",
      "language": "python",
      "name": "python3"
    },
    "language_info": {
      "codemirror_mode": {
        "name": "ipython",
        "version": 3
      },
      "file_extension": ".py",
      "mimetype": "text/x-python",
      "name": "python",
      "nbconvert_exporter": "python",
      "pygments_lexer": "ipython3",
      "version": "3.9.12 (main, Apr  4 2022, 05:22:27) [MSC v.1916 64 bit (AMD64)]"
    },
    "vscode": {
      "interpreter": {
        "hash": "e362d06cc908f32e8db6920f0b7bc6754cc7557171ff01d64b5f38263a887f00"
      }
    }
  },
  "nbformat": 4,
  "nbformat_minor": 0
}
