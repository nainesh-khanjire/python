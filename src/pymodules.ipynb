{
 "cells": [
  {
   "cell_type": "markdown",
   "id": "3a53dd93-9824-4deb-88d0-47d8831dff43",
   "metadata": {},
   "source": [
    "**modules**\n",
    "- module is a file containing python definitions and statements\n",
    "- module can also include runnable code\n",
    "- this makes code logically organised\n"
   ]
  },
  {
   "cell_type": "code",
   "execution_count": 1,
   "id": "935d0f60-1257-440a-b577-82f9f16ebaf8",
   "metadata": {},
   "outputs": [],
   "source": [
    "import my_module"
   ]
  },
  {
   "cell_type": "code",
   "execution_count": 3,
   "id": "1b9ff6a9-cfe6-4417-a1c2-02f4aac1a7d9",
   "metadata": {},
   "outputs": [
    {
     "data": {
      "text/plain": [
       "6"
      ]
     },
     "execution_count": 3,
     "metadata": {},
     "output_type": "execute_result"
    }
   ],
   "source": [
    "my_module.factorial(3)"
   ]
  },
  {
   "cell_type": "code",
   "execution_count": 9,
   "id": "75887c18-4c1e-4724-ae05-8fccb051c0ec",
   "metadata": {},
   "outputs": [
    {
     "data": {
      "text/plain": [
       "'/home/usr1/folder_name'"
      ]
     },
     "execution_count": 9,
     "metadata": {},
     "output_type": "execute_result"
    }
   ],
   "source": [
    "my_module.OUTPUT_PATH\n"
   ]
  },
  {
   "cell_type": "code",
   "execution_count": 15,
   "id": "7a022087-b4d6-4bf7-888a-c191e9a51794",
   "metadata": {},
   "outputs": [],
   "source": [
    "from my_module import factorial, armstrong_number3\n",
    "#these are inbuilt funtions and can be used anywhere "
   ]
  },
  {
   "cell_type": "code",
   "execution_count": 16,
   "id": "4153c677-a39d-4103-a336-31f4c396c209",
   "metadata": {},
   "outputs": [
    {
     "data": {
      "text/plain": [
       "True"
      ]
     },
     "execution_count": 16,
     "metadata": {},
     "output_type": "execute_result"
    }
   ],
   "source": [
    "armstrong_number3(370)"
   ]
  },
  {
   "cell_type": "code",
   "execution_count": 17,
   "id": "a48b3c41-6ece-4b13-b13e-a484baaedb76",
   "metadata": {},
   "outputs": [],
   "source": [
    "from my_module import *"
   ]
  },
  {
   "cell_type": "code",
   "execution_count": 18,
   "id": "f9c87db5-ea45-467c-baf6-af9327717bc7",
   "metadata": {},
   "outputs": [
    {
     "data": {
      "text/plain": [
       "40320"
      ]
     },
     "execution_count": 18,
     "metadata": {},
     "output_type": "execute_result"
    }
   ],
   "source": [
    "factorial(8)"
   ]
  },
  {
   "cell_type": "code",
   "execution_count": 21,
   "id": "920c7ffc-94e3-495f-9e4a-fa68673fa088",
   "metadata": {},
   "outputs": [
    {
     "data": {
      "text/plain": [
       "True"
      ]
     },
     "execution_count": 21,
     "metadata": {},
     "output_type": "execute_result"
    }
   ],
   "source": [
    "armstrong_number3(370)"
   ]
  },
  {
   "cell_type": "code",
   "execution_count": 22,
   "id": "1fb258a2-6ddc-435b-89e5-1930c3f8a26e",
   "metadata": {},
   "outputs": [],
   "source": [
    "import math\n"
   ]
  },
  {
   "cell_type": "code",
   "execution_count": 23,
   "id": "8e608d6a-ccc9-4f24-ab56-8585919bc917",
   "metadata": {},
   "outputs": [
    {
     "name": "stdout",
     "output_type": "stream",
     "text": [
      "5.0\n"
     ]
    }
   ],
   "source": [
    "print(math.sqrt(25))"
   ]
  },
  {
   "cell_type": "code",
   "execution_count": 24,
   "id": "df38708d-9839-4529-a7bd-0186c3d948ad",
   "metadata": {},
   "outputs": [
    {
     "name": "stdout",
     "output_type": "stream",
     "text": [
      "3.141592653589793\n"
     ]
    }
   ],
   "source": [
    "print(math.pi)"
   ]
  },
  {
   "cell_type": "code",
   "execution_count": 25,
   "id": "26be0a57-ace5-46ff-a922-b185b2bd670b",
   "metadata": {},
   "outputs": [
    {
     "name": "stdout",
     "output_type": "stream",
     "text": [
      "114.59155902616465\n"
     ]
    }
   ],
   "source": [
    "print(math.degrees(2))\n"
   ]
  },
  {
   "cell_type": "code",
   "execution_count": 44,
   "id": "fee020cb-f27e-4085-b65c-56c84a999b4d",
   "metadata": {},
   "outputs": [
    {
     "name": "stdout",
     "output_type": "stream",
     "text": [
      "1.000003848222671\n"
     ]
    }
   ],
   "source": [
    "print(math.radians(57.296))"
   ]
  },
  {
   "cell_type": "code",
   "execution_count": 46,
   "id": "8329c9ae-722c-404e-a5a9-1127931f8795",
   "metadata": {},
   "outputs": [],
   "source": [
    "import random"
   ]
  },
  {
   "cell_type": "code",
   "execution_count": 117,
   "id": "da4f42cb-6a59-4ff1-b41e-c26ad8df6574",
   "metadata": {},
   "outputs": [
    {
     "name": "stdout",
     "output_type": "stream",
     "text": [
      "57\n"
     ]
    }
   ],
   "source": [
    "print(random.randint(20,60))\n",
    "#prints random values from any given range of numbers\n",
    "#range should be in ascending order"
   ]
  },
  {
   "cell_type": "code",
   "execution_count": 100,
   "id": "e12dfd3f-d9a6-4125-a555-44d89e7067a5",
   "metadata": {},
   "outputs": [
    {
     "name": "stdout",
     "output_type": "stream",
     "text": [
      "32.139412224614894\n"
     ]
    }
   ],
   "source": [
    "print(random.random()*100)\n",
    "# prints random values from 0 to 100"
   ]
  },
  {
   "cell_type": "code",
   "execution_count": 118,
   "id": "81835c1d-4778-4fed-9363-b1c990ac1a4f",
   "metadata": {},
   "outputs": [],
   "source": [
    "lis = [1,2,3, 'hi', 'ignore this',True, 69.420]"
   ]
  },
  {
   "cell_type": "code",
   "execution_count": 122,
   "id": "92b31b00-88b1-43d2-9de0-1bf83db10f84",
   "metadata": {},
   "outputs": [],
   "source": [
    "import datetime\n",
    "# this is a builtin module for datetime"
   ]
  },
  {
   "cell_type": "code",
   "execution_count": 126,
   "id": "823fecd5-8b3c-446f-b59e-7c2c69d51c67",
   "metadata": {},
   "outputs": [],
   "source": [
    "x  = datetime.datetime.now()"
   ]
  },
  {
   "cell_type": "code",
   "execution_count": 128,
   "id": "d7b53e27-e75e-47af-b101-955e95e78f0a",
   "metadata": {},
   "outputs": [
    {
     "data": {
      "text/plain": [
       "2022"
      ]
     },
     "execution_count": 128,
     "metadata": {},
     "output_type": "execute_result"
    }
   ],
   "source": [
    "x.year"
   ]
  },
  {
   "cell_type": "code",
   "execution_count": 148,
   "id": "dbf21bab-0e36-48a2-b1c6-7172769c7d09",
   "metadata": {},
   "outputs": [],
   "source": [
    "x1= datetime.datetime(2022,11,15)"
   ]
  },
  {
   "cell_type": "code",
   "execution_count": 133,
   "id": "1a340622-257b-40a7-b779-90c0c7c1f103",
   "metadata": {},
   "outputs": [],
   "source": [
    "x2= datetime.datetime(1997,7,11)"
   ]
  },
  {
   "cell_type": "code",
   "execution_count": 149,
   "id": "782e2ba5-0dc8-411a-bc85-10c13d3ada42",
   "metadata": {},
   "outputs": [
    {
     "data": {
      "text/plain": [
       "datetime.timedelta(days=9258)"
      ]
     },
     "execution_count": 149,
     "metadata": {},
     "output_type": "execute_result"
    }
   ],
   "source": [
    "x1-x2"
   ]
  },
  {
   "cell_type": "code",
   "execution_count": 142,
   "id": "f32dc55d-afd6-4826-a6aa-22a779f854d4",
   "metadata": {},
   "outputs": [],
   "source": [
    "import time\n",
    "#returns the number of seconds since january 1st 1970\n",
    "#callled unix epoch time\n"
   ]
  },
  {
   "cell_type": "code",
   "execution_count": 147,
   "id": "c4523960-103c-4f62-99d7-e9637b8c3bdc",
   "metadata": {},
   "outputs": [
    {
     "name": "stdout",
     "output_type": "stream",
     "text": [
      "1668482776.70014\n"
     ]
    }
   ],
   "source": [
    "print(time.time())"
   ]
  },
  {
   "cell_type": "code",
   "execution_count": 151,
   "id": "c554bd0c-6c33-44f2-a781-ccc8dcc6a2b6",
   "metadata": {},
   "outputs": [],
   "source": [
    "from datetime import date"
   ]
  },
  {
   "cell_type": "code",
   "execution_count": 152,
   "id": "6a4959d1-3a43-4d2c-bcdb-e8ca2ed78a7c",
   "metadata": {},
   "outputs": [],
   "source": [
    "y = time.time()"
   ]
  },
  {
   "cell_type": "code",
   "execution_count": 156,
   "id": "3ab3e541-a135-451a-bd9f-fef358046a63",
   "metadata": {},
   "outputs": [
    {
     "name": "stdout",
     "output_type": "stream",
     "text": [
      "2022-11-15\n"
     ]
    }
   ],
   "source": [
    "print(date.fromtimestamp(y))\n",
    "#coverts number of seconds to date object"
   ]
  },
  {
   "cell_type": "code",
   "execution_count": 157,
   "id": "25caeaa2-19a7-44c6-9a4c-a71d9a170704",
   "metadata": {},
   "outputs": [],
   "source": [
    "import os"
   ]
  },
  {
   "cell_type": "code",
   "execution_count": 159,
   "id": "4493864f-0878-4e0b-b849-048444996ac1",
   "metadata": {},
   "outputs": [
    {
     "data": {
      "text/plain": [
       "'D:\\\\jupyterlab\\\\python\\\\src'"
      ]
     },
     "execution_count": 159,
     "metadata": {},
     "output_type": "execute_result"
    }
   ],
   "source": [
    "os.getcwd()\n",
    "# displays currrent working directory"
   ]
  },
  {
   "cell_type": "code",
   "execution_count": 161,
   "id": "29a367fd-e08d-46b6-9868-d04d9810d570",
   "metadata": {},
   "outputs": [
    {
     "data": {
      "text/plain": [
       "['.ipynb_checkpoints',\n",
       " 'A1_220950125053_Nainesh_Khanjire.ipynb',\n",
       " 'A2_220950125053_Nainesh_Khanjire.ipynb',\n",
       " 'A3_220950125053_Nainesh_khanjire_dbda22.ipynb',\n",
       " 'A4_220950125053_Nainesh_khanjire_dbda22.ipynb',\n",
       " 'A5_220950125053_Nainesh_Khanjire_dbda22.ipynb',\n",
       " 'A6_220950125053_Nainesh_Khanjire_dbda.ipynb',\n",
       " 'A7_220950125053_Nainesh_Khanjire_dbda.ipynb',\n",
       " 'A8_220950125053_Nainesh_Khanjire_dbda.ipynb',\n",
       " 'basics.ipynb',\n",
       " 'class.ipynb',\n",
       " 'conditionalstmts.ipynb',\n",
       " 'my_module.py',\n",
       " 'pd.ipynb',\n",
       " 'practice_question.ipynb',\n",
       " 'pybasics.ipynb',\n",
       " 'pycomprehension.ipynb',\n",
       " 'pyconditional.ipynb',\n",
       " 'pydictionary.ipynb',\n",
       " 'pyfunctions.ipynb',\n",
       " 'pylist.ipynb',\n",
       " 'pymodules.ipynb',\n",
       " 'pynumpy.ipynb',\n",
       " 'pyset.ipynb',\n",
       " 'pystring.ipynb',\n",
       " 'pytuple.ipynb',\n",
       " '__pycache__']"
      ]
     },
     "execution_count": 161,
     "metadata": {},
     "output_type": "execute_result"
    }
   ],
   "source": [
    "os.listdir()\n",
    "#lists all the files of the current directory"
   ]
  },
  {
   "cell_type": "code",
   "execution_count": 166,
   "id": "da39db1b-be7d-44bd-9dfe-caa162d17439",
   "metadata": {},
   "outputs": [],
   "source": [
    "os.mkdir(\"testdir\")"
   ]
  },
  {
   "cell_type": "code",
   "execution_count": 163,
   "id": "3f946184-54af-4514-984b-b4017694b8cb",
   "metadata": {},
   "outputs": [
    {
     "data": {
      "text/plain": [
       "['.ipynb_checkpoints',\n",
       " 'A1_220950125053_Nainesh_Khanjire.ipynb',\n",
       " 'A2_220950125053_Nainesh_Khanjire.ipynb',\n",
       " 'A3_220950125053_Nainesh_khanjire_dbda22.ipynb',\n",
       " 'A4_220950125053_Nainesh_khanjire_dbda22.ipynb',\n",
       " 'A5_220950125053_Nainesh_Khanjire_dbda22.ipynb',\n",
       " 'A6_220950125053_Nainesh_Khanjire_dbda.ipynb',\n",
       " 'A7_220950125053_Nainesh_Khanjire_dbda.ipynb',\n",
       " 'A8_220950125053_Nainesh_Khanjire_dbda.ipynb',\n",
       " 'basics.ipynb',\n",
       " 'class.ipynb',\n",
       " 'conditionalstmts.ipynb',\n",
       " 'my_module.py',\n",
       " 'pd.ipynb',\n",
       " 'practice_question.ipynb',\n",
       " 'pybasics.ipynb',\n",
       " 'pycomprehension.ipynb',\n",
       " 'pyconditional.ipynb',\n",
       " 'pydictionary.ipynb',\n",
       " 'pyfunctions.ipynb',\n",
       " 'pylist.ipynb',\n",
       " 'pymodules.ipynb',\n",
       " 'pynumpy.ipynb',\n",
       " 'pyset.ipynb',\n",
       " 'pystring.ipynb',\n",
       " 'pytuple.ipynb',\n",
       " 'testdir',\n",
       " '__pycache__']"
      ]
     },
     "execution_count": 163,
     "metadata": {},
     "output_type": "execute_result"
    }
   ],
   "source": [
    "os.listdir()"
   ]
  },
  {
   "cell_type": "code",
   "execution_count": 167,
   "id": "33fe83d2-bdb9-4797-8048-72e3bc6ebddf",
   "metadata": {},
   "outputs": [],
   "source": [
    "os.rmdir(\"testdir\")"
   ]
  },
  {
   "cell_type": "code",
   "execution_count": 165,
   "id": "4f54dfce-ab94-4a47-b10c-6b8ce7fbd72d",
   "metadata": {},
   "outputs": [
    {
     "data": {
      "text/plain": [
       "['.ipynb_checkpoints',\n",
       " 'A1_220950125053_Nainesh_Khanjire.ipynb',\n",
       " 'A2_220950125053_Nainesh_Khanjire.ipynb',\n",
       " 'A3_220950125053_Nainesh_khanjire_dbda22.ipynb',\n",
       " 'A4_220950125053_Nainesh_khanjire_dbda22.ipynb',\n",
       " 'A5_220950125053_Nainesh_Khanjire_dbda22.ipynb',\n",
       " 'A6_220950125053_Nainesh_Khanjire_dbda.ipynb',\n",
       " 'A7_220950125053_Nainesh_Khanjire_dbda.ipynb',\n",
       " 'A8_220950125053_Nainesh_Khanjire_dbda.ipynb',\n",
       " 'basics.ipynb',\n",
       " 'class.ipynb',\n",
       " 'conditionalstmts.ipynb',\n",
       " 'my_module.py',\n",
       " 'pd.ipynb',\n",
       " 'practice_question.ipynb',\n",
       " 'pybasics.ipynb',\n",
       " 'pycomprehension.ipynb',\n",
       " 'pyconditional.ipynb',\n",
       " 'pydictionary.ipynb',\n",
       " 'pyfunctions.ipynb',\n",
       " 'pylist.ipynb',\n",
       " 'pymodules.ipynb',\n",
       " 'pynumpy.ipynb',\n",
       " 'pyset.ipynb',\n",
       " 'pystring.ipynb',\n",
       " 'pytuple.ipynb',\n",
       " '__pycache__']"
      ]
     },
     "execution_count": 165,
     "metadata": {},
     "output_type": "execute_result"
    }
   ],
   "source": [
    "os.listdir()"
   ]
  },
  {
   "cell_type": "code",
   "execution_count": 169,
   "id": "7544acaf-93eb-47f2-8b45-bf293a02f0ba",
   "metadata": {},
   "outputs": [
    {
     "data": {
      "text/plain": [
       "['DirEntry',\n",
       " 'F_OK',\n",
       " 'GenericAlias',\n",
       " 'Mapping',\n",
       " 'MutableMapping',\n",
       " 'O_APPEND',\n",
       " 'O_BINARY',\n",
       " 'O_CREAT',\n",
       " 'O_EXCL',\n",
       " 'O_NOINHERIT',\n",
       " 'O_RANDOM',\n",
       " 'O_RDONLY',\n",
       " 'O_RDWR',\n",
       " 'O_SEQUENTIAL',\n",
       " 'O_SHORT_LIVED',\n",
       " 'O_TEMPORARY',\n",
       " 'O_TEXT',\n",
       " 'O_TRUNC',\n",
       " 'O_WRONLY',\n",
       " 'P_DETACH',\n",
       " 'P_NOWAIT',\n",
       " 'P_NOWAITO',\n",
       " 'P_OVERLAY',\n",
       " 'P_WAIT',\n",
       " 'PathLike',\n",
       " 'R_OK',\n",
       " 'SEEK_CUR',\n",
       " 'SEEK_END',\n",
       " 'SEEK_SET',\n",
       " 'TMP_MAX',\n",
       " 'W_OK',\n",
       " 'X_OK',\n",
       " '_AddedDllDirectory',\n",
       " '_Environ',\n",
       " '__all__',\n",
       " '__builtins__',\n",
       " '__cached__',\n",
       " '__doc__',\n",
       " '__file__',\n",
       " '__loader__',\n",
       " '__name__',\n",
       " '__package__',\n",
       " '__spec__',\n",
       " '_check_methods',\n",
       " '_execvpe',\n",
       " '_exists',\n",
       " '_exit',\n",
       " '_fspath',\n",
       " '_get_exports_list',\n",
       " '_walk',\n",
       " '_wrap_close',\n",
       " 'abc',\n",
       " 'abort',\n",
       " 'access',\n",
       " 'add_dll_directory',\n",
       " 'altsep',\n",
       " 'chdir',\n",
       " 'chmod',\n",
       " 'close',\n",
       " 'closerange',\n",
       " 'cpu_count',\n",
       " 'curdir',\n",
       " 'defpath',\n",
       " 'device_encoding',\n",
       " 'devnull',\n",
       " 'dup',\n",
       " 'dup2',\n",
       " 'environ',\n",
       " 'error',\n",
       " 'execl',\n",
       " 'execle',\n",
       " 'execlp',\n",
       " 'execlpe',\n",
       " 'execv',\n",
       " 'execve',\n",
       " 'execvp',\n",
       " 'execvpe',\n",
       " 'extsep',\n",
       " 'fdopen',\n",
       " 'fsdecode',\n",
       " 'fsencode',\n",
       " 'fspath',\n",
       " 'fstat',\n",
       " 'fsync',\n",
       " 'ftruncate',\n",
       " 'get_exec_path',\n",
       " 'get_handle_inheritable',\n",
       " 'get_inheritable',\n",
       " 'get_terminal_size',\n",
       " 'getcwd',\n",
       " 'getcwdb',\n",
       " 'getenv',\n",
       " 'getlogin',\n",
       " 'getpid',\n",
       " 'getppid',\n",
       " 'isatty',\n",
       " 'kill',\n",
       " 'linesep',\n",
       " 'link',\n",
       " 'listdir',\n",
       " 'lseek',\n",
       " 'lstat',\n",
       " 'makedirs',\n",
       " 'mkdir',\n",
       " 'name',\n",
       " 'open',\n",
       " 'pardir',\n",
       " 'path',\n",
       " 'pathsep',\n",
       " 'pipe',\n",
       " 'popen',\n",
       " 'putenv',\n",
       " 'read',\n",
       " 'readlink',\n",
       " 'remove',\n",
       " 'removedirs',\n",
       " 'rename',\n",
       " 'renames',\n",
       " 'replace',\n",
       " 'rmdir',\n",
       " 'scandir',\n",
       " 'sep',\n",
       " 'set_handle_inheritable',\n",
       " 'set_inheritable',\n",
       " 'spawnl',\n",
       " 'spawnle',\n",
       " 'spawnv',\n",
       " 'spawnve',\n",
       " 'st',\n",
       " 'startfile',\n",
       " 'stat',\n",
       " 'stat_result',\n",
       " 'statvfs_result',\n",
       " 'strerror',\n",
       " 'supports_bytes_environ',\n",
       " 'supports_dir_fd',\n",
       " 'supports_effective_ids',\n",
       " 'supports_fd',\n",
       " 'supports_follow_symlinks',\n",
       " 'symlink',\n",
       " 'sys',\n",
       " 'system',\n",
       " 'terminal_size',\n",
       " 'times',\n",
       " 'times_result',\n",
       " 'truncate',\n",
       " 'umask',\n",
       " 'uname_result',\n",
       " 'unlink',\n",
       " 'unsetenv',\n",
       " 'urandom',\n",
       " 'utime',\n",
       " 'waitpid',\n",
       " 'waitstatus_to_exitcode',\n",
       " 'walk',\n",
       " 'write']"
      ]
     },
     "execution_count": 169,
     "metadata": {},
     "output_type": "execute_result"
    }
   ],
   "source": [
    "dir(os)\n",
    "#shows all the available funtions in the os module"
   ]
  },
  {
   "cell_type": "markdown",
   "id": "4d33dd67-0d64-4e30-b0da-eb5190ba2169",
   "metadata": {},
   "source": [
    "- pychache"
   ]
  }
 ],
 "metadata": {
  "kernelspec": {
   "display_name": "Python 3 (ipykernel)",
   "language": "python",
   "name": "python3"
  },
  "language_info": {
   "codemirror_mode": {
    "name": "ipython",
    "version": 3
   },
   "file_extension": ".py",
   "mimetype": "text/x-python",
   "name": "python",
   "nbconvert_exporter": "python",
   "pygments_lexer": "ipython3",
   "version": "3.9.12"
  }
 },
 "nbformat": 4,
 "nbformat_minor": 5
}
