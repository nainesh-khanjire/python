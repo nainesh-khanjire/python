{
 "cells": [
  {
   "cell_type": "code",
   "execution_count": 2,
   "id": "5d63338e-2b73-41d5-8fd1-106892b20856",
   "metadata": {},
   "outputs": [
    {
     "name": "stdout",
     "output_type": "stream",
     "text": [
      "hello world\n"
     ]
    }
   ],
   "source": [
    "print(\"hello world\")"
   ]
  },
  {
   "cell_type": "code",
   "execution_count": 4,
   "id": "44b80a4b-d707-4d17-b572-92ab492a3a00",
   "metadata": {},
   "outputs": [
    {
     "name": "stdout",
     "output_type": "stream",
     "text": [
      "Hello World\n",
      "Good Morning\n"
     ]
    }
   ],
   "source": [
    "print(\"Hello World\")\n",
    "print(\"Good Morning\")"
   ]
  },
  {
   "cell_type": "code",
   "execution_count": 5,
   "id": "ffaa7853-f30e-4a21-96e6-714cae771baf",
   "metadata": {},
   "outputs": [],
   "source": [
    "a=5"
   ]
  },
  {
   "cell_type": "code",
   "execution_count": 6,
   "id": "16e34e8c-ba76-4af1-a709-d3bb269d0543",
   "metadata": {},
   "outputs": [],
   "source": [
    "b=\"HELLO\""
   ]
  },
  {
   "cell_type": "code",
   "execution_count": 7,
   "id": "b8e9201c-50da-4ee6-90c5-c4c520e0d545",
   "metadata": {},
   "outputs": [
    {
     "data": {
      "text/plain": [
       "int"
      ]
     },
     "execution_count": 7,
     "metadata": {},
     "output_type": "execute_result"
    }
   ],
   "source": [
    "type(a)"
   ]
  },
  {
   "cell_type": "code",
   "execution_count": 10,
   "id": "431730a8-5429-473f-949a-ce400dacdbf0",
   "metadata": {},
   "outputs": [
    {
     "data": {
      "text/plain": [
       "str"
      ]
     },
     "execution_count": 10,
     "metadata": {},
     "output_type": "execute_result"
    }
   ],
   "source": [
    "type(b)"
   ]
  },
  {
   "cell_type": "markdown",
   "id": "01551dbc-d110-4638-bdd8-fd78013983a3",
   "metadata": {},
   "source": [
    "> constants"
   ]
  },
  {
   "cell_type": "code",
   "execution_count": 19,
   "id": "3321047b-ff4a-452c-a461-98a1d00474d0",
   "metadata": {},
   "outputs": [],
   "source": [
    "OUTPUT_PATH= \"/home/dbda/Desktop/Pylab_1\"\n",
    "PI = 3.14"
   ]
  },
  {
   "cell_type": "markdown",
   "id": "053bcdf5-c6bd-4639-b704-7a5f28f955bf",
   "metadata": {},
   "source": [
    "5  Basic Input: Input from Keyboard"
   ]
  },
  {
   "cell_type": "code",
   "execution_count": 24,
   "id": "3abd1211-c97d-4f9d-a153-dca66f54b18c",
   "metadata": {},
   "outputs": [
    {
     "name": "stdout",
     "output_type": "stream",
     "text": [
      "Enter Name of your City: kolhapur\n"
     ]
    }
   ],
   "source": [
    "a=input(\"Enter Name of your City:\")"
   ]
  },
  {
   "cell_type": "code",
   "execution_count": 25,
   "id": "897adaed-c18c-49e6-8003-a953150d7af6",
   "metadata": {},
   "outputs": [
    {
     "name": "stdout",
     "output_type": "stream",
     "text": [
      "kolhapur\n"
     ]
    }
   ],
   "source": [
    "print(a)"
   ]
  },
  {
   "cell_type": "markdown",
   "id": "b7cb20cf-fb47-4360-ba13-3f5e4ee5edd0",
   "metadata": {},
   "source": [
    "6 comments"
   ]
  },
  {
   "cell_type": "code",
   "execution_count": 27,
   "id": "6aea626e-e6f5-4b5f-a3ee-7836a7091dcd",
   "metadata": {},
   "outputs": [
    {
     "name": "stdout",
     "output_type": "stream",
     "text": [
      "you can python without watching F.R.I.E.N.D.S.\n"
     ]
    }
   ],
   "source": [
    "# This is a comment\n",
    "print(\"you can python without watching F.R.I.E.N.D.S.\")"
   ]
  },
  {
   "cell_type": "code",
   "execution_count": 31,
   "id": "2b74773d-939c-497e-ba69-b597785a9128",
   "metadata": {},
   "outputs": [
    {
     "name": "stdout",
     "output_type": "stream",
     "text": [
      "123\n"
     ]
    }
   ],
   "source": [
    "a= 123\n",
    "print(a) # This is inline comment"
   ]
  },
  {
   "cell_type": "markdown",
   "id": "e7e755a8-1bef-469e-89d2-55d9dedaeb51",
   "metadata": {},
   "source": [
    "7  Data types"
   ]
  },
  {
   "cell_type": "code",
   "execution_count": 32,
   "id": "eb4428ad-74dc-4881-9e70-ade4155c9b12",
   "metadata": {},
   "outputs": [],
   "source": [
    "a =2\n"
   ]
  },
  {
   "cell_type": "code",
   "execution_count": 34,
   "id": "47f70817-f347-41d2-930a-6ae9ea17b9fa",
   "metadata": {},
   "outputs": [
    {
     "data": {
      "text/plain": [
       "int"
      ]
     },
     "execution_count": 34,
     "metadata": {},
     "output_type": "execute_result"
    }
   ],
   "source": [
    "type(a)"
   ]
  },
  {
   "cell_type": "code",
   "execution_count": 35,
   "id": "7f695c19-2f38-4a5b-b46a-40404e85d146",
   "metadata": {},
   "outputs": [],
   "source": [
    "b= 3.97"
   ]
  },
  {
   "cell_type": "code",
   "execution_count": 36,
   "id": "588bebbc-f528-4044-894c-3a768a22e231",
   "metadata": {},
   "outputs": [
    {
     "data": {
      "text/plain": [
       "float"
      ]
     },
     "execution_count": 36,
     "metadata": {},
     "output_type": "execute_result"
    }
   ],
   "source": [
    "type(b)"
   ]
  },
  {
   "cell_type": "markdown",
   "id": "79a74313-75a2-4295-b6c3-27819f71a178",
   "metadata": {},
   "source": [
    "Boolean"
   ]
  },
  {
   "cell_type": "code",
   "execution_count": 55,
   "id": "cc609328-6620-4fa4-926e-c2e95f154ce8",
   "metadata": {},
   "outputs": [],
   "source": [
    "p = True\n",
    "q = False"
   ]
  },
  {
   "cell_type": "code",
   "execution_count": 58,
   "id": "dcfa3414-aab1-4123-b841-5512be21b648",
   "metadata": {},
   "outputs": [
    {
     "data": {
      "text/plain": [
       "bool"
      ]
     },
     "execution_count": 58,
     "metadata": {},
     "output_type": "execute_result"
    }
   ],
   "source": [
    "type(p)"
   ]
  },
  {
   "cell_type": "code",
   "execution_count": 59,
   "id": "fa15be53-f436-4866-8833-ab40aa075467",
   "metadata": {},
   "outputs": [
    {
     "data": {
      "text/plain": [
       "bool"
      ]
     },
     "execution_count": 59,
     "metadata": {},
     "output_type": "execute_result"
    }
   ],
   "source": [
    "type(q)"
   ]
  },
  {
   "cell_type": "markdown",
   "id": "7edd6438-fe8b-4b1f-a433-151c81c75252",
   "metadata": {},
   "source": [
    "None"
   ]
  },
  {
   "cell_type": "code",
   "execution_count": 60,
   "id": "ab710327-8288-4e98-afa7-4fab23ba9016",
   "metadata": {},
   "outputs": [],
   "source": [
    "x = None"
   ]
  },
  {
   "cell_type": "code",
   "execution_count": 62,
   "id": "45850fca-bf58-459f-ae2a-2af0348ac652",
   "metadata": {},
   "outputs": [
    {
     "name": "stdout",
     "output_type": "stream",
     "text": [
      "None\n"
     ]
    }
   ],
   "source": [
    "print(x)"
   ]
  },
  {
   "cell_type": "code",
   "execution_count": 64,
   "id": "e6d45470-227f-4cd4-b6f7-813e6e16ed3d",
   "metadata": {},
   "outputs": [
    {
     "data": {
      "text/plain": [
       "NoneType"
      ]
     },
     "execution_count": 64,
     "metadata": {},
     "output_type": "execute_result"
    }
   ],
   "source": [
    "type(x)"
   ]
  },
  {
   "cell_type": "markdown",
   "id": "8c1f3b00-f4ba-46a5-9ef3-645f0dfae03c",
   "metadata": {},
   "source": [
    "8  Operators"
   ]
  },
  {
   "cell_type": "code",
   "execution_count": 65,
   "id": "5d72a4f7-3e36-4c21-9c43-5d7c2531ab74",
   "metadata": {},
   "outputs": [],
   "source": [
    "a=98\n",
    "b=83"
   ]
  },
  {
   "cell_type": "markdown",
   "id": "0e5ba6b2-290a-4c6b-9403-bc36e6add8cf",
   "metadata": {},
   "source": [
    "Addition"
   ]
  },
  {
   "cell_type": "code",
   "execution_count": 66,
   "id": "8ff90453-0897-45ae-9f2a-aad8062abe7a",
   "metadata": {},
   "outputs": [],
   "source": [
    "c=a+b"
   ]
  },
  {
   "cell_type": "code",
   "execution_count": 67,
   "id": "4a556bf7-71ee-4a38-aff1-9118cfd86eb1",
   "metadata": {},
   "outputs": [
    {
     "name": "stdout",
     "output_type": "stream",
     "text": [
      "181\n"
     ]
    }
   ],
   "source": [
    "print(c)"
   ]
  },
  {
   "cell_type": "code",
   "execution_count": 68,
   "id": "af516990-85c6-4b2d-a143-416adc7d60ee",
   "metadata": {},
   "outputs": [
    {
     "data": {
      "text/plain": [
       "181"
      ]
     },
     "execution_count": 68,
     "metadata": {},
     "output_type": "execute_result"
    }
   ],
   "source": [
    "a+b"
   ]
  },
  {
   "cell_type": "code",
   "execution_count": 69,
   "id": "975134a0-7aa1-4f13-a1ad-7d35c0e4387d",
   "metadata": {},
   "outputs": [
    {
     "data": {
      "text/plain": [
       "100"
      ]
     },
     "execution_count": 69,
     "metadata": {},
     "output_type": "execute_result"
    }
   ],
   "source": [
    "a+2"
   ]
  },
  {
   "cell_type": "markdown",
   "id": "73dcbe13-2b55-4ba3-88cf-15e966b7eb2f",
   "metadata": {},
   "source": [
    "Substraction"
   ]
  },
  {
   "cell_type": "code",
   "execution_count": 70,
   "id": "493b1fae-ac7d-4528-b8f6-876a51b9c628",
   "metadata": {},
   "outputs": [],
   "source": [
    "c=a-b"
   ]
  },
  {
   "cell_type": "code",
   "execution_count": 71,
   "id": "32f76bd5-3e9a-44ac-85ea-c31c3db4c9c2",
   "metadata": {},
   "outputs": [
    {
     "name": "stdout",
     "output_type": "stream",
     "text": [
      "15\n"
     ]
    }
   ],
   "source": [
    "print(c)"
   ]
  },
  {
   "cell_type": "markdown",
   "id": "71daa7a3-fc34-436d-971e-d86cc9435361",
   "metadata": {},
   "source": [
    "Multiplication"
   ]
  },
  {
   "cell_type": "code",
   "execution_count": 73,
   "id": "0c6f4f1f-b019-463b-b8eb-b1928928f5fe",
   "metadata": {},
   "outputs": [
    {
     "data": {
      "text/plain": [
       "8134"
      ]
     },
     "execution_count": 73,
     "metadata": {},
     "output_type": "execute_result"
    }
   ],
   "source": [
    "a*b"
   ]
  },
  {
   "cell_type": "markdown",
   "id": "bf400549-1a7b-4b5d-a918-fbeeaf21014f",
   "metadata": {},
   "source": [
    "Division"
   ]
  },
  {
   "cell_type": "code",
   "execution_count": 74,
   "id": "ac0ff1d3-2b03-4529-87bc-cba5c1d70eaf",
   "metadata": {},
   "outputs": [
    {
     "data": {
      "text/plain": [
       "1.180722891566265"
      ]
     },
     "execution_count": 74,
     "metadata": {},
     "output_type": "execute_result"
    }
   ],
   "source": [
    "a/b"
   ]
  },
  {
   "cell_type": "markdown",
   "id": "b335f200-bbab-4e6f-8892-08c4f727dca5",
   "metadata": {},
   "source": [
    "Floor Division"
   ]
  },
  {
   "cell_type": "code",
   "execution_count": 75,
   "id": "57605b8c-2050-4db3-a154-97cd183f867c",
   "metadata": {},
   "outputs": [
    {
     "data": {
      "text/plain": [
       "1"
      ]
     },
     "execution_count": 75,
     "metadata": {},
     "output_type": "execute_result"
    }
   ],
   "source": [
    "a//b"
   ]
  },
  {
   "cell_type": "markdown",
   "id": "6eb38c6b-e050-4be6-a049-c3a8aa11aa3c",
   "metadata": {},
   "source": [
    "Modulus%"
   ]
  },
  {
   "cell_type": "code",
   "execution_count": 76,
   "id": "f0d2251a-17c5-4460-809a-31fe89e453c6",
   "metadata": {},
   "outputs": [
    {
     "data": {
      "text/plain": [
       "15"
      ]
     },
     "execution_count": 76,
     "metadata": {},
     "output_type": "execute_result"
    }
   ],
   "source": [
    "a%b"
   ]
  },
  {
   "cell_type": "markdown",
   "id": "c285ec3f-48e3-4282-841b-a0671754fb88",
   "metadata": {},
   "source": [
    "Exponentiation**"
   ]
  },
  {
   "cell_type": "code",
   "execution_count": 77,
   "id": "f49e17d1-ae48-4f73-b4d1-739613c4dcdf",
   "metadata": {},
   "outputs": [
    {
     "data": {
      "text/plain": [
       "1869667085064162754409407304123377722335134721463987856365137538900327720321003440932431941284362810355263597630685143341253878091392655488455405421766780405564833792"
      ]
     },
     "execution_count": 77,
     "metadata": {},
     "output_type": "execute_result"
    }
   ],
   "source": [
    "a**b"
   ]
  },
  {
   "cell_type": "markdown",
   "id": "4b17964a-ac0f-479a-8ca7-6055de9e86f5",
   "metadata": {},
   "source": [
    "8.2Comparison (Relational) Operators"
   ]
  },
  {
   "cell_type": "code",
   "execution_count": 78,
   "id": "bc67d027-953e-4582-b927-a0bb93fc7918",
   "metadata": {},
   "outputs": [
    {
     "name": "stdout",
     "output_type": "stream",
     "text": [
      "98 83\n"
     ]
    }
   ],
   "source": [
    "print(a,b)"
   ]
  },
  {
   "cell_type": "markdown",
   "id": "cd498dae-2a80-499e-b2f2-76e8536e50cb",
   "metadata": {},
   "source": [
    "Equals"
   ]
  },
  {
   "cell_type": "code",
   "execution_count": 79,
   "id": "8b375688-46e3-4e20-9e04-9a77e95da188",
   "metadata": {},
   "outputs": [
    {
     "data": {
      "text/plain": [
       "False"
      ]
     },
     "execution_count": 79,
     "metadata": {},
     "output_type": "execute_result"
    }
   ],
   "source": [
    "a==b"
   ]
  },
  {
   "cell_type": "markdown",
   "id": "b15df136-61a6-4eab-86c0-471d0f01a1d2",
   "metadata": {},
   "source": [
    " Not Equals !="
   ]
  },
  {
   "cell_type": "code",
   "execution_count": 80,
   "id": "40d35bb8-811b-4b59-83a6-86c0382e260c",
   "metadata": {},
   "outputs": [
    {
     "data": {
      "text/plain": [
       "True"
      ]
     },
     "execution_count": 80,
     "metadata": {},
     "output_type": "execute_result"
    }
   ],
   "source": [
    "a!=b"
   ]
  },
  {
   "cell_type": "markdown",
   "id": "3d7b6771-d873-4aad-8ecb-75f78e86326f",
   "metadata": {},
   "source": [
    "Less than<"
   ]
  },
  {
   "cell_type": "code",
   "execution_count": 81,
   "id": "ff994bd8-0272-4d6a-bc10-f1a3f8b955b6",
   "metadata": {},
   "outputs": [
    {
     "data": {
      "text/plain": [
       "False"
      ]
     },
     "execution_count": 81,
     "metadata": {},
     "output_type": "execute_result"
    }
   ],
   "source": [
    "a<b"
   ]
  },
  {
   "cell_type": "markdown",
   "id": "04941d4b-dba5-4276-aa12-959bd8326102",
   "metadata": {},
   "source": [
    "Less than equal to<="
   ]
  },
  {
   "cell_type": "code",
   "execution_count": 82,
   "id": "56f6f078-5502-43b5-a2c2-180e4c9bbd1a",
   "metadata": {},
   "outputs": [
    {
     "data": {
      "text/plain": [
       "True"
      ]
     },
     "execution_count": 82,
     "metadata": {},
     "output_type": "execute_result"
    }
   ],
   "source": [
    "a<=99"
   ]
  },
  {
   "cell_type": "markdown",
   "id": "68bec27f-c659-436f-a17d-0b0471c5fba7",
   "metadata": {},
   "source": [
    "Greater than>"
   ]
  },
  {
   "cell_type": "code",
   "execution_count": 83,
   "id": "d0034af7-a01a-452d-93bb-1638fcdc4f36",
   "metadata": {},
   "outputs": [
    {
     "data": {
      "text/plain": [
       "True"
      ]
     },
     "execution_count": 83,
     "metadata": {},
     "output_type": "execute_result"
    }
   ],
   "source": [
    "a>b"
   ]
  },
  {
   "cell_type": "markdown",
   "id": "de60f437-cc36-4a19-87d7-22a8cbdeb4f0",
   "metadata": {},
   "source": [
    "Greater than equal to>="
   ]
  },
  {
   "cell_type": "code",
   "execution_count": 84,
   "id": "97e4e6e5-c6f7-4c1a-9577-78ad93c0f59a",
   "metadata": {},
   "outputs": [
    {
     "data": {
      "text/plain": [
       "True"
      ]
     },
     "execution_count": 84,
     "metadata": {},
     "output_type": "execute_result"
    }
   ],
   "source": [
    "a>=b"
   ]
  },
  {
   "cell_type": "markdown",
   "id": "d75332dc-5da9-410a-b183-f0324372d6d9",
   "metadata": {},
   "source": [
    "8.3  Logical Operators and/or/not"
   ]
  },
  {
   "cell_type": "markdown",
   "id": "cd529f4f-0234-4c12-bfcb-eb1194636187",
   "metadata": {},
   "source": [
    "and"
   ]
  },
  {
   "cell_type": "code",
   "execution_count": 86,
   "id": "bf186fbd-1033-47be-bb49-758785bd53af",
   "metadata": {},
   "outputs": [
    {
     "data": {
      "text/plain": [
       "False"
      ]
     },
     "execution_count": 86,
     "metadata": {},
     "output_type": "execute_result"
    }
   ],
   "source": [
    "a>=b and a<b"
   ]
  },
  {
   "cell_type": "code",
   "execution_count": 87,
   "id": "a13b0cc7-391c-4867-94d1-f816c07ae92e",
   "metadata": {},
   "outputs": [
    {
     "data": {
      "text/plain": [
       "True"
      ]
     },
     "execution_count": 87,
     "metadata": {},
     "output_type": "execute_result"
    }
   ],
   "source": [
    "a>=b and a!=b"
   ]
  },
  {
   "cell_type": "markdown",
   "id": "513d8ff8-4b40-49ab-ad98-ecca40a6d7f1",
   "metadata": {},
   "source": [
    "OR"
   ]
  },
  {
   "cell_type": "code",
   "execution_count": 88,
   "id": "dafc5345-be03-4fc1-a386-b5a775f81668",
   "metadata": {},
   "outputs": [
    {
     "data": {
      "text/plain": [
       "True"
      ]
     },
     "execution_count": 88,
     "metadata": {},
     "output_type": "execute_result"
    }
   ],
   "source": [
    "a>=b or a<b"
   ]
  },
  {
   "cell_type": "markdown",
   "id": "ce76efb3-d015-4f5f-912d-fdc5e76da13d",
   "metadata": {},
   "source": [
    "NOT"
   ]
  },
  {
   "cell_type": "code",
   "execution_count": 89,
   "id": "a4b47fc0-49d5-4756-8c3b-6389149382e5",
   "metadata": {},
   "outputs": [
    {
     "data": {
      "text/plain": [
       "True"
      ]
     },
     "execution_count": 89,
     "metadata": {},
     "output_type": "execute_result"
    }
   ],
   "source": [
    "not (a>=b and a<b)"
   ]
  },
  {
   "cell_type": "markdown",
   "id": "80eb6160-0499-4a4c-bcf9-71dfb0088d8d",
   "metadata": {},
   "source": [
    "8.4  Membership Operators  in/not in"
   ]
  },
  {
   "cell_type": "markdown",
   "id": "54bcc652-611c-4d34-975f-0e731be0473d",
   "metadata": {},
   "source": [
    "in"
   ]
  },
  {
   "cell_type": "code",
   "execution_count": 90,
   "id": "09bf47cf-be0e-4611-bdeb-791b7fcbd256",
   "metadata": {},
   "outputs": [],
   "source": [
    "s = \"Krishna\""
   ]
  },
  {
   "cell_type": "code",
   "execution_count": 92,
   "id": "283b759e-f4a5-4a52-aa25-91a45112cf9d",
   "metadata": {},
   "outputs": [
    {
     "data": {
      "text/plain": [
       "True"
      ]
     },
     "execution_count": 92,
     "metadata": {},
     "output_type": "execute_result"
    }
   ],
   "source": [
    "\"sh\" in s"
   ]
  },
  {
   "cell_type": "markdown",
   "id": "ba93d8e9-580c-4e6e-821f-54795d3048f6",
   "metadata": {},
   "source": [
    "not in"
   ]
  },
  {
   "cell_type": "code",
   "execution_count": 93,
   "id": "1e59b417-b3d9-4d8b-a8d9-e63ada961f97",
   "metadata": {},
   "outputs": [
    {
     "data": {
      "text/plain": [
       "True"
      ]
     },
     "execution_count": 93,
     "metadata": {},
     "output_type": "execute_result"
    }
   ],
   "source": [
    "\"nk\" not in s"
   ]
  },
  {
   "cell_type": "markdown",
   "id": "eca45005-899d-4e9e-9020-f3934b839d5a",
   "metadata": {},
   "source": [
    "11  Type Casting -Converting data types of the variables"
   ]
  },
  {
   "cell_type": "code",
   "execution_count": 94,
   "id": "f3ef5030-fefb-4cbd-a166-16c112fca72e",
   "metadata": {},
   "outputs": [],
   "source": [
    "s = 8"
   ]
  },
  {
   "cell_type": "code",
   "execution_count": 95,
   "id": "9adfd4b0-4e1d-487e-b308-bb7392795253",
   "metadata": {},
   "outputs": [
    {
     "data": {
      "text/plain": [
       "int"
      ]
     },
     "execution_count": 95,
     "metadata": {},
     "output_type": "execute_result"
    }
   ],
   "source": [
    "type(s)"
   ]
  },
  {
   "cell_type": "markdown",
   "id": "0a98c5b9-5ee6-481a-9b97-81e6eb8f58b6",
   "metadata": {},
   "source": [
    "11.1 int to float"
   ]
  },
  {
   "cell_type": "code",
   "execution_count": 99,
   "id": "a07983df-3b54-476e-a4c7-50e0b16c597a",
   "metadata": {},
   "outputs": [],
   "source": [
    "f = float(s)"
   ]
  },
  {
   "cell_type": "code",
   "execution_count": 101,
   "id": "6242d556-c919-4a8c-870d-a138fc5124df",
   "metadata": {},
   "outputs": [
    {
     "data": {
      "text/plain": [
       "float"
      ]
     },
     "execution_count": 101,
     "metadata": {},
     "output_type": "execute_result"
    }
   ],
   "source": [
    "type(f)"
   ]
  },
  {
   "cell_type": "code",
   "execution_count": 103,
   "id": "db8f1ed6-65a0-4203-8d6b-dacccdebff4a",
   "metadata": {},
   "outputs": [
    {
     "data": {
      "text/plain": [
       "8.0"
      ]
     },
     "execution_count": 103,
     "metadata": {},
     "output_type": "execute_result"
    }
   ],
   "source": [
    "f\n"
   ]
  },
  {
   "cell_type": "markdown",
   "id": "11a8c2c1-273c-4eac-8c5f-fba348d54007",
   "metadata": {},
   "source": [
    "11.2 float to int"
   ]
  },
  {
   "cell_type": "code",
   "execution_count": 104,
   "id": "98b3ec96-ec59-44b6-9e16-94d93be58183",
   "metadata": {},
   "outputs": [
    {
     "data": {
      "text/plain": [
       "8"
      ]
     },
     "execution_count": 104,
     "metadata": {},
     "output_type": "execute_result"
    }
   ],
   "source": [
    "int(f)"
   ]
  },
  {
   "cell_type": "markdown",
   "id": "e408156b-b530-4d64-bca3-a92c1f5bdf02",
   "metadata": {},
   "source": [
    "11.3 input gives string, typecast tointorfloatas per the requirement"
   ]
  },
  {
   "cell_type": "code",
   "execution_count": 16,
   "id": "0853de7a-8dda-44a4-acb3-46322a4fa112",
   "metadata": {},
   "outputs": [
    {
     "name": "stdout",
     "output_type": "stream",
     "text": [
      "Enter Radius: 54.67\n"
     ]
    }
   ],
   "source": [
    "radius=float(input(\"Enter Radius:\"))"
   ]
  },
  {
   "cell_type": "code",
   "execution_count": 18,
   "id": "4f26caed-cd78-4d12-8e43-faeacb2f525f",
   "metadata": {},
   "outputs": [
    {
     "data": {
      "text/plain": [
       "float"
      ]
     },
     "execution_count": 18,
     "metadata": {},
     "output_type": "execute_result"
    }
   ],
   "source": [
    "type(radius)"
   ]
  },
  {
   "cell_type": "code",
   "execution_count": 19,
   "id": "20d3ea76-7d10-4f16-80dd-b90db306647e",
   "metadata": {},
   "outputs": [
    {
     "data": {
      "text/plain": [
       "54.67"
      ]
     },
     "execution_count": 19,
     "metadata": {},
     "output_type": "execute_result"
    }
   ],
   "source": [
    "radius"
   ]
  }
 ],
 "metadata": {
  "kernelspec": {
   "display_name": "Python 3.9.12 64-bit ('pythonworkspace')",
   "language": "python",
   "name": "python3"
  },
  "language_info": {
   "codemirror_mode": {
    "name": "ipython",
    "version": 3
   },
   "file_extension": ".py",
   "mimetype": "text/x-python",
   "name": "python",
   "nbconvert_exporter": "python",
   "pygments_lexer": "ipython3",
   "version": "3.9.12"
  },
  "vscode": {
   "interpreter": {
    "hash": "e362d06cc908f32e8db6920f0b7bc6754cc7557171ff01d64b5f38263a887f00"
   }
  }
 },
 "nbformat": 4,
 "nbformat_minor": 5
}
