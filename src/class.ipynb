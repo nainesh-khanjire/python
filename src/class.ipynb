{
 "cells": [
  {
   "cell_type": "code",
   "execution_count": 18,
   "metadata": {},
   "outputs": [
    {
     "name": "stdout",
     "output_type": "stream",
     "text": [
      "ID:  101 \n",
      "name:  nainesh\n"
     ]
    }
   ],
   "source": [
    "class Test():\n",
    "    def __init__(self,id,name):\n",
    "        self.id = id\n",
    "        self.name = name\n",
    "        \n",
    "        \n",
    "    def display(self):\n",
    "        print(\"ID: \",self.id,\"\\nname: \",self.name)\n",
    "\n",
    "        \n",
    "t1 = Test(101,\"nainesh\")     \n",
    "\n",
    "\n",
    "t1.display()"
   ]
  },
  {
   "cell_type": "code",
   "execution_count": 17,
   "metadata": {},
   "outputs": [
    {
     "name": "stdout",
     "output_type": "stream",
     "text": [
      "Name of the employee is:  Nainesh \n",
      "ID of Employee is:  101 \n",
      "salary of Employee is:  35000\n"
     ]
    }
   ],
   "source": [
    "class Employee():\n",
    "    def __init__(self,name,id,salary):\n",
    "        self.name = name\n",
    "        self.id = id\n",
    "        self.salary = salary\n",
    "        \n",
    "    def displaydata(self):\n",
    "        print(\"Name of the employee is: \",self.name,\"\\nID of Employee is: \",self.id,\"\\nsalary of Employee is: \",self.salary)\n",
    "    \n",
    "e1 = Employee(\"Nainesh\",101,35000)\n",
    "\n",
    "e1.displaydata()"
   ]
  },
  {
   "cell_type": "code",
   "execution_count": 23,
   "metadata": {},
   "outputs": [
    {
     "name": "stdout",
     "output_type": "stream",
     "text": [
      "Cat is purring\n",
      "dog is barking\n"
     ]
    }
   ],
   "source": [
    "class Animal():\n",
    "    def pet(c):\n",
    "        print(\"animal is speaking\")\n",
    "class Cat(Animal):\n",
    "    def meow(c):\n",
    "      print(\"Cat is purring\") \n",
    "      \n",
    "class Dog(Animal):\n",
    "    def bark(c):\n",
    "     print(\"dog is barking\")\n",
    "      \n",
    "      \n",
    "c = Cat()\n",
    "c.meow()\n",
    "d = Dog()\n",
    "d.bark()      "
   ]
  }
 ],
 "metadata": {
  "kernelspec": {
   "display_name": "Python 3.9.12 64-bit ('pythonworkspace')",
   "language": "python",
   "name": "python3"
  },
  "language_info": {
   "codemirror_mode": {
    "name": "ipython",
    "version": 3
   },
   "file_extension": ".py",
   "mimetype": "text/x-python",
   "name": "python",
   "nbconvert_exporter": "python",
   "pygments_lexer": "ipython3",
   "version": "3.9.12"
  },
  "orig_nbformat": 4,
  "vscode": {
   "interpreter": {
    "hash": "e362d06cc908f32e8db6920f0b7bc6754cc7557171ff01d64b5f38263a887f00"
   }
  }
 },
 "nbformat": 4,
 "nbformat_minor": 2
}
