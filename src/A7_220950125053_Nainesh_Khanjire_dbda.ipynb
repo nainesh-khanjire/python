{
 "cells": [
  {
   "cell_type": "markdown",
   "id": "9fdf215d-8358-49ec-8f26-28de7599a208",
   "metadata": {},
   "source": [
    "Que A. Read data file university_rankings.csv in pandas dataframe and based\n",
    "on this data answer the following questions.\n"
   ]
  },
  {
   "cell_type": "code",
   "execution_count": 2,
   "id": "2130a9ed-7f91-4f4a-aa72-c13327509b51",
   "metadata": {
    "tags": []
   },
   "outputs": [],
   "source": [
    "import pandas as pd # importing pandas as pd for this workspace\n",
    "import matplotlib as plt"
   ]
  },
  {
   "cell_type": "code",
   "execution_count": 4,
   "id": "f5dc081f-2264-486a-b77c-3379adbab29f",
   "metadata": {
    "tags": []
   },
   "outputs": [],
   "source": [
    "uni = pd.read_csv('../data/university_rankings.csv') #reading the given file"
   ]
  },
  {
   "cell_type": "code",
   "execution_count": 4,
   "id": "fe40757c-6abb-4832-82cf-e03195308b02",
   "metadata": {
    "tags": []
   },
   "outputs": [
    {
     "data": {
      "text/html": [
       "<div>\n",
       "<style scoped>\n",
       "    .dataframe tbody tr th:only-of-type {\n",
       "        vertical-align: middle;\n",
       "    }\n",
       "\n",
       "    .dataframe tbody tr th {\n",
       "        vertical-align: top;\n",
       "    }\n",
       "\n",
       "    .dataframe thead th {\n",
       "        text-align: right;\n",
       "    }\n",
       "</style>\n",
       "<table border=\"1\" class=\"dataframe\">\n",
       "  <thead>\n",
       "    <tr style=\"text-align: right;\">\n",
       "      <th></th>\n",
       "      <th>world_rank</th>\n",
       "      <th>institution</th>\n",
       "      <th>country</th>\n",
       "      <th>national_rank</th>\n",
       "      <th>quality_of_education</th>\n",
       "      <th>alumni_employment</th>\n",
       "      <th>quality_of_faculty</th>\n",
       "      <th>publications</th>\n",
       "      <th>influence</th>\n",
       "      <th>citations</th>\n",
       "      <th>broad_impact</th>\n",
       "      <th>patents</th>\n",
       "      <th>score</th>\n",
       "      <th>year</th>\n",
       "    </tr>\n",
       "  </thead>\n",
       "  <tbody>\n",
       "    <tr>\n",
       "      <th>0</th>\n",
       "      <td>1</td>\n",
       "      <td>Harvard University</td>\n",
       "      <td>USA</td>\n",
       "      <td>1</td>\n",
       "      <td>7</td>\n",
       "      <td>9</td>\n",
       "      <td>1</td>\n",
       "      <td>1</td>\n",
       "      <td>1</td>\n",
       "      <td>1</td>\n",
       "      <td>NaN</td>\n",
       "      <td>5</td>\n",
       "      <td>100.00</td>\n",
       "      <td>2012</td>\n",
       "    </tr>\n",
       "    <tr>\n",
       "      <th>1</th>\n",
       "      <td>2</td>\n",
       "      <td>Massachusetts Institute of Technology</td>\n",
       "      <td>USA</td>\n",
       "      <td>2</td>\n",
       "      <td>9</td>\n",
       "      <td>17</td>\n",
       "      <td>3</td>\n",
       "      <td>12</td>\n",
       "      <td>4</td>\n",
       "      <td>4</td>\n",
       "      <td>NaN</td>\n",
       "      <td>1</td>\n",
       "      <td>91.67</td>\n",
       "      <td>2012</td>\n",
       "    </tr>\n",
       "    <tr>\n",
       "      <th>2</th>\n",
       "      <td>3</td>\n",
       "      <td>Stanford University</td>\n",
       "      <td>USA</td>\n",
       "      <td>3</td>\n",
       "      <td>17</td>\n",
       "      <td>11</td>\n",
       "      <td>5</td>\n",
       "      <td>4</td>\n",
       "      <td>2</td>\n",
       "      <td>2</td>\n",
       "      <td>NaN</td>\n",
       "      <td>15</td>\n",
       "      <td>89.50</td>\n",
       "      <td>2012</td>\n",
       "    </tr>\n",
       "    <tr>\n",
       "      <th>3</th>\n",
       "      <td>4</td>\n",
       "      <td>University of Cambridge</td>\n",
       "      <td>United Kingdom</td>\n",
       "      <td>1</td>\n",
       "      <td>10</td>\n",
       "      <td>24</td>\n",
       "      <td>4</td>\n",
       "      <td>16</td>\n",
       "      <td>16</td>\n",
       "      <td>11</td>\n",
       "      <td>NaN</td>\n",
       "      <td>50</td>\n",
       "      <td>86.17</td>\n",
       "      <td>2012</td>\n",
       "    </tr>\n",
       "    <tr>\n",
       "      <th>4</th>\n",
       "      <td>5</td>\n",
       "      <td>California Institute of Technology</td>\n",
       "      <td>USA</td>\n",
       "      <td>4</td>\n",
       "      <td>2</td>\n",
       "      <td>29</td>\n",
       "      <td>7</td>\n",
       "      <td>37</td>\n",
       "      <td>22</td>\n",
       "      <td>22</td>\n",
       "      <td>NaN</td>\n",
       "      <td>18</td>\n",
       "      <td>85.21</td>\n",
       "      <td>2012</td>\n",
       "    </tr>\n",
       "  </tbody>\n",
       "</table>\n",
       "</div>"
      ],
      "text/plain": [
       "   world_rank                            institution         country  \\\n",
       "0           1                     Harvard University             USA   \n",
       "1           2  Massachusetts Institute of Technology             USA   \n",
       "2           3                    Stanford University             USA   \n",
       "3           4                University of Cambridge  United Kingdom   \n",
       "4           5     California Institute of Technology             USA   \n",
       "\n",
       "   national_rank  quality_of_education  alumni_employment  quality_of_faculty  \\\n",
       "0              1                     7                  9                   1   \n",
       "1              2                     9                 17                   3   \n",
       "2              3                    17                 11                   5   \n",
       "3              1                    10                 24                   4   \n",
       "4              4                     2                 29                   7   \n",
       "\n",
       "   publications  influence  citations  broad_impact  patents   score  year  \n",
       "0             1          1          1           NaN        5  100.00  2012  \n",
       "1            12          4          4           NaN        1   91.67  2012  \n",
       "2             4          2          2           NaN       15   89.50  2012  \n",
       "3            16         16         11           NaN       50   86.17  2012  \n",
       "4            37         22         22           NaN       18   85.21  2012  "
      ]
     },
     "execution_count": 4,
     "metadata": {},
     "output_type": "execute_result"
    }
   ],
   "source": [
    "uni.head() #displays first 5 rows from the csv file"
   ]
  },
  {
   "cell_type": "markdown",
   "id": "a798dc7d-3d08-4b1a-86f3-cb4746889f14",
   "metadata": {},
   "source": [
    "**1. Find out the data is for which years using the years column?**\n"
   ]
  },
  {
   "cell_type": "code",
   "execution_count": 6,
   "id": "2711c3be-ede4-4532-9308-5d8edd4caa3d",
   "metadata": {
    "tags": []
   },
   "outputs": [
    {
     "name": "stdout",
     "output_type": "stream",
     "text": [
      "this data is for following years [2012 2013 2014 2015]\n"
     ]
    }
   ],
   "source": [
    "years = pd.unique(uni['year']) # this prints all the UNIQUE elements of year column \n",
    "print('this data is for following years', years)"
   ]
  },
  {
   "cell_type": "markdown",
   "id": "f6ba2112-0cb5-4bfa-8c01-ba9bcc5aa64f",
   "metadata": {},
   "source": [
    "2. Find out which all columns have missing values?\n"
   ]
  },
  {
   "cell_type": "code",
   "execution_count": 6,
   "id": "d51b972e-b820-4924-a03a-7e63df191f38",
   "metadata": {
    "tags": []
   },
   "outputs": [
    {
     "data": {
      "text/plain": [
       "world_rank              False\n",
       "institution             False\n",
       "country                 False\n",
       "national_rank           False\n",
       "quality_of_education    False\n",
       "alumni_employment       False\n",
       "quality_of_faculty      False\n",
       "publications            False\n",
       "influence               False\n",
       "citations               False\n",
       "broad_impact             True\n",
       "patents                 False\n",
       "score                   False\n",
       "year                    False\n",
       "dtype: bool"
      ]
     },
     "execution_count": 6,
     "metadata": {},
     "output_type": "execute_result"
    }
   ],
   "source": [
    "missing = uni.isnull().any() # false value means cells are not empty, true means cells are empty\n",
    "missing.head(20) # displays first 20 rows"
   ]
  },
  {
   "cell_type": "code",
   "execution_count": 7,
   "id": "b322b827-a933-424f-9102-fe3d6daef457",
   "metadata": {
    "tags": []
   },
   "outputs": [
    {
     "name": "stdout",
     "output_type": "stream",
     "text": [
      "number of column with missing values: \n",
      " 1\n",
      "column name which has missing values: \n",
      " ['broad_impact']\n"
     ]
    }
   ],
   "source": [
    "cols = missing.index[missing].tolist()\n",
    "print('number of column with missing values: \\n',len(cols)) # length of cols variable, that gives total number of null value columns \n",
    "print('column name which has missing values: \\n',cols) # shows columns having empty cells"
   ]
  },
  {
   "cell_type": "markdown",
   "id": "b409116b-7845-4942-8807-60186f74e520",
   "metadata": {},
   "source": [
    "3. Universities from how many countries are available in this data?\n"
   ]
  },
  {
   "cell_type": "code",
   "execution_count": 8,
   "id": "c6691918-6856-4d40-9f09-5adb5567d6bb",
   "metadata": {
    "tags": []
   },
   "outputs": [
    {
     "data": {
      "text/plain": [
       "2141"
      ]
     },
     "execution_count": 8,
     "metadata": {},
     "output_type": "execute_result"
    }
   ],
   "source": [
    "uni.country.duplicated().sum() #count of the duplicates\n",
    "# so there are 2200-2141 = 58 unique rows in country column"
   ]
  },
  {
   "cell_type": "code",
   "execution_count": 9,
   "id": "34c55573-8961-4014-971d-9131c1ab2940",
   "metadata": {
    "tags": []
   },
   "outputs": [
    {
     "name": "stdout",
     "output_type": "stream",
     "text": [
      "Universities from number of countries available in this data are  59\n"
     ]
    }
   ],
   "source": [
    "x = pd.unique(uni['country']) #using unique() function\n",
    "print('Universities from number of countries available in this data are ',len(x)) # printing the length of the unique rows stored in x"
   ]
  },
  {
   "cell_type": "markdown",
   "id": "0f78807f-c6c9-4b6e-9c4d-79857ebe195a",
   "metadata": {},
   "source": [
    "**4. Which country has the highest number of universities for 2015?**\n"
   ]
  },
  {
   "cell_type": "code",
   "execution_count": 26,
   "id": "0d8ec65d-98df-4313-8ec0-e36ae42aa844",
   "metadata": {},
   "outputs": [
    {
     "data": {
      "text/html": [
       "<div>\n",
       "<style scoped>\n",
       "    .dataframe tbody tr th:only-of-type {\n",
       "        vertical-align: middle;\n",
       "    }\n",
       "\n",
       "    .dataframe tbody tr th {\n",
       "        vertical-align: top;\n",
       "    }\n",
       "\n",
       "    .dataframe thead th {\n",
       "        text-align: right;\n",
       "    }\n",
       "</style>\n",
       "<table border=\"1\" class=\"dataframe\">\n",
       "  <thead>\n",
       "    <tr style=\"text-align: right;\">\n",
       "      <th></th>\n",
       "      <th>world_rank</th>\n",
       "      <th>institution</th>\n",
       "      <th>country</th>\n",
       "      <th>national_rank</th>\n",
       "      <th>quality_of_education</th>\n",
       "      <th>alumni_employment</th>\n",
       "      <th>quality_of_faculty</th>\n",
       "      <th>publications</th>\n",
       "      <th>influence</th>\n",
       "      <th>citations</th>\n",
       "      <th>broad_impact</th>\n",
       "      <th>patents</th>\n",
       "      <th>score</th>\n",
       "      <th>year</th>\n",
       "    </tr>\n",
       "  </thead>\n",
       "  <tbody>\n",
       "    <tr>\n",
       "      <th>0</th>\n",
       "      <td>1</td>\n",
       "      <td>Harvard University</td>\n",
       "      <td>USA</td>\n",
       "      <td>1</td>\n",
       "      <td>7</td>\n",
       "      <td>9</td>\n",
       "      <td>1</td>\n",
       "      <td>1</td>\n",
       "      <td>1</td>\n",
       "      <td>1</td>\n",
       "      <td>NaN</td>\n",
       "      <td>5</td>\n",
       "      <td>100.00</td>\n",
       "      <td>2012</td>\n",
       "    </tr>\n",
       "    <tr>\n",
       "      <th>1</th>\n",
       "      <td>2</td>\n",
       "      <td>Massachusetts Institute of Technology</td>\n",
       "      <td>USA</td>\n",
       "      <td>2</td>\n",
       "      <td>9</td>\n",
       "      <td>17</td>\n",
       "      <td>3</td>\n",
       "      <td>12</td>\n",
       "      <td>4</td>\n",
       "      <td>4</td>\n",
       "      <td>NaN</td>\n",
       "      <td>1</td>\n",
       "      <td>91.67</td>\n",
       "      <td>2012</td>\n",
       "    </tr>\n",
       "    <tr>\n",
       "      <th>2</th>\n",
       "      <td>3</td>\n",
       "      <td>Stanford University</td>\n",
       "      <td>USA</td>\n",
       "      <td>3</td>\n",
       "      <td>17</td>\n",
       "      <td>11</td>\n",
       "      <td>5</td>\n",
       "      <td>4</td>\n",
       "      <td>2</td>\n",
       "      <td>2</td>\n",
       "      <td>NaN</td>\n",
       "      <td>15</td>\n",
       "      <td>89.50</td>\n",
       "      <td>2012</td>\n",
       "    </tr>\n",
       "    <tr>\n",
       "      <th>3</th>\n",
       "      <td>4</td>\n",
       "      <td>University of Cambridge</td>\n",
       "      <td>United Kingdom</td>\n",
       "      <td>1</td>\n",
       "      <td>10</td>\n",
       "      <td>24</td>\n",
       "      <td>4</td>\n",
       "      <td>16</td>\n",
       "      <td>16</td>\n",
       "      <td>11</td>\n",
       "      <td>NaN</td>\n",
       "      <td>50</td>\n",
       "      <td>86.17</td>\n",
       "      <td>2012</td>\n",
       "    </tr>\n",
       "    <tr>\n",
       "      <th>4</th>\n",
       "      <td>5</td>\n",
       "      <td>California Institute of Technology</td>\n",
       "      <td>USA</td>\n",
       "      <td>4</td>\n",
       "      <td>2</td>\n",
       "      <td>29</td>\n",
       "      <td>7</td>\n",
       "      <td>37</td>\n",
       "      <td>22</td>\n",
       "      <td>22</td>\n",
       "      <td>NaN</td>\n",
       "      <td>18</td>\n",
       "      <td>85.21</td>\n",
       "      <td>2012</td>\n",
       "    </tr>\n",
       "  </tbody>\n",
       "</table>\n",
       "</div>"
      ],
      "text/plain": [
       "   world_rank                            institution         country  \\\n",
       "0           1                     Harvard University             USA   \n",
       "1           2  Massachusetts Institute of Technology             USA   \n",
       "2           3                    Stanford University             USA   \n",
       "3           4                University of Cambridge  United Kingdom   \n",
       "4           5     California Institute of Technology             USA   \n",
       "\n",
       "   national_rank  quality_of_education  alumni_employment  quality_of_faculty  \\\n",
       "0              1                     7                  9                   1   \n",
       "1              2                     9                 17                   3   \n",
       "2              3                    17                 11                   5   \n",
       "3              1                    10                 24                   4   \n",
       "4              4                     2                 29                   7   \n",
       "\n",
       "   publications  influence  citations  broad_impact  patents   score  year  \n",
       "0             1          1          1           NaN        5  100.00  2012  \n",
       "1            12          4          4           NaN        1   91.67  2012  \n",
       "2             4          2          2           NaN       15   89.50  2012  \n",
       "3            16         16         11           NaN       50   86.17  2012  \n",
       "4            37         22         22           NaN       18   85.21  2012  "
      ]
     },
     "execution_count": 26,
     "metadata": {},
     "output_type": "execute_result"
    }
   ],
   "source": [
    "uni.head() #displays five elements"
   ]
  },
  {
   "cell_type": "code",
   "execution_count": 11,
   "id": "9d6e3a3e-9bfe-4eda-a4d9-e77d0c06e329",
   "metadata": {},
   "outputs": [],
   "source": [
    "highest =uni.loc[uni.year == 2015,['country','institution']]"
   ]
  },
  {
   "cell_type": "code",
   "execution_count": 12,
   "id": "5fe0aa23-52c2-4c51-9619-d908ebedcb25",
   "metadata": {},
   "outputs": [
    {
     "data": {
      "text/plain": [
       "USA    229\n",
       "Name: country, dtype: int64"
      ]
     },
     "execution_count": 12,
     "metadata": {},
     "output_type": "execute_result"
    }
   ],
   "source": [
    "highest.country.value_counts().head(1) #displays top 1 row "
   ]
  },
  {
   "cell_type": "markdown",
   "id": "d301c4de-05ec-4894-9781-df66072ec1b6",
   "metadata": {
    "tags": []
   },
   "source": [
    "**5. Find out the top 10 Institute in terms of number of publications for 2014?**\n"
   ]
  },
  {
   "cell_type": "code",
   "execution_count": 27,
   "id": "5e04cdc9-b9b4-4219-a189-7d202d2f71b0",
   "metadata": {},
   "outputs": [
    {
     "data": {
      "text/html": [
       "<div>\n",
       "<style scoped>\n",
       "    .dataframe tbody tr th:only-of-type {\n",
       "        vertical-align: middle;\n",
       "    }\n",
       "\n",
       "    .dataframe tbody tr th {\n",
       "        vertical-align: top;\n",
       "    }\n",
       "\n",
       "    .dataframe thead th {\n",
       "        text-align: right;\n",
       "    }\n",
       "</style>\n",
       "<table border=\"1\" class=\"dataframe\">\n",
       "  <thead>\n",
       "    <tr style=\"text-align: right;\">\n",
       "      <th></th>\n",
       "      <th>world_rank</th>\n",
       "      <th>institution</th>\n",
       "      <th>country</th>\n",
       "      <th>national_rank</th>\n",
       "      <th>quality_of_education</th>\n",
       "      <th>alumni_employment</th>\n",
       "      <th>quality_of_faculty</th>\n",
       "      <th>publications</th>\n",
       "      <th>influence</th>\n",
       "      <th>citations</th>\n",
       "      <th>broad_impact</th>\n",
       "      <th>patents</th>\n",
       "      <th>score</th>\n",
       "      <th>year</th>\n",
       "    </tr>\n",
       "  </thead>\n",
       "  <tbody>\n",
       "    <tr>\n",
       "      <th>200</th>\n",
       "      <td>1</td>\n",
       "      <td>Harvard University</td>\n",
       "      <td>USA</td>\n",
       "      <td>1</td>\n",
       "      <td>1</td>\n",
       "      <td>1</td>\n",
       "      <td>1</td>\n",
       "      <td>1</td>\n",
       "      <td>1</td>\n",
       "      <td>1</td>\n",
       "      <td>1.0</td>\n",
       "      <td>2</td>\n",
       "      <td>100.00</td>\n",
       "      <td>2014</td>\n",
       "    </tr>\n",
       "    <tr>\n",
       "      <th>201</th>\n",
       "      <td>2</td>\n",
       "      <td>Stanford University</td>\n",
       "      <td>USA</td>\n",
       "      <td>2</td>\n",
       "      <td>11</td>\n",
       "      <td>2</td>\n",
       "      <td>4</td>\n",
       "      <td>5</td>\n",
       "      <td>3</td>\n",
       "      <td>3</td>\n",
       "      <td>4.0</td>\n",
       "      <td>6</td>\n",
       "      <td>99.09</td>\n",
       "      <td>2014</td>\n",
       "    </tr>\n",
       "    <tr>\n",
       "      <th>202</th>\n",
       "      <td>3</td>\n",
       "      <td>Massachusetts Institute of Technology</td>\n",
       "      <td>USA</td>\n",
       "      <td>3</td>\n",
       "      <td>3</td>\n",
       "      <td>11</td>\n",
       "      <td>2</td>\n",
       "      <td>15</td>\n",
       "      <td>2</td>\n",
       "      <td>2</td>\n",
       "      <td>2.0</td>\n",
       "      <td>1</td>\n",
       "      <td>98.69</td>\n",
       "      <td>2014</td>\n",
       "    </tr>\n",
       "    <tr>\n",
       "      <th>203</th>\n",
       "      <td>4</td>\n",
       "      <td>University of Cambridge</td>\n",
       "      <td>United Kingdom</td>\n",
       "      <td>1</td>\n",
       "      <td>2</td>\n",
       "      <td>10</td>\n",
       "      <td>5</td>\n",
       "      <td>10</td>\n",
       "      <td>9</td>\n",
       "      <td>12</td>\n",
       "      <td>13.0</td>\n",
       "      <td>48</td>\n",
       "      <td>97.64</td>\n",
       "      <td>2014</td>\n",
       "    </tr>\n",
       "    <tr>\n",
       "      <th>204</th>\n",
       "      <td>5</td>\n",
       "      <td>University of Oxford</td>\n",
       "      <td>United Kingdom</td>\n",
       "      <td>2</td>\n",
       "      <td>7</td>\n",
       "      <td>12</td>\n",
       "      <td>10</td>\n",
       "      <td>11</td>\n",
       "      <td>12</td>\n",
       "      <td>11</td>\n",
       "      <td>12.0</td>\n",
       "      <td>16</td>\n",
       "      <td>97.51</td>\n",
       "      <td>2014</td>\n",
       "    </tr>\n",
       "    <tr>\n",
       "      <th>...</th>\n",
       "      <td>...</td>\n",
       "      <td>...</td>\n",
       "      <td>...</td>\n",
       "      <td>...</td>\n",
       "      <td>...</td>\n",
       "      <td>...</td>\n",
       "      <td>...</td>\n",
       "      <td>...</td>\n",
       "      <td>...</td>\n",
       "      <td>...</td>\n",
       "      <td>...</td>\n",
       "      <td>...</td>\n",
       "      <td>...</td>\n",
       "      <td>...</td>\n",
       "    </tr>\n",
       "    <tr>\n",
       "      <th>1195</th>\n",
       "      <td>996</td>\n",
       "      <td>National Dong Hwa University</td>\n",
       "      <td>Taiwan</td>\n",
       "      <td>24</td>\n",
       "      <td>355</td>\n",
       "      <td>478</td>\n",
       "      <td>210</td>\n",
       "      <td>901</td>\n",
       "      <td>934</td>\n",
       "      <td>800</td>\n",
       "      <td>989.0</td>\n",
       "      <td>737</td>\n",
       "      <td>44.24</td>\n",
       "      <td>2014</td>\n",
       "    </tr>\n",
       "    <tr>\n",
       "      <th>1196</th>\n",
       "      <td>997</td>\n",
       "      <td>National Taipei University of Technology</td>\n",
       "      <td>Taiwan</td>\n",
       "      <td>25</td>\n",
       "      <td>355</td>\n",
       "      <td>478</td>\n",
       "      <td>210</td>\n",
       "      <td>867</td>\n",
       "      <td>987</td>\n",
       "      <td>800</td>\n",
       "      <td>994.0</td>\n",
       "      <td>737</td>\n",
       "      <td>44.24</td>\n",
       "      <td>2014</td>\n",
       "    </tr>\n",
       "    <tr>\n",
       "      <th>1197</th>\n",
       "      <td>998</td>\n",
       "      <td>Shaanxi Normal University</td>\n",
       "      <td>China</td>\n",
       "      <td>82</td>\n",
       "      <td>355</td>\n",
       "      <td>478</td>\n",
       "      <td>210</td>\n",
       "      <td>956</td>\n",
       "      <td>965</td>\n",
       "      <td>800</td>\n",
       "      <td>994.0</td>\n",
       "      <td>737</td>\n",
       "      <td>44.23</td>\n",
       "      <td>2014</td>\n",
       "    </tr>\n",
       "    <tr>\n",
       "      <th>1198</th>\n",
       "      <td>999</td>\n",
       "      <td>National University of Defense Technology</td>\n",
       "      <td>China</td>\n",
       "      <td>83</td>\n",
       "      <td>355</td>\n",
       "      <td>478</td>\n",
       "      <td>210</td>\n",
       "      <td>860</td>\n",
       "      <td>973</td>\n",
       "      <td>800</td>\n",
       "      <td>999.0</td>\n",
       "      <td>637</td>\n",
       "      <td>44.21</td>\n",
       "      <td>2014</td>\n",
       "    </tr>\n",
       "    <tr>\n",
       "      <th>1199</th>\n",
       "      <td>1000</td>\n",
       "      <td>Yanbian University</td>\n",
       "      <td>China</td>\n",
       "      <td>84</td>\n",
       "      <td>355</td>\n",
       "      <td>478</td>\n",
       "      <td>210</td>\n",
       "      <td>890</td>\n",
       "      <td>790</td>\n",
       "      <td>800</td>\n",
       "      <td>1000.0</td>\n",
       "      <td>737</td>\n",
       "      <td>44.18</td>\n",
       "      <td>2014</td>\n",
       "    </tr>\n",
       "  </tbody>\n",
       "</table>\n",
       "<p>1000 rows × 14 columns</p>\n",
       "</div>"
      ],
      "text/plain": [
       "      world_rank                                institution         country  \\\n",
       "200            1                         Harvard University             USA   \n",
       "201            2                        Stanford University             USA   \n",
       "202            3      Massachusetts Institute of Technology             USA   \n",
       "203            4                    University of Cambridge  United Kingdom   \n",
       "204            5                       University of Oxford  United Kingdom   \n",
       "...          ...                                        ...             ...   \n",
       "1195         996               National Dong Hwa University          Taiwan   \n",
       "1196         997   National Taipei University of Technology          Taiwan   \n",
       "1197         998                  Shaanxi Normal University           China   \n",
       "1198         999  National University of Defense Technology           China   \n",
       "1199        1000                         Yanbian University           China   \n",
       "\n",
       "      national_rank  quality_of_education  alumni_employment  \\\n",
       "200               1                     1                  1   \n",
       "201               2                    11                  2   \n",
       "202               3                     3                 11   \n",
       "203               1                     2                 10   \n",
       "204               2                     7                 12   \n",
       "...             ...                   ...                ...   \n",
       "1195             24                   355                478   \n",
       "1196             25                   355                478   \n",
       "1197             82                   355                478   \n",
       "1198             83                   355                478   \n",
       "1199             84                   355                478   \n",
       "\n",
       "      quality_of_faculty  publications  influence  citations  broad_impact  \\\n",
       "200                    1             1          1          1           1.0   \n",
       "201                    4             5          3          3           4.0   \n",
       "202                    2            15          2          2           2.0   \n",
       "203                    5            10          9         12          13.0   \n",
       "204                   10            11         12         11          12.0   \n",
       "...                  ...           ...        ...        ...           ...   \n",
       "1195                 210           901        934        800         989.0   \n",
       "1196                 210           867        987        800         994.0   \n",
       "1197                 210           956        965        800         994.0   \n",
       "1198                 210           860        973        800         999.0   \n",
       "1199                 210           890        790        800        1000.0   \n",
       "\n",
       "      patents   score  year  \n",
       "200         2  100.00  2014  \n",
       "201         6   99.09  2014  \n",
       "202         1   98.69  2014  \n",
       "203        48   97.64  2014  \n",
       "204        16   97.51  2014  \n",
       "...       ...     ...   ...  \n",
       "1195      737   44.24  2014  \n",
       "1196      737   44.24  2014  \n",
       "1197      737   44.23  2014  \n",
       "1198      637   44.21  2014  \n",
       "1199      737   44.18  2014  \n",
       "\n",
       "[1000 rows x 14 columns]"
      ]
     },
     "execution_count": 27,
     "metadata": {},
     "output_type": "execute_result"
    }
   ],
   "source": [
    "p = uni[(uni.year==2014)] # creating df for year 2014 only\n",
    "p #display p"
   ]
  },
  {
   "cell_type": "code",
   "execution_count": 14,
   "id": "9e46a3b1-9b3d-4fe3-bfb9-c1c3b1afd17d",
   "metadata": {},
   "outputs": [
    {
     "name": "stdout",
     "output_type": "stream",
     "text": [
      "1019          National University of Ireland, Maynooth\n",
      "1176             University of Puerto Rico at Mayagüez\n",
      "938                   University of Évry Val d'Essonne\n",
      "1169                               University of Seoul\n",
      "722                               École Centrale Paris\n",
      "1148                                Ibaraki University\n",
      "1162    University of Chemistry and Technology, Prague\n",
      "822                             Albany Medical College\n",
      "1034       Queens College, City University of New York\n",
      "737                               University of Dayton\n",
      "Name: institution, dtype: object\n"
     ]
    }
   ],
   "source": [
    "top_ten = p.sort_values('publications',ascending = False).drop_duplicates()\n",
    "# sorting based on number of publications by descending order from 'p' dataframe for  year 2014\n",
    "#also duplicated values have been removed if in case !\n",
    "\n",
    "print(top_ten.institution.head(10))\n",
    "#printing 10 values from top_ten dataframe "
   ]
  },
  {
   "cell_type": "markdown",
   "id": "2cc7655b-f89c-455b-a921-ae5a24da52cd",
   "metadata": {},
   "source": [
    "**6. How many Institutes from India are available in this data in each year?**\n"
   ]
  },
  {
   "cell_type": "code",
   "execution_count": 29,
   "id": "ea4024f1-c96e-44eb-ad91-ae2dc5864476",
   "metadata": {},
   "outputs": [
    {
     "data": {
      "text/html": [
       "<div>\n",
       "<style scoped>\n",
       "    .dataframe tbody tr th:only-of-type {\n",
       "        vertical-align: middle;\n",
       "    }\n",
       "\n",
       "    .dataframe tbody tr th {\n",
       "        vertical-align: top;\n",
       "    }\n",
       "\n",
       "    .dataframe thead th {\n",
       "        text-align: right;\n",
       "    }\n",
       "</style>\n",
       "<table border=\"1\" class=\"dataframe\">\n",
       "  <thead>\n",
       "    <tr style=\"text-align: right;\">\n",
       "      <th></th>\n",
       "      <th>world_rank</th>\n",
       "      <th>institution</th>\n",
       "      <th>country</th>\n",
       "      <th>national_rank</th>\n",
       "      <th>quality_of_education</th>\n",
       "      <th>alumni_employment</th>\n",
       "      <th>quality_of_faculty</th>\n",
       "      <th>publications</th>\n",
       "      <th>influence</th>\n",
       "      <th>citations</th>\n",
       "      <th>broad_impact</th>\n",
       "      <th>patents</th>\n",
       "      <th>score</th>\n",
       "      <th>year</th>\n",
       "    </tr>\n",
       "  </thead>\n",
       "  <tbody>\n",
       "    <tr>\n",
       "      <th>1540</th>\n",
       "      <td>341</td>\n",
       "      <td>Indian Institute of Technology Delhi</td>\n",
       "      <td>India</td>\n",
       "      <td>1</td>\n",
       "      <td>367</td>\n",
       "      <td>59</td>\n",
       "      <td>218</td>\n",
       "      <td>635</td>\n",
       "      <td>943</td>\n",
       "      <td>812</td>\n",
       "      <td>781.0</td>\n",
       "      <td>625</td>\n",
       "      <td>45.54</td>\n",
       "      <td>2015</td>\n",
       "    </tr>\n",
       "    <tr>\n",
       "      <th>1578</th>\n",
       "      <td>379</td>\n",
       "      <td>University of Delhi</td>\n",
       "      <td>India</td>\n",
       "      <td>2</td>\n",
       "      <td>240</td>\n",
       "      <td>72</td>\n",
       "      <td>218</td>\n",
       "      <td>703</td>\n",
       "      <td>763</td>\n",
       "      <td>812</td>\n",
       "      <td>796.0</td>\n",
       "      <td>797</td>\n",
       "      <td>45.30</td>\n",
       "      <td>2015</td>\n",
       "    </tr>\n",
       "    <tr>\n",
       "      <th>1647</th>\n",
       "      <td>448</td>\n",
       "      <td>Indian Institute of Science</td>\n",
       "      <td>India</td>\n",
       "      <td>3</td>\n",
       "      <td>367</td>\n",
       "      <td>332</td>\n",
       "      <td>218</td>\n",
       "      <td>315</td>\n",
       "      <td>537</td>\n",
       "      <td>511</td>\n",
       "      <td>447.0</td>\n",
       "      <td>239</td>\n",
       "      <td>44.96</td>\n",
       "      <td>2015</td>\n",
       "    </tr>\n",
       "    <tr>\n",
       "      <th>1690</th>\n",
       "      <td>491</td>\n",
       "      <td>Panjab University</td>\n",
       "      <td>India</td>\n",
       "      <td>4</td>\n",
       "      <td>333</td>\n",
       "      <td>167</td>\n",
       "      <td>218</td>\n",
       "      <td>720</td>\n",
       "      <td>786</td>\n",
       "      <td>368</td>\n",
       "      <td>540.0</td>\n",
       "      <td>824</td>\n",
       "      <td>44.80</td>\n",
       "      <td>2015</td>\n",
       "    </tr>\n",
       "    <tr>\n",
       "      <th>1733</th>\n",
       "      <td>534</td>\n",
       "      <td>Indian Institute of Technology Madras</td>\n",
       "      <td>India</td>\n",
       "      <td>5</td>\n",
       "      <td>367</td>\n",
       "      <td>147</td>\n",
       "      <td>218</td>\n",
       "      <td>523</td>\n",
       "      <td>943</td>\n",
       "      <td>812</td>\n",
       "      <td>796.0</td>\n",
       "      <td>317</td>\n",
       "      <td>44.68</td>\n",
       "      <td>2015</td>\n",
       "    </tr>\n",
       "  </tbody>\n",
       "</table>\n",
       "</div>"
      ],
      "text/plain": [
       "      world_rank                            institution country  \\\n",
       "1540         341   Indian Institute of Technology Delhi   India   \n",
       "1578         379                    University of Delhi   India   \n",
       "1647         448            Indian Institute of Science   India   \n",
       "1690         491                      Panjab University   India   \n",
       "1733         534  Indian Institute of Technology Madras   India   \n",
       "\n",
       "      national_rank  quality_of_education  alumni_employment  \\\n",
       "1540              1                   367                 59   \n",
       "1578              2                   240                 72   \n",
       "1647              3                   367                332   \n",
       "1690              4                   333                167   \n",
       "1733              5                   367                147   \n",
       "\n",
       "      quality_of_faculty  publications  influence  citations  broad_impact  \\\n",
       "1540                 218           635        943        812         781.0   \n",
       "1578                 218           703        763        812         796.0   \n",
       "1647                 218           315        537        511         447.0   \n",
       "1690                 218           720        786        368         540.0   \n",
       "1733                 218           523        943        812         796.0   \n",
       "\n",
       "      patents  score  year  \n",
       "1540      625  45.54  2015  \n",
       "1578      797  45.30  2015  \n",
       "1647      239  44.96  2015  \n",
       "1690      824  44.80  2015  \n",
       "1733      317  44.68  2015  "
      ]
     },
     "execution_count": 29,
     "metadata": {},
     "output_type": "execute_result"
    }
   ],
   "source": [
    "h = uni[(uni.year)&(uni.country =='India')] #created df for 'India' and year, although year colm doesnt make any difference to the results\n",
    "# appending this df to h variable\n",
    "h.head() #display h"
   ]
  },
  {
   "cell_type": "code",
   "execution_count": 16,
   "id": "b7a6d42c-0595-4206-b07b-b204d83142bc",
   "metadata": {},
   "outputs": [
    {
     "name": "stdout",
     "output_type": "stream",
     "text": [
      "Total number of institutes that are available in this data each year are 16\n"
     ]
    }
   ],
   "source": [
    "india = pd.unique(h['institution'])#created 'india' variable to get unique list of institution names \n",
    "#and printing its length to find the element count\n",
    "\n",
    "print('Total number of institutes that are available in this data each year are',len(india))\n"
   ]
  },
  {
   "cell_type": "markdown",
   "id": "c8fcb4c6-f21c-4ff8-9442-1cb5db17e59d",
   "metadata": {},
   "source": [
    "**7. Plot a bar graph showing the number of universities from each country for 2012.**\n"
   ]
  },
  {
   "cell_type": "code",
   "execution_count": 17,
   "id": "9d3b40dc-908d-415f-8aa2-933879e0c305",
   "metadata": {},
   "outputs": [
    {
     "data": {
      "text/plain": [
       "<AxesSubplot: xlabel='country'>"
      ]
     },
     "execution_count": 17,
     "metadata": {},
     "output_type": "execute_result"
    },
    {
     "data": {
      "image/png": "[encoded data removed]",
      "text/plain": [
       "<Figure size 640x480 with 1 Axes>"
      ]
     },
     "metadata": {},
     "output_type": "display_data"
    }
   ],
   "source": [
    "uni[uni.year ==2012].groupby('country').institution.count().plot(kind = 'bar') #creating df for year 2012\n",
    "#counting no. of institutes to use it as y axis coordinates"
   ]
  },
  {
   "cell_type": "markdown",
   "id": "a2926e01-ab83-4fa7-9865-ce5f34f1ca82",
   "metadata": {},
   "source": [
    "**Que B. Data file covid19_testing.csv contains data of covid-19 testing, for the\n",
    "year 2020, done in various States and Union Territories of India. The following table\n",
    "describes each column in the dataset:**"
   ]
  },
  {
   "cell_type": "code",
   "execution_count": 18,
   "id": "a636698e-cc94-4b85-96ea-910284e9c191",
   "metadata": {},
   "outputs": [],
   "source": [
    "import pandas as pd\n",
    "import numpy as np\n",
    "import matplotlib as plt\n",
    "#imported all the packages"
   ]
  },
  {
   "cell_type": "code",
   "execution_count": 30,
   "id": "8891655d-305a-4581-b8f2-9ec893556e24",
   "metadata": {},
   "outputs": [
    {
     "data": {
      "text/html": [
       "<div>\n",
       "<style scoped>\n",
       "    .dataframe tbody tr th:only-of-type {\n",
       "        vertical-align: middle;\n",
       "    }\n",
       "\n",
       "    .dataframe tbody tr th {\n",
       "        vertical-align: top;\n",
       "    }\n",
       "\n",
       "    .dataframe thead th {\n",
       "        text-align: right;\n",
       "    }\n",
       "</style>\n",
       "<table border=\"1\" class=\"dataframe\">\n",
       "  <thead>\n",
       "    <tr style=\"text-align: right;\">\n",
       "      <th></th>\n",
       "      <th>Month</th>\n",
       "      <th>Date</th>\n",
       "      <th>State</th>\n",
       "      <th>TotalSamples</th>\n",
       "      <th>Negative</th>\n",
       "      <th>Positive</th>\n",
       "    </tr>\n",
       "  </thead>\n",
       "  <tbody>\n",
       "    <tr>\n",
       "      <th>0</th>\n",
       "      <td>4</td>\n",
       "      <td>17</td>\n",
       "      <td>Andaman and Nicobar Islands</td>\n",
       "      <td>1403</td>\n",
       "      <td>1210</td>\n",
       "      <td>12</td>\n",
       "    </tr>\n",
       "    <tr>\n",
       "      <th>1</th>\n",
       "      <td>4</td>\n",
       "      <td>2</td>\n",
       "      <td>Andhra Pradesh</td>\n",
       "      <td>1800</td>\n",
       "      <td>1175</td>\n",
       "      <td>132</td>\n",
       "    </tr>\n",
       "    <tr>\n",
       "      <th>2</th>\n",
       "      <td>4</td>\n",
       "      <td>10</td>\n",
       "      <td>Andhra Pradesh</td>\n",
       "      <td>6374</td>\n",
       "      <td>6009</td>\n",
       "      <td>365</td>\n",
       "    </tr>\n",
       "    <tr>\n",
       "      <th>3</th>\n",
       "      <td>4</td>\n",
       "      <td>11</td>\n",
       "      <td>Andhra Pradesh</td>\n",
       "      <td>6958</td>\n",
       "      <td>6577</td>\n",
       "      <td>381</td>\n",
       "    </tr>\n",
       "    <tr>\n",
       "      <th>4</th>\n",
       "      <td>4</td>\n",
       "      <td>12</td>\n",
       "      <td>Andhra Pradesh</td>\n",
       "      <td>6958</td>\n",
       "      <td>6553</td>\n",
       "      <td>405</td>\n",
       "    </tr>\n",
       "  </tbody>\n",
       "</table>\n",
       "</div>"
      ],
      "text/plain": [
       "   Month  Date                        State  TotalSamples Negative  Positive\n",
       "0      4    17  Andaman and Nicobar Islands          1403     1210        12\n",
       "1      4     2               Andhra Pradesh          1800     1175       132\n",
       "2      4    10               Andhra Pradesh          6374     6009       365\n",
       "3      4    11               Andhra Pradesh          6958     6577       381\n",
       "4      4    12               Andhra Pradesh          6958     6553       405"
      ]
     },
     "execution_count": 30,
     "metadata": {},
     "output_type": "execute_result"
    }
   ],
   "source": [
    "cov = pd.read_csv('covid19_testing.csv') #reading the DataFrame file\n",
    "cov.head() # display data frame"
   ]
  },
  {
   "cell_type": "markdown",
   "id": "1c1bcc07-c51d-4c05-9568-ed619ac10d6e",
   "metadata": {},
   "source": [
    "**1. Check the last seven rows for Karnataka.**"
   ]
  },
  {
   "cell_type": "code",
   "execution_count": 20,
   "id": "ca9e3d11-785a-4c8e-8b66-55ebd17dc168",
   "metadata": {},
   "outputs": [
    {
     "data": {
      "text/html": [
       "<div>\n",
       "<style scoped>\n",
       "    .dataframe tbody tr th:only-of-type {\n",
       "        vertical-align: middle;\n",
       "    }\n",
       "\n",
       "    .dataframe tbody tr th {\n",
       "        vertical-align: top;\n",
       "    }\n",
       "\n",
       "    .dataframe thead th {\n",
       "        text-align: right;\n",
       "    }\n",
       "</style>\n",
       "<table border=\"1\" class=\"dataframe\">\n",
       "  <thead>\n",
       "    <tr style=\"text-align: right;\">\n",
       "      <th></th>\n",
       "      <th>Month</th>\n",
       "      <th>Date</th>\n",
       "      <th>State</th>\n",
       "      <th>TotalSamples</th>\n",
       "      <th>Negative</th>\n",
       "      <th>Positive</th>\n",
       "    </tr>\n",
       "  </thead>\n",
       "  <tbody>\n",
       "    <tr>\n",
       "      <th>1473</th>\n",
       "      <td>7</td>\n",
       "      <td>16</td>\n",
       "      <td>Karnataka</td>\n",
       "      <td>925477</td>\n",
       "      <td>850593</td>\n",
       "      <td>51422</td>\n",
       "    </tr>\n",
       "    <tr>\n",
       "      <th>1474</th>\n",
       "      <td>7</td>\n",
       "      <td>17</td>\n",
       "      <td>Karnataka</td>\n",
       "      <td>953417</td>\n",
       "      <td>870466</td>\n",
       "      <td>55115</td>\n",
       "    </tr>\n",
       "    <tr>\n",
       "      <th>1475</th>\n",
       "      <td>7</td>\n",
       "      <td>18</td>\n",
       "      <td>Karnataka</td>\n",
       "      <td>982701</td>\n",
       "      <td>899016</td>\n",
       "      <td>59652</td>\n",
       "    </tr>\n",
       "    <tr>\n",
       "      <th>1476</th>\n",
       "      <td>7</td>\n",
       "      <td>19</td>\n",
       "      <td>Karnataka</td>\n",
       "      <td>999530</td>\n",
       "      <td>927945</td>\n",
       "      <td>63772</td>\n",
       "    </tr>\n",
       "    <tr>\n",
       "      <th>1477</th>\n",
       "      <td>7</td>\n",
       "      <td>20</td>\n",
       "      <td>Karnataka</td>\n",
       "      <td>1025420</td>\n",
       "      <td>958311</td>\n",
       "      <td>67420</td>\n",
       "    </tr>\n",
       "    <tr>\n",
       "      <th>1478</th>\n",
       "      <td>7</td>\n",
       "      <td>21</td>\n",
       "      <td>Karnataka</td>\n",
       "      <td>1051976</td>\n",
       "      <td>963725</td>\n",
       "      <td>71069</td>\n",
       "    </tr>\n",
       "    <tr>\n",
       "      <th>1479</th>\n",
       "      <td>7</td>\n",
       "      <td>22</td>\n",
       "      <td>Karnataka</td>\n",
       "      <td>1079749</td>\n",
       "      <td>1002045</td>\n",
       "      <td>75833</td>\n",
       "    </tr>\n",
       "  </tbody>\n",
       "</table>\n",
       "</div>"
      ],
      "text/plain": [
       "      Month  Date      State  TotalSamples Negative  Positive\n",
       "1473      7    16  Karnataka        925477   850593     51422\n",
       "1474      7    17  Karnataka        953417   870466     55115\n",
       "1475      7    18  Karnataka        982701   899016     59652\n",
       "1476      7    19  Karnataka        999530   927945     63772\n",
       "1477      7    20  Karnataka       1025420   958311     67420\n",
       "1478      7    21  Karnataka       1051976   963725     71069\n",
       "1479      7    22  Karnataka       1079749  1002045     75833"
      ]
     },
     "execution_count": 20,
     "metadata": {},
     "output_type": "execute_result"
    }
   ],
   "source": [
    "l = cov[(cov.State == 'Karnataka')] #created DataFrame for karnataka state only\n",
    "l.head() # creating df for state karnataka\n",
    "l.iloc[-7:] # checking last 7 rows for Karnataka using iloc"
   ]
  },
  {
   "cell_type": "markdown",
   "id": "1329c7e7-e954-42f0-bc0e-7e47c3478282",
   "metadata": {},
   "source": [
    "- 2. Find out for how many days data is present in the dataset for states - Tripura and\n",
    "Jharkhand.\n"
   ]
  },
  {
   "cell_type": "code",
   "execution_count": 33,
   "id": "e41e6873-dd08-473a-be5a-0b4199ea7622",
   "metadata": {},
   "outputs": [
    {
     "data": {
      "text/html": [
       "<div>\n",
       "<style scoped>\n",
       "    .dataframe tbody tr th:only-of-type {\n",
       "        vertical-align: middle;\n",
       "    }\n",
       "\n",
       "    .dataframe tbody tr th {\n",
       "        vertical-align: top;\n",
       "    }\n",
       "\n",
       "    .dataframe thead th {\n",
       "        text-align: right;\n",
       "    }\n",
       "</style>\n",
       "<table border=\"1\" class=\"dataframe\">\n",
       "  <thead>\n",
       "    <tr style=\"text-align: right;\">\n",
       "      <th></th>\n",
       "      <th>Month</th>\n",
       "      <th>Date</th>\n",
       "      <th>State</th>\n",
       "      <th>TotalSamples</th>\n",
       "      <th>Negative</th>\n",
       "      <th>Positive</th>\n",
       "    </tr>\n",
       "  </thead>\n",
       "  <tbody>\n",
       "    <tr>\n",
       "      <th>1152</th>\n",
       "      <td>4</td>\n",
       "      <td>10</td>\n",
       "      <td>Jharkhand</td>\n",
       "      <td>1340</td>\n",
       "      <td>1326</td>\n",
       "      <td>14</td>\n",
       "    </tr>\n",
       "    <tr>\n",
       "      <th>1153</th>\n",
       "      <td>4</td>\n",
       "      <td>11</td>\n",
       "      <td>Jharkhand</td>\n",
       "      <td>1546</td>\n",
       "      <td>1529</td>\n",
       "      <td>17</td>\n",
       "    </tr>\n",
       "    <tr>\n",
       "      <th>1154</th>\n",
       "      <td>4</td>\n",
       "      <td>12</td>\n",
       "      <td>Jharkhand</td>\n",
       "      <td>1683</td>\n",
       "      <td>1666</td>\n",
       "      <td>17</td>\n",
       "    </tr>\n",
       "    <tr>\n",
       "      <th>1155</th>\n",
       "      <td>4</td>\n",
       "      <td>13</td>\n",
       "      <td>Jharkhand</td>\n",
       "      <td>1982</td>\n",
       "      <td>1963</td>\n",
       "      <td>19</td>\n",
       "    </tr>\n",
       "    <tr>\n",
       "      <th>1156</th>\n",
       "      <td>4</td>\n",
       "      <td>14</td>\n",
       "      <td>Jharkhand</td>\n",
       "      <td>2334</td>\n",
       "      <td>2307</td>\n",
       "      <td>27</td>\n",
       "    </tr>\n",
       "    <tr>\n",
       "      <th>...</th>\n",
       "      <td>...</td>\n",
       "      <td>...</td>\n",
       "      <td>...</td>\n",
       "      <td>...</td>\n",
       "      <td>...</td>\n",
       "      <td>...</td>\n",
       "    </tr>\n",
       "    <tr>\n",
       "      <th>3093</th>\n",
       "      <td>6</td>\n",
       "      <td>3</td>\n",
       "      <td>Tripura</td>\n",
       "      <td>990028</td>\n",
       "      <td>936809</td>\n",
       "      <td>53219</td>\n",
       "    </tr>\n",
       "    <tr>\n",
       "      <th>3094</th>\n",
       "      <td>6</td>\n",
       "      <td>4</td>\n",
       "      <td>Tripura</td>\n",
       "      <td>1006421</td>\n",
       "      <td>952552</td>\n",
       "      <td>53869</td>\n",
       "    </tr>\n",
       "    <tr>\n",
       "      <th>3095</th>\n",
       "      <td>6</td>\n",
       "      <td>5</td>\n",
       "      <td>Tripura</td>\n",
       "      <td>1031194</td>\n",
       "      <td>976617</td>\n",
       "      <td>54577</td>\n",
       "    </tr>\n",
       "    <tr>\n",
       "      <th>3096</th>\n",
       "      <td>6</td>\n",
       "      <td>6</td>\n",
       "      <td>Tripura</td>\n",
       "      <td>1047299</td>\n",
       "      <td>992068</td>\n",
       "      <td>55231</td>\n",
       "    </tr>\n",
       "    <tr>\n",
       "      <th>3097</th>\n",
       "      <td>6</td>\n",
       "      <td>7</td>\n",
       "      <td>Tripura</td>\n",
       "      <td>1056126</td>\n",
       "      <td>1000660</td>\n",
       "      <td>55466</td>\n",
       "    </tr>\n",
       "  </tbody>\n",
       "</table>\n",
       "<p>585 rows × 6 columns</p>\n",
       "</div>"
      ],
      "text/plain": [
       "      Month  Date      State  TotalSamples Negative  Positive\n",
       "1152      4    10  Jharkhand          1340     1326        14\n",
       "1153      4    11  Jharkhand          1546     1529        17\n",
       "1154      4    12  Jharkhand          1683     1666        17\n",
       "1155      4    13  Jharkhand          1982     1963        19\n",
       "1156      4    14  Jharkhand          2334     2307        27\n",
       "...     ...   ...        ...           ...      ...       ...\n",
       "3093      6     3    Tripura        990028   936809     53219\n",
       "3094      6     4    Tripura       1006421   952552     53869\n",
       "3095      6     5    Tripura       1031194   976617     54577\n",
       "3096      6     6    Tripura       1047299   992068     55231\n",
       "3097      6     7    Tripura       1056126  1000660     55466\n",
       "\n",
       "[585 rows x 6 columns]"
      ]
     },
     "execution_count": 33,
     "metadata": {},
     "output_type": "execute_result"
    }
   ],
   "source": [
    "s = cov[(cov.State == 'Tripura') | (cov.State =='Jharkhand')] # crated DataFrame for 2 required states and assigned to s variable\n",
    "s"
   ]
  },
  {
   "cell_type": "code",
   "execution_count": 34,
   "id": "e27de0c4-bccd-463a-b472-0957b3473803",
   "metadata": {},
   "outputs": [
    {
     "data": {
      "text/plain": [
       "State\n",
       "Jharkhand    220\n",
       "Tripura      365\n",
       "Name: Date, dtype: int64"
      ]
     },
     "execution_count": 34,
     "metadata": {},
     "output_type": "execute_result"
    }
   ],
   "source": [
    "df = s.groupby('State').Date.count() #grouping together state and count of the total dates present in the  DataFrame\n",
    "df # display dataframe\n"
   ]
  },
  {
   "cell_type": "markdown",
   "id": "a83c2feb-e969-4283-b299-771e09a2ade8",
   "metadata": {},
   "source": [
    "- 3. On which day the total number of positive cases crossed the mark of 1 lakh in\n",
    "Maharashtra?"
   ]
  },
  {
   "cell_type": "code",
   "execution_count": 23,
   "id": "b135b042-0509-46d7-8199-6930e732a2ad",
   "metadata": {},
   "outputs": [
    {
     "data": {
      "text/plain": [
       "Month                     6\n",
       "Date                     13\n",
       "State           Maharashtra\n",
       "TotalSamples         643057\n",
       "Negative             535252\n",
       "Positive             101141\n",
       "Name: 1840, dtype: object"
      ]
     },
     "execution_count": 23,
     "metadata": {},
     "output_type": "execute_result"
    }
   ],
   "source": [
    "m = cov[(cov.State == 'Maharashtra')&(cov.Positive >=100000)] #created df for maharashtra and positive cases >=1 lakh\n",
    "m.iloc[0] # displaying first element at 0th index hence month and day of the occurance (crossed 1 lakh)"
   ]
  },
  {
   "cell_type": "markdown",
   "id": "dc75039c-90d3-4ae7-86e8-1a08d2e69a61",
   "metadata": {},
   "source": [
    "**4. In the year 2020, which state has tested the highest number of samples?**\n"
   ]
  },
  {
   "cell_type": "code",
   "execution_count": 24,
   "id": "6ee9e042-a674-499e-983a-ca8b65a74a6f",
   "metadata": {
    "tags": []
   },
   "outputs": [
    {
     "name": "stdout",
     "output_type": "stream",
     "text": [
      "Highest number of samples tested by: \n",
      "             State  TotalSamples\n",
      "1965  Maharashtra       8139466\n"
     ]
    }
   ],
   "source": [
    "test = cov.sort_values('TotalSamples',ascending=False) #sorting and creating new df for TotalSamples, descending order to find highest first\n",
    "#test.head(1) 3 can also used to display but it shows all columns of df\n",
    "samples = test.iloc[[1],[2,3]] #reading 1st row and column 2 and 3 showing required data\n",
    "print('Highest number of samples tested by: \\n',samples)"
   ]
  },
  {
   "cell_type": "markdown",
   "id": "1cde4d76-c294-4911-a594-0ab4051d0132",
   "metadata": {},
   "source": [
    "**5. In the year 2020, which state/UT has tested the lowest number of samples?**"
   ]
  },
  {
   "cell_type": "code",
   "execution_count": 35,
   "id": "b8f138b7-0947-40f6-a376-3ee848e37b31",
   "metadata": {
    "tags": []
   },
   "outputs": [
    {
     "name": "stdout",
     "output_type": "stream",
     "text": [
      "lowest samples tested by: \n",
      "         State  TotalSamples\n",
      "2015  Mizoram            58\n"
     ]
    }
   ],
   "source": [
    "low = cov.sort_values('TotalSamples') #sorting and creating new df for TotalSamples\n",
    "sample = low.iloc[[1],[2,3]] #locating the 1st row and 2nd+3rd column from 'low' DataFrame \n",
    "print('lowest samples tested by: \\n',sample) # printing the result"
   ]
  }
 ],
 "metadata": {
  "kernelspec": {
   "display_name": "Python 3",
   "language": "python",
   "name": "python3"
  },
  "language_info": {
   "codemirror_mode": {
    "name": "ipython",
    "version": 3
   },
   "file_extension": ".py",
   "mimetype": "text/x-python",
   "name": "python",
   "nbconvert_exporter": "python",
   "pygments_lexer": "ipython3",
   "version": "3.9.12 (main, Apr  4 2022, 05:22:27) [MSC v.1916 64 bit (AMD64)]"
  },
  "vscode": {
   "interpreter": {
    "hash": "e362d06cc908f32e8db6920f0b7bc6754cc7557171ff01d64b5f38263a887f00"
   }
  }
 },
 "nbformat": 4,
 "nbformat_minor": 5
}
