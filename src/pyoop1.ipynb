{
 "cells": [
  {
   "cell_type": "markdown",
   "id": "5b7c03a1-ac62-4277-8b20-c093b10b1c51",
   "metadata": {},
   "source": [
    "# object has 2 characteristics:\n",
    "- attributes\n",
    "- behaviour"
   ]
  },
  {
   "cell_type": "code",
   "execution_count": 1,
   "id": "5a0d74f6-cfd8-40ba-98c5-4b6de5ee06dc",
   "metadata": {},
   "outputs": [],
   "source": [
    "class Employee:\n",
    "    '''class of employee'''\n",
    "    emp_id = 101"
   ]
  },
  {
   "cell_type": "code",
   "execution_count": 2,
   "id": "456cf02f-4549-440d-8075-fb196c1d2226",
   "metadata": {},
   "outputs": [],
   "source": [
    "e  = Employee()"
   ]
  },
  {
   "cell_type": "code",
   "execution_count": 3,
   "id": "f2db29db-2fe1-4fd4-a270-48a8292af516",
   "metadata": {},
   "outputs": [
    {
     "data": {
      "text/plain": [
       "101"
      ]
     },
     "execution_count": 3,
     "metadata": {},
     "output_type": "execute_result"
    }
   ],
   "source": [
    "e.emp_id"
   ]
  },
  {
   "cell_type": "markdown",
   "id": "c7bd42d7-9864-4649-9a69-689dfb873f00",
   "metadata": {},
   "source": [
    "- constructor"
   ]
  },
  {
   "cell_type": "markdown",
   "id": "ed3fe3a0-09f8-4ab5-a576-7d4c3a5eb716",
   "metadata": {},
   "source": [
    "- constructor used to initialize objects\n",
    "- in python we use __init__() to define constructor\n",
    "- __init__() function is called automatically every time class ie being used to create  new objects"
   ]
  },
  {
   "cell_type": "code",
   "execution_count": 5,
   "id": "8a327df7-a52d-4278-9f0e-23597913de31",
   "metadata": {},
   "outputs": [],
   "source": [
    "class Employee1:\n",
    "    '''employee class'''\n",
    "    def __init__(s):\n",
    "        s.emp_name = 'nainesh'\n",
    "        s.emp_id = 101\n",
    "        s.age = 30"
   ]
  },
  {
   "cell_type": "code",
   "execution_count": 7,
   "id": "aa14eb34-cedf-460a-bc99-f4b4c180b653",
   "metadata": {},
   "outputs": [],
   "source": [
    "e1 = Employee1()"
   ]
  },
  {
   "cell_type": "code",
   "execution_count": 8,
   "id": "e81c2e36-296f-476d-a1fb-d805e194e98f",
   "metadata": {},
   "outputs": [
    {
     "data": {
      "text/plain": [
       "30"
      ]
     },
     "execution_count": 8,
     "metadata": {},
     "output_type": "execute_result"
    }
   ],
   "source": [
    "e1.age"
   ]
  },
  {
   "cell_type": "code",
   "execution_count": 11,
   "id": "866dbe70-a5e6-4922-aa10-dd65bfdf6f31",
   "metadata": {},
   "outputs": [
    {
     "data": {
      "text/plain": [
       "'nainesh'"
      ]
     },
     "execution_count": 11,
     "metadata": {},
     "output_type": "execute_result"
    }
   ],
   "source": [
    "e1.emp_name"
   ]
  },
  {
   "cell_type": "code",
   "execution_count": 18,
   "id": "de90062d-602d-4a12-b8ce-3002b0fdb6d3",
   "metadata": {},
   "outputs": [],
   "source": [
    "#parameterized constructor\n",
    "class Employee2:\n",
    "    '''employee class'''\n",
    "    def __init__(s,emp_name,emp_id,age):\n",
    "        s.emp_name  = emp_name\n",
    "        s.emp_id = emp_id\n",
    "        s.age = age\n",
    "        "
   ]
  },
  {
   "cell_type": "code",
   "execution_count": 19,
   "id": "45cdb1ef-9209-4ecd-b467-bf3f5f4ced10",
   "metadata": {},
   "outputs": [],
   "source": [
    "e2 = Employee2('nainesh',102,23)"
   ]
  },
  {
   "cell_type": "code",
   "execution_count": 20,
   "id": "bafc4961-4397-4f5c-b37d-8279fcb1027a",
   "metadata": {},
   "outputs": [
    {
     "data": {
      "text/plain": [
       "23"
      ]
     },
     "execution_count": 20,
     "metadata": {},
     "output_type": "execute_result"
    }
   ],
   "source": [
    "e2.age"
   ]
  },
  {
   "cell_type": "code",
   "execution_count": 21,
   "id": "dd4ed930-e0fa-4932-9085-836cfa01a53d",
   "metadata": {},
   "outputs": [
    {
     "data": {
      "text/plain": [
       "'nainesh'"
      ]
     },
     "execution_count": 21,
     "metadata": {},
     "output_type": "execute_result"
    }
   ],
   "source": [
    "e2.emp_name"
   ]
  },
  {
   "cell_type": "code",
   "execution_count": 23,
   "id": "017869c6-a950-4196-b373-500088e54673",
   "metadata": {},
   "outputs": [],
   "source": [
    "emp4 = Employee2(age = 24,emp_name = 'nitin',emp_id = 103)"
   ]
  },
  {
   "cell_type": "code",
   "execution_count": 26,
   "id": "4704fad4-8633-4920-93cf-e714b3d15133",
   "metadata": {},
   "outputs": [
    {
     "data": {
      "text/plain": [
       "103"
      ]
     },
     "execution_count": 26,
     "metadata": {},
     "output_type": "execute_result"
    }
   ],
   "source": [
    "emp4.emp_id"
   ]
  },
  {
   "cell_type": "code",
   "execution_count": 27,
   "id": "768d19e6-0b14-4a14-ad23-cb7115a99423",
   "metadata": {},
   "outputs": [],
   "source": [
    "emp4.emp_name = 'aditya'"
   ]
  },
  {
   "cell_type": "code",
   "execution_count": 28,
   "id": "b7404bdc-3ac3-498a-aa09-3ea482a0de0d",
   "metadata": {},
   "outputs": [
    {
     "data": {
      "text/plain": [
       "'aditya'"
      ]
     },
     "execution_count": 28,
     "metadata": {},
     "output_type": "execute_result"
    }
   ],
   "source": [
    "emp4.emp_name"
   ]
  },
  {
   "cell_type": "markdown",
   "id": "1e8741b8-3143-4d4e-9c8f-d601f978e990",
   "metadata": {},
   "source": [
    "# OBJECT METHODS"
   ]
  },
  {
   "cell_type": "code",
   "execution_count": 37,
   "id": "9d640b2f-baed-4778-b2ac-c59233313b0f",
   "metadata": {},
   "outputs": [],
   "source": [
    "class Employee4:\n",
    "    '''class of employees'''\n",
    "    def __init__(s,emp_name = 'nainesh',emp_id =101,age = 24):\n",
    "        s.emp_name = emp_name\n",
    "        s.emp_id = emp_id\n",
    "        \n",
    "    def get_details(s):\n",
    "        '''dislplay employee details'''\n",
    "        print('emp name is: ',s.name)\n",
    "        print('emp id is: ',s.emp_id)\n",
    "        print('age is: ',s.age)\n",
    "        \n",
    "    "
   ]
  },
  {
   "cell_type": "code",
   "execution_count": 38,
   "id": "0de9b259-7a55-45ec-8efe-a1276946738f",
   "metadata": {},
   "outputs": [],
   "source": [
    "x = Employee4()"
   ]
  },
  {
   "cell_type": "code",
   "execution_count": 39,
   "id": "8e16c752-00ca-452b-b49c-d04bf21b6d3b",
   "metadata": {},
   "outputs": [
    {
     "ename": "AttributeError",
     "evalue": "'Employee4' object has no attribute 'name'",
     "output_type": "error",
     "traceback": [
      "\u001b[1;31m---------------------------------------------------------------------------\u001b[0m",
      "\u001b[1;31mAttributeError\u001b[0m                            Traceback (most recent call last)",
      "Cell \u001b[1;32mIn [39], line 1\u001b[0m\n\u001b[1;32m----> 1\u001b[0m \u001b[43mx\u001b[49m\u001b[38;5;241;43m.\u001b[39;49m\u001b[43mget_details\u001b[49m\u001b[43m(\u001b[49m\u001b[43m)\u001b[49m\n",
      "Cell \u001b[1;32mIn [37], line 9\u001b[0m, in \u001b[0;36mEmployee4.get_details\u001b[1;34m(s)\u001b[0m\n\u001b[0;32m      7\u001b[0m \u001b[38;5;28;01mdef\u001b[39;00m \u001b[38;5;21mget_details\u001b[39m(s):\n\u001b[0;32m      8\u001b[0m     \u001b[38;5;124;03m'''dislplay employee details'''\u001b[39;00m\n\u001b[1;32m----> 9\u001b[0m     \u001b[38;5;28mprint\u001b[39m(\u001b[38;5;124m'\u001b[39m\u001b[38;5;124memp name is: \u001b[39m\u001b[38;5;124m'\u001b[39m,\u001b[43ms\u001b[49m\u001b[38;5;241;43m.\u001b[39;49m\u001b[43mname\u001b[49m)\n\u001b[0;32m     10\u001b[0m     \u001b[38;5;28mprint\u001b[39m(\u001b[38;5;124m'\u001b[39m\u001b[38;5;124memp id is: \u001b[39m\u001b[38;5;124m'\u001b[39m,s\u001b[38;5;241m.\u001b[39memp_id)\n\u001b[0;32m     11\u001b[0m     \u001b[38;5;28mprint\u001b[39m(\u001b[38;5;124m'\u001b[39m\u001b[38;5;124mage is: \u001b[39m\u001b[38;5;124m'\u001b[39m,s\u001b[38;5;241m.\u001b[39mage)\n",
      "\u001b[1;31mAttributeError\u001b[0m: 'Employee4' object has no attribute 'name'"
     ]
    }
   ],
   "source": [
    "x.get_details()\n"
   ]
  },
  {
   "cell_type": "code",
   "execution_count": null,
   "id": "88d1ddb9-b0dc-4651-8723-e2bf1f73739c",
   "metadata": {},
   "outputs": [],
   "source": []
  }
 ],
 "metadata": {
  "kernelspec": {
   "display_name": "Python 3 (ipykernel)",
   "language": "python",
   "name": "python3"
  },
  "language_info": {
   "codemirror_mode": {
    "name": "ipython",
    "version": 3
   },
   "file_extension": ".py",
   "mimetype": "text/x-python",
   "name": "python",
   "nbconvert_exporter": "python",
   "pygments_lexer": "ipython3",
   "version": "3.9.12"
  }
 },
 "nbformat": 4,
 "nbformat_minor": 5
}
